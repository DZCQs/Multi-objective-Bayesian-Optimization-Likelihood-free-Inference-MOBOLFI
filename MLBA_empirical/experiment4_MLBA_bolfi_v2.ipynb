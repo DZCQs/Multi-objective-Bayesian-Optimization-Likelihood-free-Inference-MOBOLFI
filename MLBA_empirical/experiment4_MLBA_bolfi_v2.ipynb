{
 "cells": [
  {
   "cell_type": "markdown",
   "metadata": {
    "id": "J-CZ-MbpoQ4K"
   },
   "source": [
    "**MO-BOLFI**"
   ]
  },
  {
   "cell_type": "markdown",
   "metadata": {
    "id": "sKmN-E8Nnq6j"
   },
   "source": [
    "The notebook presents an implementation of Multi-objective BOLFI algorithm (arxiv link)\n",
    "The dataset used is self-collected data for psychology analysis in decision-making (description here).\n",
    "Feel free to contact e1039688@u.nus.edu if you have any question regarding the paper and the codes"
   ]
  },
  {
   "cell_type": "code",
   "execution_count": 1,
   "metadata": {
    "executionInfo": {
     "elapsed": 1720,
     "status": "ok",
     "timestamp": 1701845050065,
     "user": {
      "displayName": "Zichuan C",
      "userId": "17818169017923043377"
     },
     "user_tz": -480
    },
    "id": "F9hGNvj4bIyQ",
    "metadata": {},
    "pycharm": {
     "is_executing": true
    }
   },
   "outputs": [],
   "source": [
    "import numpy as np\n",
    "import pandas as pd\n",
    "import matplotlib.pyplot as plt\n",
    "import random\n",
    "import os\n",
    "from sklearn.gaussian_process import GaussianProcessRegressor\n",
    "from sklearn.gaussian_process.kernels import ConstantKernel, Matern\n",
    "from scipy.optimize import minimize"
   ]
  },
  {
   "cell_type": "code",
   "execution_count": null,
   "metadata": {
    "executionInfo": {
     "elapsed": 3,
     "status": "ok",
     "timestamp": 1701845050065,
     "user": {
      "displayName": "Zichuan C",
      "userId": "17818169017923043377"
     },
     "user_tz": -480
    },
    "id": "ueOwITxSbWff",
    "metadata": {},
    "pycharm": {
     "is_executing": true
    }
   },
   "outputs": [
    {
     "data": {
      "text/html": [
       "<div>\n",
       "<style scoped>\n",
       "    .dataframe tbody tr th:only-of-type {\n",
       "        vertical-align: middle;\n",
       "    }\n",
       "\n",
       "    .dataframe tbody tr th {\n",
       "        vertical-align: top;\n",
       "    }\n",
       "\n",
       "    .dataframe thead th {\n",
       "        text-align: right;\n",
       "    }\n",
       "</style>\n",
       "<table border=\"1\" class=\"dataframe\">\n",
       "  <thead>\n",
       "    <tr style=\"text-align: right;\">\n",
       "      <th></th>\n",
       "      <th>Unnamed: 0</th>\n",
       "      <th>ID</th>\n",
       "      <th>Scenario</th>\n",
       "      <th>alt</th>\n",
       "      <th>chosen</th>\n",
       "      <th>RC</th>\n",
       "      <th>OC</th>\n",
       "      <th>DR</th>\n",
       "      <th>CT</th>\n",
       "      <th>WT</th>\n",
       "      <th>...</th>\n",
       "      <th>AT4_1</th>\n",
       "      <th>AT4_2</th>\n",
       "      <th>AT4_3</th>\n",
       "      <th>nationality</th>\n",
       "      <th>Gender</th>\n",
       "      <th>marital</th>\n",
       "      <th>age</th>\n",
       "      <th>experience_months</th>\n",
       "      <th>income</th>\n",
       "      <th>education</th>\n",
       "    </tr>\n",
       "  </thead>\n",
       "  <tbody>\n",
       "    <tr>\n",
       "      <th>0</th>\n",
       "      <td>0</td>\n",
       "      <td>R_3fZBQYRcTj6rtUC</td>\n",
       "      <td>IND1.3</td>\n",
       "      <td>1</td>\n",
       "      <td>1</td>\n",
       "      <td>3000</td>\n",
       "      <td>45</td>\n",
       "      <td>550</td>\n",
       "      <td>11.5</td>\n",
       "      <td>NaN</td>\n",
       "      <td>...</td>\n",
       "      <td>3.0</td>\n",
       "      <td>2.0</td>\n",
       "      <td>2.0</td>\n",
       "      <td>4.0</td>\n",
       "      <td>2.0</td>\n",
       "      <td>1.0</td>\n",
       "      <td>68.0</td>\n",
       "      <td>300.0</td>\n",
       "      <td>1.5</td>\n",
       "      <td>2.0</td>\n",
       "    </tr>\n",
       "    <tr>\n",
       "      <th>1</th>\n",
       "      <td>1</td>\n",
       "      <td>R_3fZBQYRcTj6rtUC</td>\n",
       "      <td>IND1.3</td>\n",
       "      <td>3</td>\n",
       "      <td>0</td>\n",
       "      <td>3900</td>\n",
       "      <td>14</td>\n",
       "      <td>350</td>\n",
       "      <td>18</td>\n",
       "      <td>NaN</td>\n",
       "      <td>...</td>\n",
       "      <td>3.0</td>\n",
       "      <td>2.0</td>\n",
       "      <td>2.0</td>\n",
       "      <td>4.0</td>\n",
       "      <td>2.0</td>\n",
       "      <td>1.0</td>\n",
       "      <td>68.0</td>\n",
       "      <td>300.0</td>\n",
       "      <td>1.5</td>\n",
       "      <td>2.0</td>\n",
       "    </tr>\n",
       "    <tr>\n",
       "      <th>2</th>\n",
       "      <td>2</td>\n",
       "      <td>R_3fZBQYRcTj6rtUC</td>\n",
       "      <td>IND1.2</td>\n",
       "      <td>1</td>\n",
       "      <td>1</td>\n",
       "      <td>3000</td>\n",
       "      <td>45</td>\n",
       "      <td>550</td>\n",
       "      <td>11.5</td>\n",
       "      <td>NaN</td>\n",
       "      <td>...</td>\n",
       "      <td>3.0</td>\n",
       "      <td>2.0</td>\n",
       "      <td>2.0</td>\n",
       "      <td>4.0</td>\n",
       "      <td>2.0</td>\n",
       "      <td>1.0</td>\n",
       "      <td>68.0</td>\n",
       "      <td>300.0</td>\n",
       "      <td>1.5</td>\n",
       "      <td>2.0</td>\n",
       "    </tr>\n",
       "    <tr>\n",
       "      <th>3</th>\n",
       "      <td>3</td>\n",
       "      <td>R_3fZBQYRcTj6rtUC</td>\n",
       "      <td>IND1.2</td>\n",
       "      <td>3</td>\n",
       "      <td>0</td>\n",
       "      <td>3600</td>\n",
       "      <td>14</td>\n",
       "      <td>350</td>\n",
       "      <td>18</td>\n",
       "      <td>NaN</td>\n",
       "      <td>...</td>\n",
       "      <td>3.0</td>\n",
       "      <td>2.0</td>\n",
       "      <td>2.0</td>\n",
       "      <td>4.0</td>\n",
       "      <td>2.0</td>\n",
       "      <td>1.0</td>\n",
       "      <td>68.0</td>\n",
       "      <td>300.0</td>\n",
       "      <td>1.5</td>\n",
       "      <td>2.0</td>\n",
       "    </tr>\n",
       "    <tr>\n",
       "      <th>4</th>\n",
       "      <td>4</td>\n",
       "      <td>R_3fZBQYRcTj6rtUC</td>\n",
       "      <td>IND1.1</td>\n",
       "      <td>1</td>\n",
       "      <td>1</td>\n",
       "      <td>3000</td>\n",
       "      <td>45</td>\n",
       "      <td>550</td>\n",
       "      <td>11.5</td>\n",
       "      <td>NaN</td>\n",
       "      <td>...</td>\n",
       "      <td>3.0</td>\n",
       "      <td>2.0</td>\n",
       "      <td>2.0</td>\n",
       "      <td>4.0</td>\n",
       "      <td>2.0</td>\n",
       "      <td>1.0</td>\n",
       "      <td>68.0</td>\n",
       "      <td>300.0</td>\n",
       "      <td>1.5</td>\n",
       "      <td>2.0</td>\n",
       "    </tr>\n",
       "  </tbody>\n",
       "</table>\n",
       "<p>5 rows × 72 columns</p>\n",
       "</div>"
      ],
      "text/plain": [
       "   Unnamed: 0                 ID Scenario  alt  chosen    RC  OC   DR    CT  \\\n",
       "0           0  R_3fZBQYRcTj6rtUC   IND1.3    1       1  3000  45  550  11.5   \n",
       "1           1  R_3fZBQYRcTj6rtUC   IND1.3    3       0  3900  14  350    18   \n",
       "2           2  R_3fZBQYRcTj6rtUC   IND1.2    1       1  3000  45  550  11.5   \n",
       "3           3  R_3fZBQYRcTj6rtUC   IND1.2    3       0  3600  14  350    18   \n",
       "4           4  R_3fZBQYRcTj6rtUC   IND1.1    1       1  3000  45  550  11.5   \n",
       "\n",
       "   WT  ...  AT4_1  AT4_2  AT4_3  nationality  Gender  marital   age  \\\n",
       "0 NaN  ...    3.0    2.0    2.0          4.0     2.0      1.0  68.0   \n",
       "1 NaN  ...    3.0    2.0    2.0          4.0     2.0      1.0  68.0   \n",
       "2 NaN  ...    3.0    2.0    2.0          4.0     2.0      1.0  68.0   \n",
       "3 NaN  ...    3.0    2.0    2.0          4.0     2.0      1.0  68.0   \n",
       "4 NaN  ...    3.0    2.0    2.0          4.0     2.0      1.0  68.0   \n",
       "\n",
       "   experience_months  income  education   \n",
       "0              300.0     1.5         2.0  \n",
       "1              300.0     1.5         2.0  \n",
       "2              300.0     1.5         2.0  \n",
       "3              300.0     1.5         2.0  \n",
       "4              300.0     1.5         2.0  \n",
       "\n",
       "[5 rows x 72 columns]"
      ]
     },
     "execution_count": 2,
     "metadata": {},
     "output_type": "execute_result"
    }
   ],
   "source": [
    "df = pd.read_csv(\"empirical_data.csv\")\n",
    "df.head(5)\n"
   ]
  },
  {
   "cell_type": "markdown",
   "metadata": {
    "id": "UKeKqIcW8qDB"
   },
   "source": [
    "**Data Preprocessing**"
   ]
  },
  {
   "cell_type": "markdown",
   "metadata": {
    "id": "8C1grVYRphfo"
   },
   "source": [
    "We use all the A and S scenarios. There are 320 observations in the scenarios we use. Each observation represents a candidate answered a question \"Which one would you like to choose?\" under A1.1 from 3 alternatives (denoted as 1, 3, 4 respectively in raw data), given 3 attributes values for each alternative. The final choice made and fixation trail of each candidate are recorded.\n",
    "\n",
    "\n",
    "3 attributes:\n",
    "\n",
    "RC - Renting cost (per month)\n",
    "\n",
    "OC - Operating cost (per day)\n",
    "\n",
    "DR - Driving range\n",
    "\n",
    "\n",
    "The outcome from candidates are fixation_trail and choice. Fixation_trail is the aggregated time of fixation during the scenario. The choice is the final chosen alternative of the candidate."
   ]
  },
  {
   "cell_type": "code",
   "execution_count": 3,
   "metadata": {
    "executionInfo": {
     "elapsed": 2,
     "status": "ok",
     "timestamp": 1701845050065,
     "user": {
      "displayName": "Zichuan C",
      "userId": "17818169017923043377"
     },
     "user_tz": -480
    },
    "id": "mTswlHRNLiSi",
    "metadata": {},
    "pycharm": {
     "is_executing": true
    }
   },
   "outputs": [],
   "source": [
    "# define hyper params\n",
    "\n",
    "number_of_alternatives = 3\n",
    "number_of_attributes = 2\n",
    "number_of_discrepancies = 1\n"
   ]
  },
  {
   "cell_type": "code",
   "execution_count": 4,
   "metadata": {
    "executionInfo": {
     "elapsed": 580,
     "status": "ok",
     "timestamp": 1701845050643,
     "user": {
      "displayName": "Zichuan C",
      "userId": "17818169017923043377"
     },
     "user_tz": -480
    },
    "id": "VumGzESQboZM",
    "metadata": {},
    "pycharm": {
     "is_executing": true
    }
   },
   "outputs": [
    {
     "data": {
      "text/html": [
       "<div>\n",
       "<style scoped>\n",
       "    .dataframe tbody tr th:only-of-type {\n",
       "        vertical-align: middle;\n",
       "    }\n",
       "\n",
       "    .dataframe tbody tr th {\n",
       "        vertical-align: top;\n",
       "    }\n",
       "\n",
       "    .dataframe thead th {\n",
       "        text-align: right;\n",
       "    }\n",
       "</style>\n",
       "<table border=\"1\" class=\"dataframe\">\n",
       "  <thead>\n",
       "    <tr style=\"text-align: right;\">\n",
       "      <th></th>\n",
       "      <th>Unnamed: 0</th>\n",
       "      <th>ID</th>\n",
       "      <th>Scenario</th>\n",
       "      <th>alt</th>\n",
       "      <th>chosen</th>\n",
       "      <th>RC</th>\n",
       "      <th>OC</th>\n",
       "      <th>DR</th>\n",
       "      <th>CT</th>\n",
       "      <th>WT</th>\n",
       "      <th>...</th>\n",
       "      <th>AT4_1</th>\n",
       "      <th>AT4_2</th>\n",
       "      <th>AT4_3</th>\n",
       "      <th>nationality</th>\n",
       "      <th>Gender</th>\n",
       "      <th>marital</th>\n",
       "      <th>age</th>\n",
       "      <th>experience_months</th>\n",
       "      <th>income</th>\n",
       "      <th>education</th>\n",
       "    </tr>\n",
       "  </thead>\n",
       "  <tbody>\n",
       "    <tr>\n",
       "      <th>208</th>\n",
       "      <td>208</td>\n",
       "      <td>R_1MMyGP7w3EwTfMC</td>\n",
       "      <td>A1.1</td>\n",
       "      <td>1</td>\n",
       "      <td>0</td>\n",
       "      <td>3000</td>\n",
       "      <td>41</td>\n",
       "      <td>600</td>\n",
       "      <td>13</td>\n",
       "      <td>NaN</td>\n",
       "      <td>...</td>\n",
       "      <td>1.0</td>\n",
       "      <td>2.0</td>\n",
       "      <td>2.0</td>\n",
       "      <td>4.0</td>\n",
       "      <td>2.0</td>\n",
       "      <td>1.0</td>\n",
       "      <td>45.0</td>\n",
       "      <td>96.0</td>\n",
       "      <td>2.5</td>\n",
       "      <td>3.0</td>\n",
       "    </tr>\n",
       "    <tr>\n",
       "      <th>209</th>\n",
       "      <td>209</td>\n",
       "      <td>R_1MMyGP7w3EwTfMC</td>\n",
       "      <td>A1.1</td>\n",
       "      <td>3</td>\n",
       "      <td>1</td>\n",
       "      <td>3000</td>\n",
       "      <td>17</td>\n",
       "      <td>350</td>\n",
       "      <td>22</td>\n",
       "      <td>NaN</td>\n",
       "      <td>...</td>\n",
       "      <td>1.0</td>\n",
       "      <td>2.0</td>\n",
       "      <td>2.0</td>\n",
       "      <td>4.0</td>\n",
       "      <td>2.0</td>\n",
       "      <td>1.0</td>\n",
       "      <td>45.0</td>\n",
       "      <td>96.0</td>\n",
       "      <td>2.5</td>\n",
       "      <td>3.0</td>\n",
       "    </tr>\n",
       "    <tr>\n",
       "      <th>210</th>\n",
       "      <td>210</td>\n",
       "      <td>R_1MMyGP7w3EwTfMC</td>\n",
       "      <td>A1.1</td>\n",
       "      <td>4</td>\n",
       "      <td>0</td>\n",
       "      <td>2950</td>\n",
       "      <td>17</td>\n",
       "      <td>250</td>\n",
       "      <td>31</td>\n",
       "      <td>NaN</td>\n",
       "      <td>...</td>\n",
       "      <td>1.0</td>\n",
       "      <td>2.0</td>\n",
       "      <td>2.0</td>\n",
       "      <td>4.0</td>\n",
       "      <td>2.0</td>\n",
       "      <td>1.0</td>\n",
       "      <td>45.0</td>\n",
       "      <td>96.0</td>\n",
       "      <td>2.5</td>\n",
       "      <td>3.0</td>\n",
       "    </tr>\n",
       "    <tr>\n",
       "      <th>430</th>\n",
       "      <td>430</td>\n",
       "      <td>R_1I4bJytxmiu84aS</td>\n",
       "      <td>A1.1</td>\n",
       "      <td>1</td>\n",
       "      <td>0</td>\n",
       "      <td>3000</td>\n",
       "      <td>23</td>\n",
       "      <td>850</td>\n",
       "      <td>5.5</td>\n",
       "      <td>NaN</td>\n",
       "      <td>...</td>\n",
       "      <td>2.0</td>\n",
       "      <td>2.0</td>\n",
       "      <td>2.0</td>\n",
       "      <td>4.0</td>\n",
       "      <td>2.0</td>\n",
       "      <td>1.0</td>\n",
       "      <td>55.0</td>\n",
       "      <td>156.0</td>\n",
       "      <td>2.5</td>\n",
       "      <td>3.0</td>\n",
       "    </tr>\n",
       "    <tr>\n",
       "      <th>431</th>\n",
       "      <td>431</td>\n",
       "      <td>R_1I4bJytxmiu84aS</td>\n",
       "      <td>A1.1</td>\n",
       "      <td>3</td>\n",
       "      <td>0</td>\n",
       "      <td>3000</td>\n",
       "      <td>14</td>\n",
       "      <td>500</td>\n",
       "      <td>9</td>\n",
       "      <td>NaN</td>\n",
       "      <td>...</td>\n",
       "      <td>2.0</td>\n",
       "      <td>2.0</td>\n",
       "      <td>2.0</td>\n",
       "      <td>4.0</td>\n",
       "      <td>2.0</td>\n",
       "      <td>1.0</td>\n",
       "      <td>55.0</td>\n",
       "      <td>156.0</td>\n",
       "      <td>2.5</td>\n",
       "      <td>3.0</td>\n",
       "    </tr>\n",
       "  </tbody>\n",
       "</table>\n",
       "<p>5 rows × 72 columns</p>\n",
       "</div>"
      ],
      "text/plain": [
       "     Unnamed: 0                 ID Scenario  alt  chosen    RC  OC   DR   CT  \\\n",
       "208         208  R_1MMyGP7w3EwTfMC     A1.1    1       0  3000  41  600   13   \n",
       "209         209  R_1MMyGP7w3EwTfMC     A1.1    3       1  3000  17  350   22   \n",
       "210         210  R_1MMyGP7w3EwTfMC     A1.1    4       0  2950  17  250   31   \n",
       "430         430  R_1I4bJytxmiu84aS     A1.1    1       0  3000  23  850  5.5   \n",
       "431         431  R_1I4bJytxmiu84aS     A1.1    3       0  3000  14  500    9   \n",
       "\n",
       "     WT  ...  AT4_1  AT4_2  AT4_3  nationality  Gender  marital   age  \\\n",
       "208 NaN  ...    1.0    2.0    2.0          4.0     2.0      1.0  45.0   \n",
       "209 NaN  ...    1.0    2.0    2.0          4.0     2.0      1.0  45.0   \n",
       "210 NaN  ...    1.0    2.0    2.0          4.0     2.0      1.0  45.0   \n",
       "430 NaN  ...    2.0    2.0    2.0          4.0     2.0      1.0  55.0   \n",
       "431 NaN  ...    2.0    2.0    2.0          4.0     2.0      1.0  55.0   \n",
       "\n",
       "     experience_months  income  education   \n",
       "208               96.0     2.5         3.0  \n",
       "209               96.0     2.5         3.0  \n",
       "210               96.0     2.5         3.0  \n",
       "430              156.0     2.5         3.0  \n",
       "431              156.0     2.5         3.0  \n",
       "\n",
       "[5 rows x 72 columns]"
      ]
     },
     "execution_count": 4,
     "metadata": {},
     "output_type": "execute_result"
    }
   ],
   "source": [
    "# Add data scenarios one by one for convenient adding & deleting new data\n",
    "df_data = df[df.Scenario == \"A1.1\"]\n",
    "df_data = pd.concat([df_data, df[df.Scenario == \"A1.1R\"]],axis=0)\n",
    "df_data = pd.concat([df_data, df[df.Scenario == \"A1.2\"]],axis=0)\n",
    "df_data = pd.concat([df_data, df[df.Scenario == \"A1.2R\"]],axis=0)\n",
    "df_data = pd.concat([df_data, df[df.Scenario == \"A1.3\"]],axis=0)\n",
    "df_data = pd.concat([df_data, df[df.Scenario == \"A1.3R\"]],axis=0)\n",
    "df_data = pd.concat([df_data, df[df.Scenario == \"A1.4\"]],axis=0)\n",
    "df_data = pd.concat([df_data, df[df.Scenario == \"A1.4R\"]],axis=0)\n",
    "\n",
    "\n",
    "\n",
    "\n",
    "# Standardize attributes data\n",
    "# There are 3 attributes RC OC DR CT\n",
    "# Response time column: fixation trail\n",
    " \n",
    "df_data.drop(df_data[(df_data.ID==\"R_2xESOZsu1b0DK9W\")|(df_data.ID==\"R_1kUrkeP2G5SzhZ9\")|(df_data.ID==\"R_3MLEPJF4WwO69ZI\")|(df_data.ID==\"R_28O4cGfWMqm0fkg\")|(df_data.ID==\"R_3lMIUHexfItTFyN\")|(df_data.ID==\"R_3HohVlDFTj1gqWK\")].index,inplace= True)\n",
    "\n",
    "\n",
    "#  remove observations whose RT is outlier\n",
    "\n",
    "rt_mean = np.mean(df_data.time)\n",
    "\n",
    "rt_std =  np.std(df_data.time)\n",
    "\n",
    "\n",
    "df_data.drop(df_data[(df_data.time<np.max([0,(rt_mean-3*rt_std)]))|(df_data.time>(rt_mean+3*rt_std))].index,inplace= True)\n",
    "\n",
    "df_data.head(5)"
   ]
  },
  {
   "cell_type": "code",
   "execution_count": 5,
   "metadata": {
    "pycharm": {
     "is_executing": true
    }
   },
   "outputs": [
    {
     "name": "stdout",
     "output_type": "stream",
     "text": [
      "          TC1       DR1       TC3       DR3\n",
      "0    0.281256  0.615385  0.492271  0.230769\n",
      "1    0.497295  1.000000  0.553816  0.461538\n",
      "2    0.680580  0.615385  0.861449  0.230769\n",
      "3    0.751884  0.923077  0.833527  0.461538\n",
      "4    0.652367  1.000000  0.727729  0.461538\n",
      "..        ...       ...       ...       ...\n",
      "579  0.532077  0.769231  0.758164  0.307692\n",
      "580  0.576329  0.692308  0.840097  0.307692\n",
      "581  0.290048  0.769231  0.465894  0.307692\n",
      "582  0.748406  0.615385  0.848696  0.230769\n",
      "583  0.590145  0.538462  0.884058  0.230769\n",
      "\n",
      "[584 rows x 4 columns]\n"
     ]
    }
   ],
   "source": [
    "# RC & OC & DR\n",
    "X_matrix = np.array(df_data[[\"RC\",\"OC\",\"DR\",\"Freq_p_week\"]].astype(\"float64\"))\n",
    "\n",
    "# RC, OC are expected to be small, DR is expected to be large\n",
    "# Transform the columns RC OC to unify the direction of optimization\n",
    "# totoal cost\n",
    "X_matrix[:,0] = -X_matrix[:,0]-X_matrix[:,1]*X_matrix[:,3]*52/12\n",
    "\n",
    "X_matrix[:,2] = X_matrix[:,2]\n",
    "\n",
    "X_matrix[:,0] = (X_matrix[:,0]-X_matrix[:,0].min())/(X_matrix[:,0].max()-X_matrix[:,0].min())\n",
    "\n",
    "X_matrix[:,2] = (X_matrix[:,2]-X_matrix[:,2].min())/(X_matrix[:,2].max()-X_matrix[:,2].min())\n",
    "\n",
    "X_attributes = pd.DataFrame(np.take(X_matrix, [0,2], axis = 1))\n",
    "\n",
    "\n",
    "X_attributes = pd.DataFrame(X_attributes.values.reshape(X_attributes.shape[0]//number_of_alternatives, number_of_attributes*number_of_alternatives),\n",
    "                    columns=['TC1','DR1', 'TC3','DR3', 'TC4', 'DR4']) \n",
    "\n",
    "# X_attributes\n",
    "\n",
    "X_attributes2 = pd.DataFrame(np.take(np.array(X_attributes),[0,1,2,3],axis = 1),\n",
    "                             columns=['TC1','DR1', 'TC3','DR3'])\n",
    "print(X_attributes2)"
   ]
  },
  {
   "cell_type": "code",
   "execution_count": 6,
   "metadata": {
    "colab": {
     "base_uri": "https://localhost:8080/"
    },
    "executionInfo": {
     "elapsed": 15,
     "status": "ok",
     "timestamp": 1701845050643,
     "user": {
      "displayName": "Zichuan C",
      "userId": "17818169017923043377"
     },
     "user_tz": -480
    },
    "id": "sj8O-ojvcQUv",
    "metadata": {},
    "outputId": "995e5c14-0957-4518-9c5a-bf202e1ef734",
    "pycharm": {
     "is_executing": true
    }
   },
   "outputs": [
    {
     "name": "stderr",
     "output_type": "stream",
     "text": [
      "C:\\Users\\e0729936\\AppData\\Local\\Temp\\ipykernel_36656\\1428476389.py:7: SettingWithCopyWarning: \n",
      "A value is trying to be set on a copy of a slice from a DataFrame.\n",
      "Try using .loc[row_indexer,col_indexer] = value instead\n",
      "\n",
      "See the caveats in the documentation: https://pandas.pydata.org/pandas-docs/stable/user_guide/indexing.html#returning-a-view-versus-a-copy\n",
      "  X_response[[\"time\"]] = X_response[[\"time\"]] # for online dataset\n",
      "C:\\Users\\e0729936\\AppData\\Local\\Temp\\ipykernel_36656\\1428476389.py:9: SettingWithCopyWarning: \n",
      "A value is trying to be set on a copy of a slice from a DataFrame.\n",
      "Try using .loc[row_indexer,col_indexer] = value instead\n",
      "\n",
      "See the caveats in the documentation: https://pandas.pydata.org/pandas-docs/stable/user_guide/indexing.html#returning-a-view-versus-a-copy\n",
      "  X_response[\"chosen1\"] = 1*(X_response['chosen']==1)*(X_response[\"alt\"]==1)\n",
      "C:\\Users\\e0729936\\AppData\\Local\\Temp\\ipykernel_36656\\1428476389.py:10: SettingWithCopyWarning: \n",
      "A value is trying to be set on a copy of a slice from a DataFrame.\n",
      "Try using .loc[row_indexer,col_indexer] = value instead\n",
      "\n",
      "See the caveats in the documentation: https://pandas.pydata.org/pandas-docs/stable/user_guide/indexing.html#returning-a-view-versus-a-copy\n",
      "  X_response[\"chosen3\"] = 1*(X_response['chosen']==1)*(X_response[\"alt\"]==3)\n",
      "C:\\Users\\e0729936\\AppData\\Local\\Temp\\ipykernel_36656\\1428476389.py:11: SettingWithCopyWarning: \n",
      "A value is trying to be set on a copy of a slice from a DataFrame.\n",
      "Try using .loc[row_indexer,col_indexer] = value instead\n",
      "\n",
      "See the caveats in the documentation: https://pandas.pydata.org/pandas-docs/stable/user_guide/indexing.html#returning-a-view-versus-a-copy\n",
      "  X_response[\"chosen4\"] = 1*(X_response['chosen']==1)*(X_response[\"alt\"]==4)\n"
     ]
    }
   ],
   "source": [
    "# The response data\n",
    "# X_response = df_data[[\"ID\",\"alt\",\"chosen\",\"fixation_trail\"]] # for lab dataset\n",
    "X_response = df_data[[\"ID\",\"alt\",\"chosen\",\"time\"]] # for online dataset\n",
    "# Change milsecond to second\n",
    "\n",
    "\n",
    "X_response[[\"time\"]] = X_response[[\"time\"]] # for online dataset\n",
    "\n",
    "X_response[\"chosen1\"] = 1*(X_response['chosen']==1)*(X_response[\"alt\"]==1)\n",
    "X_response[\"chosen3\"] = 1*(X_response['chosen']==1)*(X_response[\"alt\"]==3)\n",
    "X_response[\"chosen4\"] = 1*(X_response['chosen']==1)*(X_response[\"alt\"]==4)\n",
    "\n",
    "\n",
    "X_response = X_response.drop(columns=[\"alt\",\"chosen\"])\n",
    "\n",
    "condition_chosen = X_response[(X_response['chosen1']==0) & (X_response['chosen3']==0) & (X_response['chosen4']==0)].index\n",
    "X_response = X_response.drop(condition_chosen)"
   ]
  },
  {
   "cell_type": "code",
   "execution_count": 7,
   "metadata": {
    "metadata": {},
    "pycharm": {
     "is_executing": true
    }
   },
   "outputs": [
    {
     "data": {
      "text/plain": [
       "(584, 6)"
      ]
     },
     "execution_count": 7,
     "metadata": {},
     "output_type": "execute_result"
    }
   ],
   "source": [
    "X_attributes.shape"
   ]
  },
  {
   "cell_type": "code",
   "execution_count": 8,
   "metadata": {
    "metadata": {},
    "pycharm": {
     "is_executing": true
    }
   },
   "outputs": [
    {
     "data": {
      "text/html": [
       "<div>\n",
       "<style scoped>\n",
       "    .dataframe tbody tr th:only-of-type {\n",
       "        vertical-align: middle;\n",
       "    }\n",
       "\n",
       "    .dataframe tbody tr th {\n",
       "        vertical-align: top;\n",
       "    }\n",
       "\n",
       "    .dataframe thead th {\n",
       "        text-align: right;\n",
       "    }\n",
       "</style>\n",
       "<table border=\"1\" class=\"dataframe\">\n",
       "  <thead>\n",
       "    <tr style=\"text-align: right;\">\n",
       "      <th></th>\n",
       "      <th>time</th>\n",
       "      <th>chosen1</th>\n",
       "      <th>chosen3</th>\n",
       "      <th>chosen4</th>\n",
       "    </tr>\n",
       "  </thead>\n",
       "  <tbody>\n",
       "    <tr>\n",
       "      <th>count</th>\n",
       "      <td>584.000000</td>\n",
       "      <td>584.000000</td>\n",
       "      <td>584.000000</td>\n",
       "      <td>584.000000</td>\n",
       "    </tr>\n",
       "    <tr>\n",
       "      <th>mean</th>\n",
       "      <td>11.468971</td>\n",
       "      <td>0.410959</td>\n",
       "      <td>0.450342</td>\n",
       "      <td>0.138699</td>\n",
       "    </tr>\n",
       "    <tr>\n",
       "      <th>std</th>\n",
       "      <td>11.384608</td>\n",
       "      <td>0.492430</td>\n",
       "      <td>0.497955</td>\n",
       "      <td>0.345928</td>\n",
       "    </tr>\n",
       "    <tr>\n",
       "      <th>min</th>\n",
       "      <td>1.021000</td>\n",
       "      <td>0.000000</td>\n",
       "      <td>0.000000</td>\n",
       "      <td>0.000000</td>\n",
       "    </tr>\n",
       "    <tr>\n",
       "      <th>25%</th>\n",
       "      <td>4.238250</td>\n",
       "      <td>0.000000</td>\n",
       "      <td>0.000000</td>\n",
       "      <td>0.000000</td>\n",
       "    </tr>\n",
       "    <tr>\n",
       "      <th>50%</th>\n",
       "      <td>7.764500</td>\n",
       "      <td>0.000000</td>\n",
       "      <td>0.000000</td>\n",
       "      <td>0.000000</td>\n",
       "    </tr>\n",
       "    <tr>\n",
       "      <th>75%</th>\n",
       "      <td>14.319750</td>\n",
       "      <td>1.000000</td>\n",
       "      <td>1.000000</td>\n",
       "      <td>0.000000</td>\n",
       "    </tr>\n",
       "    <tr>\n",
       "      <th>max</th>\n",
       "      <td>68.911000</td>\n",
       "      <td>1.000000</td>\n",
       "      <td>1.000000</td>\n",
       "      <td>1.000000</td>\n",
       "    </tr>\n",
       "  </tbody>\n",
       "</table>\n",
       "</div>"
      ],
      "text/plain": [
       "             time     chosen1     chosen3     chosen4\n",
       "count  584.000000  584.000000  584.000000  584.000000\n",
       "mean    11.468971    0.410959    0.450342    0.138699\n",
       "std     11.384608    0.492430    0.497955    0.345928\n",
       "min      1.021000    0.000000    0.000000    0.000000\n",
       "25%      4.238250    0.000000    0.000000    0.000000\n",
       "50%      7.764500    0.000000    0.000000    0.000000\n",
       "75%     14.319750    1.000000    1.000000    0.000000\n",
       "max     68.911000    1.000000    1.000000    1.000000"
      ]
     },
     "execution_count": 8,
     "metadata": {},
     "output_type": "execute_result"
    }
   ],
   "source": [
    "X_response.describe()"
   ]
  },
  {
   "cell_type": "markdown",
   "metadata": {
    "id": "oAv463NE6pv4"
   },
   "source": [
    "**MLBA Simulator**"
   ]
  },
  {
   "cell_type": "markdown",
   "metadata": {
    "id": "Wpb3c5W2u5oy"
   },
   "source": [
    "This section defines a simulator model that generates outcomes (fixation_trail, choice) given a set of parameter values and attributes data. The model refers to *[Hancock et al, 2021](https://www.sciencedirect.com/science/article/abs/pii/S0191261521000576)*.\n",
    "\n",
    "\n",
    "For Citation: Hancock, Thomas O., et al. \"An accumulation of preference: two alternative dynamic models for understanding transport choices.\" Transportation Research Part B: Methodological 149 (2021): 250-282."
   ]
  },
  {
   "cell_type": "code",
   "execution_count": 9,
   "metadata": {
    "colab": {
     "base_uri": "https://localhost:8080/"
    },
    "executionInfo": {
     "elapsed": 13,
     "status": "ok",
     "timestamp": 1701845050644,
     "user": {
      "displayName": "Zichuan C",
      "userId": "17818169017923043377"
     },
     "user_tz": -480
    },
    "id": "QK3xgLsnIchh",
    "metadata": {},
    "outputId": "62cc7572-8ddc-4f8d-ab7e-c9ec53ccd302",
    "pycharm": {
     "is_executing": true
    }
   },
   "outputs": [
    {
     "data": {
      "text/plain": [
       "array([[[ 0.        ,  0.        ],\n",
       "        [-0.21101449,  0.38461538],\n",
       "        [-0.22550725,  0.53846154]],\n",
       "\n",
       "       [[ 0.21101449, -0.38461538],\n",
       "        [ 0.        ,  0.        ],\n",
       "        [-0.01449275,  0.15384615]],\n",
       "\n",
       "       [[ 0.22550725, -0.53846154],\n",
       "        [ 0.01449275, -0.15384615],\n",
       "        [ 0.        ,  0.        ]]])"
      ]
     },
     "execution_count": 9,
     "metadata": {},
     "output_type": "execute_result"
    }
   ],
   "source": [
    "def create_distance_matrix(row, number_of_alternatives,number_of_attributes):\n",
    "    rows = row.values.reshape(number_of_alternatives,-1)\n",
    "    distance_matrix = np.zeros((number_of_alternatives,number_of_alternatives,number_of_attributes))\n",
    "    for i in range(number_of_alternatives):\n",
    "      for j in range(number_of_alternatives):\n",
    "        distance_matrix[i,j,:] = rows[i,:]-rows[j,:]\n",
    "\n",
    "    return distance_matrix\n",
    "\n",
    "# Test using first row (obs) of the data\n",
    "create_distance_matrix(X_attributes.iloc[0,:],number_of_alternatives,number_of_attributes)"
   ]
  },
  {
   "cell_type": "code",
   "execution_count": 10,
   "metadata": {
    "pycharm": {
     "is_executing": true
    }
   },
   "outputs": [
    {
     "data": {
      "text/plain": [
       "array([0.22550725, 0.01449275])"
      ]
     },
     "execution_count": 10,
     "metadata": {},
     "output_type": "execute_result"
    }
   ],
   "source": [
    "distance_matrix = create_distance_matrix(X_attributes.iloc[0,:],number_of_alternatives,number_of_attributes)\n",
    "\n",
    "distance_matrix[2,0:2,0]"
   ]
  },
  {
   "cell_type": "code",
   "execution_count": 11,
   "metadata": {
    "pycharm": {
     "is_executing": true
    }
   },
   "outputs": [
    {
     "data": {
      "text/html": [
       "<div>\n",
       "<style scoped>\n",
       "    .dataframe tbody tr th:only-of-type {\n",
       "        vertical-align: middle;\n",
       "    }\n",
       "\n",
       "    .dataframe tbody tr th {\n",
       "        vertical-align: top;\n",
       "    }\n",
       "\n",
       "    .dataframe thead th {\n",
       "        text-align: right;\n",
       "    }\n",
       "</style>\n",
       "<table border=\"1\" class=\"dataframe\">\n",
       "  <thead>\n",
       "    <tr style=\"text-align: right;\">\n",
       "      <th></th>\n",
       "      <th>0</th>\n",
       "      <th>1</th>\n",
       "    </tr>\n",
       "  </thead>\n",
       "  <tbody>\n",
       "    <tr>\n",
       "      <th>count</th>\n",
       "      <td>584.000000</td>\n",
       "      <td>584.0</td>\n",
       "    </tr>\n",
       "    <tr>\n",
       "      <th>mean</th>\n",
       "      <td>-0.428214</td>\n",
       "      <td>0.0</td>\n",
       "    </tr>\n",
       "    <tr>\n",
       "      <th>std</th>\n",
       "      <td>0.061396</td>\n",
       "      <td>0.0</td>\n",
       "    </tr>\n",
       "    <tr>\n",
       "      <th>min</th>\n",
       "      <td>-0.538462</td>\n",
       "      <td>0.0</td>\n",
       "    </tr>\n",
       "    <tr>\n",
       "      <th>25%</th>\n",
       "      <td>-0.461538</td>\n",
       "      <td>0.0</td>\n",
       "    </tr>\n",
       "    <tr>\n",
       "      <th>50%</th>\n",
       "      <td>-0.461538</td>\n",
       "      <td>0.0</td>\n",
       "    </tr>\n",
       "    <tr>\n",
       "      <th>75%</th>\n",
       "      <td>-0.384615</td>\n",
       "      <td>0.0</td>\n",
       "    </tr>\n",
       "    <tr>\n",
       "      <th>max</th>\n",
       "      <td>-0.307692</td>\n",
       "      <td>0.0</td>\n",
       "    </tr>\n",
       "  </tbody>\n",
       "</table>\n",
       "</div>"
      ],
      "text/plain": [
       "                0      1\n",
       "count  584.000000  584.0\n",
       "mean    -0.428214    0.0\n",
       "std      0.061396    0.0\n",
       "min     -0.538462    0.0\n",
       "25%     -0.461538    0.0\n",
       "50%     -0.461538    0.0\n",
       "75%     -0.384615    0.0\n",
       "max     -0.307692    0.0"
      ]
     },
     "execution_count": 11,
     "metadata": {},
     "output_type": "execute_result"
    }
   ],
   "source": [
    "test_matrix = np.zeros((2,len(X_attributes)))\n",
    "for i in range(len(X_attributes)):\n",
    "    test_matrix[:,i] =  create_distance_matrix(X_attributes.iloc[i,:],number_of_alternatives,number_of_attributes)[1,0:2,1]\n",
    "    \n",
    "    \n",
    "pd.DataFrame(test_matrix.transpose()).describe()"
   ]
  },
  {
   "cell_type": "code",
   "execution_count": 12,
   "metadata": {
    "executionInfo": {
     "elapsed": 10,
     "status": "ok",
     "timestamp": 1701845050644,
     "user": {
      "displayName": "Zichuan C",
      "userId": "17818169017923043377"
     },
     "user_tz": -480
    },
    "id": "q0MJNbjelKe-",
    "metadata": {},
    "pycharm": {
     "is_executing": true
    }
   },
   "outputs": [],
   "source": [
    "def compute_mean_drift_rate(X_attributes,lambdas,log_I0,betas,deltas):\n",
    "    number_of_alternatives = len(deltas)+1\n",
    "    number_of_candidates = int(X_attributes.shape[0])\n",
    "    means = np.zeros((X_attributes.shape[0], number_of_alternatives))\n",
    "    lambda0, lambda1 = lambdas[0], lambdas[1]\n",
    "  \n",
    "    for n in range(number_of_candidates):\n",
    "        attributes_n = X_attributes.iloc[n,:] # attributes of individual n\n",
    "        distance_matrix = create_distance_matrix(attributes_n, number_of_alternatives, number_of_attributes)\n",
    "        Lambda = np.where(distance_matrix>0,lambda0,lambda1)\n",
    "        Beta = np.repeat(np.repeat(np.array(betas).reshape(1,-1),number_of_alternatives,axis=0),number_of_alternatives,axis=0).reshape(-1,number_of_alternatives,number_of_attributes)\n",
    "        weight_temp = -1*np.multiply(Lambda,np.multiply(Beta,np.absolute(distance_matrix)))\n",
    "        \n",
    "        weight_temp = np.where(weight_temp<50, weight_temp, 50)\n",
    "        weight_temp = np.where(weight_temp>-50, weight_temp, -50)\n",
    "        \n",
    "  \n",
    "        weights_matrix = np.exp(weight_temp)\n",
    "        V_n = np.multiply(weights_matrix,np.multiply(Beta,distance_matrix))\n",
    "        V_n = np.sum(np.sum(V_n,axis=2),axis=1)\n",
    "        delta1 = np.zeros((1,1))\n",
    "        Delta = np.concatenate((np.array(deltas).reshape(1,-1),delta1),axis=1) # set the last alternative as reference\n",
    "        V_n = V_n + Delta + np.exp(log_I0)\n",
    "        # the mean drift rate is non-negative\n",
    "        means[n,:] = np.where(V_n>0, V_n, 0) # the mean drift rate is non-negative\n",
    "\n",
    "    return means"
   ]
  },
  {
   "cell_type": "code",
   "execution_count": 13,
   "metadata": {
    "colab": {
     "base_uri": "https://localhost:8080/"
    },
    "executionInfo": {
     "elapsed": 10,
     "status": "ok",
     "timestamp": 1701845050644,
     "user": {
      "displayName": "Zichuan C",
      "userId": "17818169017923043377"
     },
     "user_tz": -480
    },
    "id": "visXYyeiKdej",
    "metadata": {},
    "outputId": "26394e45-0c94-4328-afe8-dca7d565d55b",
    "pycharm": {
     "is_executing": true
    }
   },
   "outputs": [
    {
     "data": {
      "text/plain": [
       "array([[ 0.11015874, 23.3484685 ,  1.37784737],\n",
       "       [ 0.69802113, 23.03759659,  1.06882616],\n",
       "       [ 0.21229414, 23.29276721,  1.32247485],\n",
       "       ...,\n",
       "       [ 0.26275216, 23.29162278,  1.27074802],\n",
       "       [ 0.51408929, 23.15772694,  1.1371211 ],\n",
       "       [ 0.        , 23.52447683,  1.50295826]])"
      ]
     },
     "execution_count": 13,
     "metadata": {},
     "output_type": "execute_result"
    }
   ],
   "source": [
    "#Test\n",
    "means = compute_mean_drift_rate(X_attributes,lambdas=[0.1,0.2],log_I0=np.log(1),\n",
    "                        betas=[2,0.12],deltas=[-0.2,22])\n",
    "means"
   ]
  },
  {
   "cell_type": "code",
   "execution_count": 14,
   "metadata": {
    "metadata": {},
    "pycharm": {
     "is_executing": true
    }
   },
   "outputs": [
    {
     "data": {
      "text/plain": [
       "(584, 3)"
      ]
     },
     "execution_count": 14,
     "metadata": {},
     "output_type": "execute_result"
    }
   ],
   "source": [
    "means.shape\n",
    "\n",
    "# (1208,3)"
   ]
  },
  {
   "cell_type": "code",
   "execution_count": 15,
   "metadata": {
    "executionInfo": {
     "elapsed": 7,
     "status": "ok",
     "timestamp": 1701845050644,
     "user": {
      "displayName": "Zichuan C",
      "userId": "17818169017923043377"
     },
     "user_tz": -480
    },
    "id": "wFwZH9UhpD3N",
    "metadata": {},
    "pycharm": {
     "is_executing": true
    }
   },
   "outputs": [],
   "source": [
    "import scipy.stats\n",
    "\n",
    "def MLBA(X_attributes, lambdas,log_I0,  betas, deltas, threshold, A = 48, s=1 ):\n",
    "    \"\"\"\n",
    "    MLBA simulator\n",
    "    input: parameters that are derectly used in MLBA model & data X\n",
    "    output: choice outcome and response time\n",
    "    Details:\n",
    "    A:starting point upper bound such that start points of accumulators will follow this Unif(0,A).\n",
    "    threshold: threshold is the boundary which reaches the first accumulator(final choice), here actually is log(threshold-A) \n",
    "    X_response: Choice made and coresponding response time of candidates\n",
    "    s: common sd of N(u_n, s), the drift rate of the ith accumulator d_n~N(u_n, s)\n",
    "    u_n: mean values u_n, computed from compute_mean_drift_rate() for individual n\n",
    "\n",
    "    \"\"\"\n",
    "\n",
    "    number_of_candidates = int(X_attributes.shape[0])\n",
    "    \n",
    "########################## \n",
    "    threshold = np.exp(threshold)+A\n",
    "    betas = np.exp(betas)\n",
    "    # lambdas = np.exp(lambdas)\n",
    "\n",
    "   \n",
    "    number_of_alternatives = len(deltas)+1\n",
    "    # Initialize the accumulators and the starting point\n",
    "    accumulators = np.zeros((number_of_candidates,number_of_alternatives))\n",
    "    start_points = np.random.uniform(low=0, high=A, size=(number_of_candidates,number_of_alternatives))\n",
    "    accumulators = accumulators + start_points\n",
    "\n",
    "    # Compute the mean of normals that drift rate follows for each accumulator\n",
    "    means = compute_mean_drift_rate(X_attributes, lambdas, log_I0, betas, deltas)\n",
    "    drift_rates = means\n",
    "    # print(means)\n",
    "    for i in range(number_of_candidates):\n",
    "        for j in range(number_of_alternatives):\n",
    "            drift_rates[i,j] = scipy.stats.truncnorm.rvs(a = (0- means[i,j])/s, b = (400- means[i,j])/s , loc= means[i,j], scale=s).item() \n",
    "            # here to only draw non-negative drift rate so that no need for the non-negative drift rate check in the following\n",
    "    # print(drift_rates)\n",
    "    # drift_rates = means + np.random.standard_normal(size=(number_of_candidates,number_of_alternatives)) * s\n",
    "\n",
    "    # here to only include non-native sampler\n",
    "\n",
    "    # For each candidate, run the mlba simulation game\n",
    "    rt = np.zeros(number_of_candidates)\n",
    "    choice = np.zeros((number_of_candidates,number_of_alternatives))\n",
    "    for n in range(number_of_candidates):\n",
    "        accumulators_n = accumulators[n,:]\n",
    "        drift_rates_n = drift_rates[n,:]\n",
    "        rt_candidate = (threshold-start_points[n,:])/drift_rates_n\n",
    "        choice_n = np.argmin(rt_candidate)\n",
    "        choice[n,choice_n] = 1\n",
    "        rt[n] = rt_candidate[choice_n]\n",
    "\n",
    "    return (rt,choice)"
   ]
  },
  {
   "cell_type": "code",
   "execution_count": 16,
   "metadata": {
    "colab": {
     "base_uri": "https://localhost:8080/"
    },
    "executionInfo": {
     "elapsed": 518,
     "status": "ok",
     "timestamp": 1701845051156,
     "user": {
      "displayName": "Zichuan C",
      "userId": "17818169017923043377"
     },
     "user_tz": -480
    },
    "id": "nhG7o_rHv_KR",
    "metadata": {},
    "outputId": "9b41e3bb-016c-4529-af3f-aaa031685998",
    "pycharm": {
     "is_executing": true
    }
   },
   "outputs": [
    {
     "data": {
      "text/plain": [
       "(array([15.15360049, 15.69590272, 16.73124863, 19.19627117, 17.49004862,\n",
       "        16.08754689, 17.70260547, 15.0295363 , 20.42883068, 16.66568332,\n",
       "        13.52245648, 18.44968093, 17.82828981, 18.11027857, 19.62975943,\n",
       "        14.85511368, 18.14468099, 16.22993195, 15.89209402, 16.86739186,\n",
       "        20.37790972, 18.61182168, 18.2120293 , 17.29109391, 15.01883274,\n",
       "        19.24597304, 20.82669342, 16.02657385, 18.33977199, 19.20628558,\n",
       "        16.83352182, 18.06937248, 14.99689924, 20.28569957, 15.46364339,\n",
       "        16.47049932, 18.96399579, 15.75735259, 17.17329641, 19.21258633,\n",
       "        16.22645223, 15.52667563, 17.71796287, 17.73740559, 13.35713972,\n",
       "        19.88730992, 17.87768497, 15.25310209, 16.34297664, 17.76936812,\n",
       "        14.96699875, 13.64849434, 16.49962399, 17.0290843 , 16.06434162,\n",
       "        16.47746927, 19.19489634, 15.10418557, 18.51499789, 16.98333218,\n",
       "        15.71652334, 15.60796561, 15.72850578, 18.51289636, 13.66526431,\n",
       "        16.80220379, 15.7640122 , 16.21478655, 14.62060212, 15.83038561,\n",
       "        18.58211402, 15.19096999, 15.17534734, 16.43807503, 17.95661716,\n",
       "        17.35343584, 17.20624217, 13.90000806, 14.7577794 , 13.16953931,\n",
       "        17.75844619, 15.77121927, 17.40616612, 16.24440594, 13.81782608,\n",
       "        16.86707272, 19.95747613, 16.32851385, 16.76548457, 16.54438716,\n",
       "        14.44822447, 15.49289033, 18.54888753, 17.06595316, 15.79756547,\n",
       "        16.94047739, 15.42069705, 16.41126136, 17.24311429, 15.95352479,\n",
       "        19.18705502, 16.73867996, 15.6724389 , 15.5318176 , 15.75517572,\n",
       "        13.47881166, 18.8173709 , 16.85305988, 16.62531181, 18.53627273,\n",
       "        17.18610711, 17.04648543, 16.68987324, 15.76923155, 15.39216892,\n",
       "        18.7736394 , 19.08843329, 17.58287713, 14.94108436, 15.2102742 ,\n",
       "        14.54872235, 16.05672778, 15.94210945, 15.06013389, 16.07999929,\n",
       "        15.97026472, 17.99038592, 18.59986621, 17.81064264, 16.95068344,\n",
       "        14.90568655, 12.51811193, 15.4225344 , 19.07576009, 17.49205191,\n",
       "        17.64225694, 20.92491337, 14.96044162, 14.51454091, 17.3148601 ,\n",
       "        16.95864021, 19.26397706, 16.00371724, 16.44145197, 17.59197004,\n",
       "        16.71358147, 16.15798825, 19.6055606 , 16.23390704, 14.37833519,\n",
       "        15.1453177 , 17.4208858 , 15.90403586, 16.38456459, 15.68068106,\n",
       "        16.59339919, 18.91591127, 17.80646974, 17.11886911, 19.10931672,\n",
       "        13.04223254, 15.83827682, 15.89202272, 17.49324642, 16.57808006,\n",
       "        20.13062879, 18.07366289, 14.83094984, 16.46681706, 13.67294589,\n",
       "        14.96928379, 14.3713996 , 16.29308335, 14.290893  , 16.52160749,\n",
       "        16.14958691, 17.2365679 , 14.09514831, 19.30632002, 18.80929825,\n",
       "        15.49986693, 18.8847913 , 17.76563639, 19.41393394, 12.92405597,\n",
       "        18.45697305, 15.06623071, 19.79815531, 14.98361192, 16.11397605,\n",
       "        15.58831548, 14.90016243, 20.81436173, 14.97109396, 16.10086067,\n",
       "        15.05189223, 20.95913371, 16.75374324, 17.08523205, 14.90372696,\n",
       "        17.91598412, 16.22941711, 16.4449432 , 16.90275989, 16.21673537,\n",
       "        12.77847301, 13.81808659, 14.95891285, 14.76659048, 17.54041173,\n",
       "        17.05388676, 18.09106094, 16.29111968, 14.81829525, 15.01920134,\n",
       "        17.45033372, 17.61670264, 15.92806336, 14.64957806, 17.09862201,\n",
       "        15.10456988, 14.51148427, 18.47803848, 15.06511868, 17.98615838,\n",
       "        14.93540863, 16.27370558, 15.74945884, 20.9988556 , 23.80822645,\n",
       "        18.99206575, 18.20340791, 16.0739246 , 17.81911718, 15.99055244,\n",
       "        19.77445419, 16.13029691, 17.35742283, 14.40754966, 16.42683925,\n",
       "        20.40483795, 16.20222192, 15.11176014, 16.18333308, 17.49987134,\n",
       "        20.3412574 , 18.50844999, 16.92957605, 17.87507806, 15.98325781,\n",
       "        15.62505945, 16.44195116, 14.80724915, 16.14380962, 20.15287446,\n",
       "        15.62924352, 18.72996583, 16.15761588, 15.57994037, 18.61226062,\n",
       "        16.52597941, 16.62458234, 13.57942552, 18.12255434, 17.33543172,\n",
       "        17.59033117, 18.08621257, 17.06072042, 16.18478169, 14.77763281,\n",
       "        15.47560786, 18.59756126, 18.57111458, 13.9258059 , 16.73154685,\n",
       "        15.63399904, 15.58721573, 15.26761339, 15.2893659 , 14.50535658,\n",
       "        17.36476423, 16.80542411, 18.55148563, 19.60641453, 21.53711273,\n",
       "        15.1573594 , 19.95832199, 15.43072775, 17.7757327 , 15.83939071,\n",
       "        15.86813091, 20.35021562, 14.46148173, 17.44310347, 17.9062542 ,\n",
       "        19.31886746, 16.97725739, 20.51884655, 16.66309475, 17.62159876,\n",
       "        20.43250919, 17.78537027, 15.28114299, 16.64677291, 23.21342558,\n",
       "        15.74217908, 13.8785994 , 16.41413901, 15.6638452 , 17.51463492,\n",
       "        16.41486805, 14.4487574 , 17.4542148 , 16.39004764, 14.33110045,\n",
       "        14.52448133, 17.17432518, 14.42006456, 17.80990557, 18.30787051,\n",
       "        17.31900107, 16.70679551, 15.91965239, 17.79238265, 17.73389478,\n",
       "        15.787514  , 14.82143302, 13.94409857, 18.54896268, 18.93653042,\n",
       "        16.40552042, 20.34540636, 15.50294297, 17.47138436, 20.84747984,\n",
       "        17.03349062, 16.29626522, 15.29606591, 19.6322542 , 15.70316913,\n",
       "        17.23476966, 16.14231073, 15.49525767, 16.16203049, 18.92751556,\n",
       "        19.28280715, 19.02360952, 15.61126253, 17.33945628, 18.61161335,\n",
       "        21.44653754, 19.16177656, 17.7166497 , 22.1162119 , 14.86534911,\n",
       "        13.2482862 , 15.44407352, 15.20342722, 15.65582079, 16.04669858,\n",
       "        16.20948584, 18.25084821, 15.17826092, 17.14424723, 14.46772074,\n",
       "        18.18480671, 20.48283593, 13.29354563, 18.19485388, 14.17904789,\n",
       "        16.95627733, 14.30147568, 19.55398881, 15.56141032, 17.59016936,\n",
       "        17.40199957, 16.7296615 , 16.81884667, 15.71575033, 16.63053008,\n",
       "        15.94153162, 15.43437722, 14.0541593 , 17.53809148, 19.37326374,\n",
       "        17.76556002, 18.55843204, 16.10619708, 14.39997   , 15.27028483,\n",
       "        20.60702506, 20.58237223, 18.54631622, 15.26100403, 17.21840043,\n",
       "        16.06979904, 16.19005557, 16.65059266, 17.57424073, 19.63018941,\n",
       "        14.49962441, 15.41866925, 16.15394721, 15.56363958, 17.39739752,\n",
       "        17.13669417, 15.3637946 , 16.7194816 , 15.04724452, 15.38165382,\n",
       "        20.09156833, 18.38633145, 20.99636561, 17.13194236, 15.60384289,\n",
       "        17.61404052, 19.15165249, 18.25185346, 17.77560709, 15.98484441,\n",
       "        20.94191693, 16.05332057, 17.43499175, 15.96758653, 17.10314314,\n",
       "        18.0063821 , 19.35519454, 12.97285935, 16.7995917 , 18.77872352,\n",
       "        17.70237068, 16.8102874 , 17.06777025, 15.88058349, 15.728248  ,\n",
       "        15.23271782, 15.32359242, 19.65457828, 16.70255139, 14.61096319,\n",
       "        18.46464362, 18.36707994, 18.56962342, 16.85821517, 14.24493746,\n",
       "        13.71159749, 15.58143106, 16.76488692, 18.39462838, 17.4890581 ,\n",
       "        14.67853762, 15.82565685, 14.37102827, 18.19762592, 18.19846819,\n",
       "        20.00461137, 16.30144882, 19.13838342, 15.41635048, 17.07352982,\n",
       "        15.86388173, 13.30008853, 16.11240213, 17.3789238 , 18.25650266,\n",
       "        15.99013016, 17.46422833, 14.95135701, 14.50823364, 18.80088772,\n",
       "        15.15736302, 14.34950666, 13.89367992, 16.90566101, 19.99144135,\n",
       "        15.11290414, 16.38581729, 16.01958172, 17.72852996, 16.46991879,\n",
       "        17.53266397, 16.32338946, 16.52794714, 15.52262378, 21.50360469,\n",
       "        17.24268139, 14.71802107, 22.18668333, 22.24434322, 14.73028259,\n",
       "        15.55092392, 15.9721853 , 16.68767746, 19.07269833, 19.68031675,\n",
       "        16.75638372, 14.44435937, 16.31101616, 15.78196973, 17.05828385,\n",
       "        16.37129036, 16.87349783, 19.61314565, 19.64024917, 16.07132332,\n",
       "        18.1518888 , 19.59069818, 14.47924397, 16.00309088, 16.44775395,\n",
       "        14.26056942, 21.04119124, 14.71743594, 16.41376795, 20.15053308,\n",
       "        23.04473576, 16.07781415, 16.60234182, 19.11524698, 16.00232043,\n",
       "        15.19231875, 18.68558461, 18.68275326, 18.07772762, 16.0479191 ,\n",
       "        16.91960452, 15.59104158, 16.39016432, 18.73998034, 13.25005559,\n",
       "        17.95702203, 14.12853389, 14.39826864, 17.71837329, 20.47764358,\n",
       "        15.34777534, 15.83344398, 18.77038847, 18.30597994, 16.28131762,\n",
       "        17.4071192 , 16.68798335, 20.96306071, 17.30138069, 16.56151299,\n",
       "        17.20234541, 16.60541801, 20.59982598, 17.50262351, 18.26283235,\n",
       "        17.02077969, 14.9186261 , 17.62300567, 18.25635085, 17.36719621,\n",
       "        16.11725469, 17.43446987, 18.60770701, 18.01321142, 16.23997764,\n",
       "        20.83818607, 19.08308049, 19.70550786, 17.81270457, 18.91772381,\n",
       "        16.62001982, 16.5700495 , 17.03943398, 15.19418147, 16.28053929,\n",
       "        13.79180435, 15.26645522, 15.56998985, 20.88254692, 17.02772185,\n",
       "        17.88217078, 17.10911509, 21.89767756, 15.87585811, 15.06474953,\n",
       "        18.78340594, 17.06436387, 14.99112826, 17.44673952]),\n",
       " array([[0., 0., 1.],\n",
       "        [0., 1., 0.],\n",
       "        [0., 0., 1.],\n",
       "        ...,\n",
       "        [0., 1., 0.],\n",
       "        [0., 0., 1.],\n",
       "        [0., 1., 0.]]))"
      ]
     },
     "execution_count": 16,
     "metadata": {},
     "output_type": "execute_result"
    }
   ],
   "source": [
    "#Test\n",
    "MLBA(X_attributes,lambdas=[0.1,0.2],log_I0=np.log(10),\n",
    "                        betas=[1,0.5],deltas=[-10,-0.3], threshold=5)"
   ]
  },
  {
   "cell_type": "markdown",
   "metadata": {
    "id": "W0I7vabxWZPE"
   },
   "source": [
    "***Optional: Define discrepancies between some summary statistics on simulated and observed data. Currently the raw rt & choice data is viewed as summary statistics on itself. Given the possible multimodal posterior of parameters of MLBA, using raw data (with no infor loss) might be the safe strategy in this case.***"
   ]
  },
  {
   "cell_type": "code",
   "execution_count": 17,
   "metadata": {
    "pycharm": {
     "is_executing": true
    }
   },
   "outputs": [],
   "source": [
    "def per_sample(raw,theta,X_response_rt,nObs):\n",
    "    lambdas, log_I0, betas, deltas, threshold = theta\n",
    "    (rt_sim,choice_sim) = MLBA(X_attributes, lambdas, log_I0, betas, deltas, threshold)\n",
    "\n",
    "    tmp_rt =np.mean(np.abs(np.log(np.sort(X_response_rt))-np.log(np.sort(rt_sim))))/3\n",
    "    tmp_ch = choice_sim.mean(axis=0)\n",
    "    \n",
    " \n",
    "    return([ tmp_rt,tmp_ch])"
   ]
  },
  {
   "cell_type": "code",
   "execution_count": 18,
   "metadata": {
    "pycharm": {
     "is_executing": true
    }
   },
   "outputs": [],
   "source": [
    "from joblib import Parallel, delayed\n",
    "\n",
    "\n",
    "def minus_simluated_discrepancy(theta, X_response=X_response, X_attributes=X_attributes):\n",
    "    \"\"\"\n",
    "    X_response: Observed choice and coresponding response time of candidates\n",
    "    X_attributes: standardized data of attributes of alternatives, used for compute mean value of normals that drift rates follow\n",
    "    Each row of X is an individual-specific alternvative's attributes\n",
    "    theta: a vector of all parameters, orderly including (lambdas, log_I0, betas, deltas, log_(threshold-A))\n",
    "    output: distance between simulated choice & resposne time and observed choice & response time\n",
    "    We take log of I0 and threshold because they are positive numbers, taking log maps them to the whole real line, which is approporaite for prior definition and MCMC\n",
    "    \"\"\"\n",
    "    \n",
    "   \n",
    "   # Observed data\n",
    "    X_response_rt = X_response[[\"time\"]].values\n",
    "    X_response_choice = X_response[[\"chosen1\",\"chosen3\",\"chosen4\"]].values\n",
    "\n",
    "    # lambdas, log_I0, betas, deltas, threshold = theta\n",
    "    X_response_rt = X_response_rt.reshape(-1)\n",
    "    \n",
    "    nObs = len(X_response)\n",
    "\n",
    "    # Simulation discrepancy (take log of rt discrepancy)\n",
    "    # iter_n replicate number\n",
    "    iter_n = 50\n",
    "    discrepancies = np.zeros((1,number_of_discrepancies)) # 2 discrepancies\n",
    "    X_response_ch = np.array(X_response_choice.mean(axis = 0))\n",
    "\n",
    "    \n",
    "    res =pd.DataFrame(Parallel(n_jobs = 20)(delayed(per_sample)(row,theta,X_response_rt,nObs) for row in range(iter_n)),columns=[\"RT\",\"CH\"])\n",
    "\n",
    "    \n",
    "    dis_1_tes = np.mean(res.RT)\n",
    "    discrepancy_rt = np.where(dis_1_tes >1e-5,np.log(dis_1_tes),np.log(1e-5))\n",
    " \n",
    "    choice_candidate = np.array(res.CH.to_list()).reshape((iter_n,number_of_alternatives))\n",
    "    dis_2_tes = np.mean(( choice_candidate-X_response_ch)**2,axis=0).sum()\n",
    "    discrepancy_choice = np.where(dis_2_tes >1e-5,np.log(dis_2_tes),np.log(1e-5))\n",
    "    discrepancies[0,:] = discrepancy_rt + discrepancy_choice\n",
    "    \n",
    "\n",
    "\n",
    "    return discrepancies*-1\n"
   ]
  },
  {
   "cell_type": "code",
   "execution_count": 19,
   "metadata": {
    "colab": {
     "base_uri": "https://localhost:8080/"
    },
    "executionInfo": {
     "elapsed": 575,
     "status": "ok",
     "timestamp": 1701845051722,
     "user": {
      "displayName": "Zichuan C",
      "userId": "17818169017923043377"
     },
     "user_tz": -480
    },
    "id": "B50h4pqNCKHa",
    "metadata": {},
    "outputId": "fca3cae3-53ab-4f3f-b48a-1d4e502bb427",
    "pycharm": {
     "is_executing": true
    }
   },
   "outputs": [
    {
     "data": {
      "text/plain": [
       "array([[3.45386074]])"
      ]
     },
     "execution_count": 19,
     "metadata": {},
     "output_type": "execute_result"
    }
   ],
   "source": [
    "minus_simluated_discrepancy(theta=([0.1,0.2], np.log(0.5), [0.2,0.12], [-10,0.1],np.log(70)))"
   ]
  },
  {
   "cell_type": "markdown",
   "metadata": {
    "id": "IO4zzq4SOr7v"
   },
   "source": [
    "MO-BOLFI is a likelihood-free inference method that effectively surrogates simulators like MLBA model. **We'll show that it can surrogate MLBA and generate data highly similar with the MLBA-simulated data.**\n",
    "\n",
    "Thus, instead of using X_response, we'll generate \"real response\" by simulated dataset given a self-defined \"real parameter\".\n",
    "\n",
    "The real parameter is chosen to be a proper value that simulates stable, well distributed \"real resposne\". Random choice of real parameter may make real resposne a bad data in model fitting (e.g. a dataset with all candidates choosing the same alternative)\n",
    "\n",
    "In the rest of this notebook, the \"real_response\" we generated in the following chunk will be viewed as the real data.\n",
    "\n"
   ]
  },
  {
   "cell_type": "code",
   "execution_count": 20,
   "metadata": {
    "executionInfo": {
     "elapsed": 10,
     "status": "ok",
     "timestamp": 1701845051722,
     "user": {
      "displayName": "Zichuan C",
      "userId": "17818169017923043377"
     },
     "user_tz": -480
    },
    "id": "rPaRta27YcJX",
    "metadata": {},
    "pycharm": {
     "is_executing": true
    }
   },
   "outputs": [
    {
     "data": {
      "text/plain": [
       "[0.09404336, 0, 0, -0.8758533, 0, 2.080699, 1.414022, 0.6108216]"
      ]
     },
     "execution_count": 20,
     "metadata": {},
     "output_type": "execute_result"
    }
   ],
   "source": [
    "#  CF MAP value\n",
    "real_theta  = [9.404336e-02 ,0,0,-8.758533e-01,0,2.080699e+00,1.414022e+00,  6.108216e-01] # DR\n",
    "real_theta "
   ]
  },
  {
   "cell_type": "code",
   "execution_count": 21,
   "metadata": {
    "executionInfo": {
     "elapsed": 10,
     "status": "ok",
     "timestamp": 1701845051723,
     "user": {
      "displayName": "Zichuan C",
      "userId": "17818169017923043377"
     },
     "user_tz": -480
    },
    "id": "b30eVaUAZFEs",
    "metadata": {},
    "pycharm": {
     "is_executing": true
    }
   },
   "outputs": [],
   "source": [
    "real_data = MLBA(X_attributes,lambdas=real_theta[0:2], log_I0=real_theta[2],\n",
    "                    betas=real_theta[3+number_of_alternatives-1:3+number_of_attributes+number_of_alternatives-1],\n",
    "                    deltas=real_theta[3:3+number_of_alternatives-1],\n",
    "                    threshold= real_theta[-1])\n",
    "\n",
    "real_response = pd.DataFrame(real_data[1], columns=[\"chosen1\", \"chosen3\", \"chosen4\"])\n",
    "real_response = pd.concat([pd.DataFrame(real_data[0], columns = [\"time\"]), real_response],axis=1)"
   ]
  },
  {
   "cell_type": "code",
   "execution_count": 22,
   "metadata": {
    "metadata": {}
   },
   "outputs": [
    {
     "data": {
      "text/html": [
       "<div>\n",
       "<style scoped>\n",
       "    .dataframe tbody tr th:only-of-type {\n",
       "        vertical-align: middle;\n",
       "    }\n",
       "\n",
       "    .dataframe tbody tr th {\n",
       "        vertical-align: top;\n",
       "    }\n",
       "\n",
       "    .dataframe thead th {\n",
       "        text-align: right;\n",
       "    }\n",
       "</style>\n",
       "<table border=\"1\" class=\"dataframe\">\n",
       "  <thead>\n",
       "    <tr style=\"text-align: right;\">\n",
       "      <th></th>\n",
       "      <th>time</th>\n",
       "      <th>chosen1</th>\n",
       "      <th>chosen3</th>\n",
       "      <th>chosen4</th>\n",
       "    </tr>\n",
       "  </thead>\n",
       "  <tbody>\n",
       "    <tr>\n",
       "      <th>count</th>\n",
       "      <td>584.000000</td>\n",
       "      <td>584.000000</td>\n",
       "      <td>584.000000</td>\n",
       "      <td>584.000000</td>\n",
       "    </tr>\n",
       "    <tr>\n",
       "      <th>mean</th>\n",
       "      <td>12.819678</td>\n",
       "      <td>0.482877</td>\n",
       "      <td>0.339041</td>\n",
       "      <td>0.178082</td>\n",
       "    </tr>\n",
       "    <tr>\n",
       "      <th>std</th>\n",
       "      <td>18.301563</td>\n",
       "      <td>0.500135</td>\n",
       "      <td>0.473790</td>\n",
       "      <td>0.382910</td>\n",
       "    </tr>\n",
       "    <tr>\n",
       "      <th>min</th>\n",
       "      <td>0.516244</td>\n",
       "      <td>0.000000</td>\n",
       "      <td>0.000000</td>\n",
       "      <td>0.000000</td>\n",
       "    </tr>\n",
       "    <tr>\n",
       "      <th>25%</th>\n",
       "      <td>5.274274</td>\n",
       "      <td>0.000000</td>\n",
       "      <td>0.000000</td>\n",
       "      <td>0.000000</td>\n",
       "    </tr>\n",
       "    <tr>\n",
       "      <th>50%</th>\n",
       "      <td>9.594933</td>\n",
       "      <td>0.000000</td>\n",
       "      <td>0.000000</td>\n",
       "      <td>0.000000</td>\n",
       "    </tr>\n",
       "    <tr>\n",
       "      <th>75%</th>\n",
       "      <td>15.603062</td>\n",
       "      <td>1.000000</td>\n",
       "      <td>1.000000</td>\n",
       "      <td>0.000000</td>\n",
       "    </tr>\n",
       "    <tr>\n",
       "      <th>max</th>\n",
       "      <td>354.292608</td>\n",
       "      <td>1.000000</td>\n",
       "      <td>1.000000</td>\n",
       "      <td>1.000000</td>\n",
       "    </tr>\n",
       "  </tbody>\n",
       "</table>\n",
       "</div>"
      ],
      "text/plain": [
       "             time     chosen1     chosen3     chosen4\n",
       "count  584.000000  584.000000  584.000000  584.000000\n",
       "mean    12.819678    0.482877    0.339041    0.178082\n",
       "std     18.301563    0.500135    0.473790    0.382910\n",
       "min      0.516244    0.000000    0.000000    0.000000\n",
       "25%      5.274274    0.000000    0.000000    0.000000\n",
       "50%      9.594933    0.000000    0.000000    0.000000\n",
       "75%     15.603062    1.000000    1.000000    0.000000\n",
       "max    354.292608    1.000000    1.000000    1.000000"
      ]
     },
     "execution_count": 22,
     "metadata": {},
     "output_type": "execute_result"
    }
   ],
   "source": [
    "real_response.describe() # closed-form\n"
   ]
  },
  {
   "cell_type": "code",
   "execution_count": 23,
   "metadata": {
    "metadata": {}
   },
   "outputs": [],
   "source": [
    "real_response = X_response"
   ]
  },
  {
   "cell_type": "code",
   "execution_count": 24,
   "metadata": {},
   "outputs": [
    {
     "name": "stdout",
     "output_type": "stream",
     "text": [
      "count    240.000000\n",
      "mean      10.997413\n",
      "std       11.955123\n",
      "min        1.021000\n",
      "25%        4.047250\n",
      "50%        6.912500\n",
      "75%       12.643750\n",
      "max       67.766000\n",
      "Name: time, dtype: float64\n",
      "count    263.000000\n",
      "mean      13.455270\n",
      "std       11.488229\n",
      "min        1.094000\n",
      "25%        5.707500\n",
      "50%        9.774000\n",
      "75%       16.250000\n",
      "max       68.911000\n",
      "Name: time, dtype: float64\n",
      "count    81.00000\n",
      "mean      6.41684\n",
      "std       6.76951\n",
      "min       1.15600\n",
      "25%       2.27600\n",
      "50%       3.97200\n",
      "75%       8.05200\n",
      "max      42.45400\n",
      "Name: time, dtype: float64\n"
     ]
    }
   ],
   "source": [
    "print(X_response.time[X_response.chosen1==1].describe())\n",
    "print(X_response.time[X_response.chosen3==1].describe())\n",
    "print(X_response.time[X_response.chosen4==1].describe())"
   ]
  },
  {
   "cell_type": "code",
   "execution_count": 25,
   "metadata": {
    "metadata": {}
   },
   "outputs": [
    {
     "data": {
      "text/html": [
       "<div>\n",
       "<style scoped>\n",
       "    .dataframe tbody tr th:only-of-type {\n",
       "        vertical-align: middle;\n",
       "    }\n",
       "\n",
       "    .dataframe tbody tr th {\n",
       "        vertical-align: top;\n",
       "    }\n",
       "\n",
       "    .dataframe thead th {\n",
       "        text-align: right;\n",
       "    }\n",
       "</style>\n",
       "<table border=\"1\" class=\"dataframe\">\n",
       "  <thead>\n",
       "    <tr style=\"text-align: right;\">\n",
       "      <th></th>\n",
       "      <th>time</th>\n",
       "      <th>chosen1</th>\n",
       "      <th>chosen3</th>\n",
       "      <th>chosen4</th>\n",
       "    </tr>\n",
       "  </thead>\n",
       "  <tbody>\n",
       "    <tr>\n",
       "      <th>count</th>\n",
       "      <td>584.000000</td>\n",
       "      <td>584.000000</td>\n",
       "      <td>584.000000</td>\n",
       "      <td>584.000000</td>\n",
       "    </tr>\n",
       "    <tr>\n",
       "      <th>mean</th>\n",
       "      <td>11.468971</td>\n",
       "      <td>0.410959</td>\n",
       "      <td>0.450342</td>\n",
       "      <td>0.138699</td>\n",
       "    </tr>\n",
       "    <tr>\n",
       "      <th>std</th>\n",
       "      <td>11.384608</td>\n",
       "      <td>0.492430</td>\n",
       "      <td>0.497955</td>\n",
       "      <td>0.345928</td>\n",
       "    </tr>\n",
       "    <tr>\n",
       "      <th>min</th>\n",
       "      <td>1.021000</td>\n",
       "      <td>0.000000</td>\n",
       "      <td>0.000000</td>\n",
       "      <td>0.000000</td>\n",
       "    </tr>\n",
       "    <tr>\n",
       "      <th>25%</th>\n",
       "      <td>4.238250</td>\n",
       "      <td>0.000000</td>\n",
       "      <td>0.000000</td>\n",
       "      <td>0.000000</td>\n",
       "    </tr>\n",
       "    <tr>\n",
       "      <th>50%</th>\n",
       "      <td>7.764500</td>\n",
       "      <td>0.000000</td>\n",
       "      <td>0.000000</td>\n",
       "      <td>0.000000</td>\n",
       "    </tr>\n",
       "    <tr>\n",
       "      <th>75%</th>\n",
       "      <td>14.319750</td>\n",
       "      <td>1.000000</td>\n",
       "      <td>1.000000</td>\n",
       "      <td>0.000000</td>\n",
       "    </tr>\n",
       "    <tr>\n",
       "      <th>max</th>\n",
       "      <td>68.911000</td>\n",
       "      <td>1.000000</td>\n",
       "      <td>1.000000</td>\n",
       "      <td>1.000000</td>\n",
       "    </tr>\n",
       "  </tbody>\n",
       "</table>\n",
       "</div>"
      ],
      "text/plain": [
       "             time     chosen1     chosen3     chosen4\n",
       "count  584.000000  584.000000  584.000000  584.000000\n",
       "mean    11.468971    0.410959    0.450342    0.138699\n",
       "std     11.384608    0.492430    0.497955    0.345928\n",
       "min      1.021000    0.000000    0.000000    0.000000\n",
       "25%      4.238250    0.000000    0.000000    0.000000\n",
       "50%      7.764500    0.000000    0.000000    0.000000\n",
       "75%     14.319750    1.000000    1.000000    0.000000\n",
       "max     68.911000    1.000000    1.000000    1.000000"
      ]
     },
     "execution_count": 25,
     "metadata": {},
     "output_type": "execute_result"
    }
   ],
   "source": [
    "X_response.describe() # observed data"
   ]
  },
  {
   "cell_type": "code",
   "execution_count": 26,
   "metadata": {},
   "outputs": [
    {
     "data": {
      "text/plain": [
       "array([7.1587045])"
      ]
     },
     "execution_count": 26,
     "metadata": {},
     "output_type": "execute_result"
    }
   ],
   "source": [
    "minus_simluated_discrepancy(theta=([real_theta[0], real_theta[1]], real_theta[2],[real_theta[5],real_theta[6]],[real_theta[3],real_theta[4]],real_theta[-1]), X_response=real_response)[0]"
   ]
  },
  {
   "cell_type": "code",
   "execution_count": 27,
   "metadata": {
    "metadata": {}
   },
   "outputs": [
    {
     "data": {
      "text/plain": [
       "129.609299313664"
      ]
     },
     "execution_count": 27,
     "metadata": {},
     "output_type": "execute_result"
    }
   ],
   "source": [
    "real_data_var = 11.384608**2\n",
    "real_data_var"
   ]
  },
  {
   "cell_type": "code",
   "execution_count": 28,
   "metadata": {
    "executionInfo": {
     "elapsed": 7852,
     "status": "ok",
     "timestamp": 1701845224636,
     "user": {
      "displayName": "Zichuan C",
      "userId": "17818169017923043377"
     },
     "user_tz": -480
    },
    "id": "aVaGuPZ8V3RS",
    "metadata": {}
   },
   "outputs": [],
   "source": [
    "import torch\n",
    "from botorch.models.gp_regression import SingleTaskGP\n",
    "from botorch.fit import fit_gpytorch_mll\n",
    "from gpytorch.mlls import ExactMarginalLogLikelihood\n",
    "from botorch.optim import optimize_acqf\n",
    "from botorch.acquisition.multi_objective.monte_carlo import qNoisyExpectedHypervolumeImprovement\n",
    "from botorch.acquisition.objective import ScalarizedPosteriorTransform\n"
   ]
  },
  {
   "cell_type": "code",
   "execution_count": 29,
   "metadata": {},
   "outputs": [],
   "source": [
    "torch.set_default_dtype(torch.float32) #set tensor float precision "
   ]
  },
  {
   "cell_type": "code",
   "execution_count": null,
   "metadata": {},
   "outputs": [],
   "source": [
    "# import initial points the same as MOBOLFI\n",
    "import pandas as pd\n",
    "df_X = pd.read_csv(\"em_mobolfi_train_X.csv\",header=None,dtype=np.float32)\n",
    "df_Y = pd.read_csv(\"em_mobolfi_train_Y.csv\",header=None,dtype=np.float32)\n",
    "\n",
    "df_X = df_X.astype(np.float32)\n",
    "df_Y = df_Y.astype(np.float32)\n",
    "df_Y = df_Y.sum(axis = 1)\n",
    "train_X = torch.from_numpy(df_X.to_numpy()).to(torch.float32)\n",
    "train_Y = torch.from_numpy(df_Y.to_numpy().reshape(-1,1)).to(torch.float32)"
   ]
  },
  {
   "cell_type": "code",
   "execution_count": null,
   "metadata": {
    "metadata": {}
   },
   "outputs": [],
   "source": [
    "# # # # ## used when retriving well-trained models\n",
    "# import pandas as pd\n",
    "# df_X = pd.read_csv(\"em_bolfi_train_X.csv\",header=None,dtype=np.float32)\n",
    "# df_Y = pd.read_csv(\"em_bolfi_train_Y.csv\",header=None,dtype=np.float32)\n",
    "\n",
    "# df_X = df_X.astype(np.float32)\n",
    "# df_Y = df_Y.astype(np.float32)\n",
    "# df_Y = df_Y.sum(axis = 1)\n",
    "# train_X = torch.from_numpy(df_X.to_numpy()).to(torch.float32)\n",
    "# train_Y = torch.from_numpy(df_Y.to_numpy().reshape(-1,1)).to(torch.float32)\n"
   ]
  },
  {
   "cell_type": "code",
   "execution_count": null,
   "metadata": {
    "metadata": {}
   },
   "outputs": [
    {
     "name": "stdout",
     "output_type": "stream",
     "text": [
      "                0\n",
      "count  282.000000\n",
      "mean     3.234725\n",
      "std      1.378892\n",
      "min      0.231800\n",
      "25%      2.279614\n",
      "50%      3.117695\n",
      "75%      4.512507\n",
      "max      6.135338\n"
     ]
    }
   ],
   "source": [
    "\n",
    "init_sample_theta_all = df_X.to_numpy()[:250+32,:]\n",
    "init_sample_discrepancy_all = df_Y.to_numpy().reshape(-1,1)[:250+32,:]\n",
    "print(pd.DataFrame(init_sample_discrepancy_all).describe())"
   ]
  },
  {
   "cell_type": "code",
   "execution_count": null,
   "metadata": {
    "metadata": {}
   },
   "outputs": [],
   "source": [
    "X = torch.from_numpy(init_sample_theta_all)\n",
    "Y = torch.from_numpy(init_sample_discrepancy_all)\n",
    "train_X = X.double()\n",
    "train_Y = Y.double()"
   ]
  },
  {
   "cell_type": "code",
   "execution_count": 33,
   "metadata": {
    "metadata": {}
   },
   "outputs": [
    {
     "name": "stdout",
     "output_type": "stream",
     "text": [
      "                 0            1            2            3            4\n",
      "count  2048.000000  2048.000000  2048.000000  2048.000000  2048.000000\n",
      "mean      1.785705     0.116894     0.940603     0.419302     0.490570\n",
      "std       1.901598     1.872564     2.129770     1.968915     1.519203\n",
      "min       0.000000    -3.000000    -3.000000    -3.000000    -2.000000\n",
      "25%       0.000000    -1.142780    -0.786101    -1.020647    -0.206960\n",
      "50%       1.153660    -0.148901     1.529640     0.413483     0.506565\n",
      "75%       3.504254     0.824795     2.595295     1.649822     1.153509\n",
      "max       5.000000     5.000000     5.000000     5.000000     6.000000\n"
     ]
    }
   ],
   "source": [
    "print(pd.DataFrame(train_X).describe())"
   ]
  },
  {
   "cell_type": "code",
   "execution_count": 34,
   "metadata": {
    "metadata": {}
   },
   "outputs": [
    {
     "data": {
      "text/plain": [
       "[0.09404336, -0.8758533, 2.080699, 1.414022, 0.6108216]"
      ]
     },
     "execution_count": 34,
     "metadata": {},
     "output_type": "execute_result"
    }
   ],
   "source": [
    "real_theta_u = [real_theta[0],real_theta[3],real_theta[5],real_theta[6],real_theta[-1]]  \n",
    "real_theta_u  "
   ]
  },
  {
   "cell_type": "code",
   "execution_count": 35,
   "metadata": {
    "metadata": {}
   },
   "outputs": [],
   "source": [
    "lows_u = [0,-3,-3,-3,-2]\n",
    "highs_u = [5,5,5,5,6]\n"
   ]
  },
  {
   "cell_type": "code",
   "execution_count": 36,
   "metadata": {},
   "outputs": [
    {
     "data": {
      "text/html": [
       "<div>\n",
       "<style scoped>\n",
       "    .dataframe tbody tr th:only-of-type {\n",
       "        vertical-align: middle;\n",
       "    }\n",
       "\n",
       "    .dataframe tbody tr th {\n",
       "        vertical-align: top;\n",
       "    }\n",
       "\n",
       "    .dataframe thead th {\n",
       "        text-align: right;\n",
       "    }\n",
       "</style>\n",
       "<table border=\"1\" class=\"dataframe\">\n",
       "  <thead>\n",
       "    <tr style=\"text-align: right;\">\n",
       "      <th></th>\n",
       "      <th>0</th>\n",
       "    </tr>\n",
       "  </thead>\n",
       "  <tbody>\n",
       "    <tr>\n",
       "      <th>count</th>\n",
       "      <td>2048.000000</td>\n",
       "    </tr>\n",
       "    <tr>\n",
       "      <th>mean</th>\n",
       "      <td>6.357771</td>\n",
       "    </tr>\n",
       "    <tr>\n",
       "      <th>std</th>\n",
       "      <td>1.985343</td>\n",
       "    </tr>\n",
       "    <tr>\n",
       "      <th>min</th>\n",
       "      <td>0.231800</td>\n",
       "    </tr>\n",
       "    <tr>\n",
       "      <th>25%</th>\n",
       "      <td>5.339018</td>\n",
       "    </tr>\n",
       "    <tr>\n",
       "      <th>50%</th>\n",
       "      <td>6.257015</td>\n",
       "    </tr>\n",
       "    <tr>\n",
       "      <th>75%</th>\n",
       "      <td>8.057779</td>\n",
       "    </tr>\n",
       "    <tr>\n",
       "      <th>max</th>\n",
       "      <td>9.935731</td>\n",
       "    </tr>\n",
       "  </tbody>\n",
       "</table>\n",
       "</div>"
      ],
      "text/plain": [
       "                 0\n",
       "count  2048.000000\n",
       "mean      6.357771\n",
       "std       1.985343\n",
       "min       0.231800\n",
       "25%       5.339018\n",
       "50%       6.257015\n",
       "75%       8.057779\n",
       "max       9.935731"
      ]
     },
     "execution_count": 36,
     "metadata": {},
     "output_type": "execute_result"
    }
   ],
   "source": [
    "df = pd.DataFrame(train_Y)\n",
    "df.describe()"
   ]
  },
  {
   "cell_type": "code",
   "execution_count": null,
   "metadata": {},
   "outputs": [],
   "source": [
    "#  GPU training setting\n",
    "# device_gpu = torch.device(\"cuda:0\")\n",
    "# device_cpu = torch.device(\"cpu\")\n",
    "# # Optimize acquisition function on CPU\n",
    "# # Step 1: Evaluate the acquisition function on GPU and transfer to CPU\n",
    "# def evaluate_acqf_on_cpu(acq_function, bounds, **kwargs):\n",
    "#     # Wrap the GPU acquisition function in a CPU-compatible function\n",
    "#     def wrapped_acq_function(X):\n",
    "#         X_gpu = X.to(device_gpu)  # Move inputs to GPU\n",
    "#         with torch.no_grad():\n",
    "#             return acq_function(X_gpu).to(device_cpu)  # Return outputs on CPU\n",
    "\n",
    "#     return optimize_acqf(wrapped_acq_function, bounds=bounds, **kwargs)"
   ]
  },
  {
   "cell_type": "code",
   "execution_count": 37,
   "metadata": {},
   "outputs": [],
   "source": [
    "ref_point = list(init_sample_discrepancy_all.min(axis=0)-0.1)\n",
    "bounds = torch.tensor([lows_u,highs_u],dtype=torch.float32)"
   ]
  },
  {
   "cell_type": "code",
   "execution_count": 38,
   "metadata": {},
   "outputs": [
    {
     "name": "stderr",
     "output_type": "stream",
     "text": [
      "c:\\Users\\e0729936\\AppData\\Local\\Programs\\Python\\Python39\\lib\\site-packages\\botorch\\models\\gp_regression.py:161: UserWarning: The model inputs are of type torch.float32. It is strongly recommended to use double precision in BoTorch, as this improves both precision and stability and can help avoid numerical errors. See https://github.com/pytorch/botorch/discussions/1444\n",
      "  self._validate_tensor_args(X=transformed_X, Y=train_Y, Yvar=train_Yvar)\n",
      "c:\\Users\\e0729936\\AppData\\Local\\Programs\\Python\\Python39\\lib\\site-packages\\botorch\\models\\utils\\assorted.py:174: InputDataWarning: Input data is not contained to the unit cube. Please consider min-max scaling the input data.\n",
      "  warnings.warn(msg, InputDataWarning)\n",
      "c:\\Users\\e0729936\\AppData\\Local\\Programs\\Python\\Python39\\lib\\site-packages\\botorch\\models\\utils\\assorted.py:202: InputDataWarning: Input data is not standardized (mean = tensor([6.3578]), std = tensor([1.9853])). Please consider scaling the input to zero mean and unit variance.\n",
      "  warnings.warn(msg, InputDataWarning)\n"
     ]
    },
    {
     "name": "stdout",
     "output_type": "stream",
     "text": [
      "gp is finished\n",
      "mll is finished\n"
     ]
    },
    {
     "name": "stderr",
     "output_type": "stream",
     "text": [
      "c:\\Users\\e0729936\\AppData\\Local\\Programs\\Python\\Python39\\lib\\site-packages\\linear_operator\\utils\\cholesky.py:40: NumericalWarning: A not p.d., added jitter of 1.0e-06 to the diagonal\n",
      "  warnings.warn(\n",
      "c:\\Users\\e0729936\\AppData\\Local\\Programs\\Python\\Python39\\lib\\site-packages\\linear_operator\\utils\\cholesky.py:40: NumericalWarning: A not p.d., added jitter of 1.0e-05 to the diagonal\n",
      "  warnings.warn(\n",
      "c:\\Users\\e0729936\\AppData\\Local\\Programs\\Python\\Python39\\lib\\site-packages\\linear_operator\\utils\\cholesky.py:40: NumericalWarning: A not p.d., added jitter of 1.0e-04 to the diagonal\n",
      "  warnings.warn(\n"
     ]
    },
    {
     "data": {
      "text/plain": [
       "ExactMarginalLogLikelihood(\n",
       "  (likelihood): GaussianLikelihood(\n",
       "    (noise_covar): HomoskedasticNoise(\n",
       "      (noise_prior): GammaPrior()\n",
       "      (raw_noise_constraint): GreaterThan(1.000E-04)\n",
       "    )\n",
       "  )\n",
       "  (model): SingleTaskGP(\n",
       "    (likelihood): GaussianLikelihood(\n",
       "      (noise_covar): HomoskedasticNoise(\n",
       "        (noise_prior): GammaPrior()\n",
       "        (raw_noise_constraint): GreaterThan(1.000E-04)\n",
       "      )\n",
       "    )\n",
       "    (mean_module): ConstantMean()\n",
       "    (covar_module): ScaleKernel(\n",
       "      (base_kernel): MaternKernel(\n",
       "        (lengthscale_prior): GammaPrior()\n",
       "        (raw_lengthscale_constraint): Positive()\n",
       "      )\n",
       "      (outputscale_prior): GammaPrior()\n",
       "      (raw_outputscale_constraint): Positive()\n",
       "    )\n",
       "  )\n",
       ")"
      ]
     },
     "execution_count": 38,
     "metadata": {},
     "output_type": "execute_result"
    }
   ],
   "source": [
    "# # # # # # retrieve GP model based on train_X and train_Y, can skip the next chunk for model replication \n",
    "\n",
    "# gp = SingleTaskGP(train_X, train_Y)\n",
    "# print(f\"gp is finished\")\n",
    "# mll = ExactMarginalLogLikelihood(gp.likelihood, gp)\n",
    "# print(f\"mll is finished\")\n",
    "# # ---------------------\n",
    "# fit_gpytorch_mll(mll)"
   ]
  },
  {
   "cell_type": "code",
   "execution_count": 152,
   "metadata": {
    "colab": {
     "base_uri": "https://localhost:8080/"
    },
    "executionInfo": {
     "elapsed": 218284,
     "status": "ok",
     "timestamp": 1701845442907,
     "user": {
      "displayName": "Zichuan C",
      "userId": "17818169017923043377"
     },
     "user_tz": -480
    },
    "id": "zeYmKuDu8skP",
    "metadata": {},
    "outputId": "5a9a631e-2da0-4344-a10f-2d29d9f2bf39"
   },
   "outputs": [
    {
     "name": "stdout",
     "output_type": "stream",
     "text": [
      "Iteration: 1\t\n",
      "New parameter point: [[0.0, -1.1799362897872925, 2.55057692527771, 1.6357468366622925, 1.3548308610916138]]\t\n",
      "Acuisition function value: 9.44143295288086\t\n",
      "Real discrepancy result: [[8.549509048461914]]\t\n",
      "Predicted discrepancy result: [[9.377371788024902]]\t\n",
      "Iteration: 2\t\n",
      "New parameter point: [[4.154000282287598, 1.515044927597046, 1.2650712728500366, -0.5278719663619995, 0.3245771527290344]]\t\n",
      "Acuisition function value: 6.90355110168457\t\n",
      "Real discrepancy result: [[6.489628791809082]]\t\n",
      "Predicted discrepancy result: [[6.413506507873535]]\t\n",
      "Iteration: 3\t\n",
      "New parameter point: [[5.0, 0.23567205667495728, -1.5878524780273438, -0.32943785190582275, -0.11463213711977005]]\t\n",
      "Acuisition function value: 6.930243968963623\t\n",
      "Real discrepancy result: [[6.3634352684021]]\t\n",
      "Predicted discrepancy result: [[6.423833847045898]]\t\n",
      "Iteration: 4\t\n",
      "New parameter point: [[5.0, 4.6108503341674805, 2.8574249744415283, -2.6374094486236572, 1.103886365890503]]\t\n",
      "Acuisition function value: 6.890538692474365\t\n",
      "Real discrepancy result: [[5.695611476898193]]\t\n",
      "Predicted discrepancy result: [[5.777467727661133]]\t\n",
      "Iteration: 5\t\n",
      "New parameter point: [[0.0, -0.4975466728210449, -3.0, 0.3308003842830658, 0.5199368000030518]]\t\n",
      "Acuisition function value: 6.917722702026367\t\n",
      "Real discrepancy result: [[5.930187702178955]]\t\n",
      "Predicted discrepancy result: [[5.905356407165527]]\t\n",
      "Iteration: 6\t\n",
      "New parameter point: [[0.47113367915153503, 0.07668669521808624, 1.0625160932540894, 0.18572530150413513, 0.41125980019569397]]\t\n",
      "Acuisition function value: 7.071646213531494\t\n",
      "Real discrepancy result: [[6.598835468292236]]\t\n",
      "Predicted discrepancy result: [[6.747886657714844]]\t\n",
      "Iteration: 7\t\n",
      "New parameter point: [[0.6826131939888, 0.34694206714630127, -0.923887312412262, -1.8465352058410645, 0.43657881021499634]]\t\n",
      "Acuisition function value: 6.950067520141602\t\n",
      "Real discrepancy result: [[6.450367450714111]]\t\n",
      "Predicted discrepancy result: [[6.435488700866699]]\t\n",
      "Iteration: 8\t\n",
      "New parameter point: [[0.0, -1.182932734489441, 2.612276077270508, 1.5580469369888306, 1.4466193914413452]]\t\n",
      "Acuisition function value: 9.435745239257812\t\n",
      "Real discrepancy result: [[8.56210708618164]]\t\n",
      "Predicted discrepancy result: [[9.340495109558105]]\t\n",
      "Iteration: 9\t\n",
      "New parameter point: [[5.0, 0.393435537815094, -0.31492945551872253, -1.044916033744812, 0.5681709051132202]]\t\n",
      "Acuisition function value: 6.848904609680176\t\n",
      "Real discrepancy result: [[6.320957183837891]]\t\n",
      "Predicted discrepancy result: [[6.341012954711914]]\t\n",
      "Iteration: 10\t\n",
      "New parameter point: [[2.0192644596099854, 0.06571134924888611, -0.7221550941467285, 0.12033367902040482, -0.7016814351081848]]\t\n",
      "Acuisition function value: 6.972487926483154\t\n",
      "Real discrepancy result: [[6.406415939331055]]\t\n",
      "Predicted discrepancy result: [[6.367467403411865]]\t\n",
      "Iteration: 11\t\n",
      "New parameter point: [[1.6978565454483032, -0.34961456060409546, -2.778318166732788, -0.24356427788734436, -2.0]]\t\n",
      "Acuisition function value: 6.986383438110352\t\n",
      "Real discrepancy result: [[6.144227027893066]]\t\n",
      "Predicted discrepancy result: [[6.031203269958496]]\t\n",
      "Iteration: 12\t\n",
      "New parameter point: [[0.0, -1.1301605701446533, 2.683513879776001, 1.670570969581604, 1.2699800729751587]]\t\n",
      "Acuisition function value: 9.489628791809082\t\n",
      "Real discrepancy result: [[9.64775562286377]]\t\n",
      "Predicted discrepancy result: [[9.446149826049805]]\t\n",
      "Iteration: 13\t\n",
      "New parameter point: [[0.986194908618927, -0.005592647939920425, -2.049238681793213, -0.3508024513721466, -0.1917692869901657]]\t\n",
      "Acuisition function value: 6.93528413772583\t\n",
      "Real discrepancy result: [[6.469061851501465]]\t\n",
      "Predicted discrepancy result: [[6.473468780517578]]\t\n",
      "Iteration: 14\t\n",
      "New parameter point: [[1.7358481884002686, 1.992616057395935, 1.6305789947509766, -0.5989290475845337, 0.3302744925022125]]\t\n",
      "Acuisition function value: 6.952686309814453\t\n",
      "Real discrepancy result: [[6.424945831298828]]\t\n",
      "Predicted discrepancy result: [[6.4845051765441895]]\t\n",
      "Iteration: 15\t\n",
      "New parameter point: [[1.914902687072754, 4.366034030914307, 2.818173408508301, -2.6260879039764404, 1.0207886695861816]]\t\n",
      "Acuisition function value: 6.848756790161133\t\n",
      "Real discrepancy result: [[5.762605667114258]]\t\n",
      "Predicted discrepancy result: [[6.112760543823242]]\t\n",
      "Iteration: 16\t\n",
      "New parameter point: [[3.810594081878662, 3.7630276679992676, 2.815131187438965, -1.1953941583633423, 0.4894751310348511]]\t\n",
      "Acuisition function value: 6.957986354827881\t\n",
      "Real discrepancy result: [[5.900235652923584]]\t\n",
      "Predicted discrepancy result: [[6.290040969848633]]\t\n",
      "Iteration: 17\t\n",
      "New parameter point: [[0.8587692379951477, 0.0395401306450367, -0.04623667150735855, 0.018457671627402306, -0.2546839714050293]]\t\n",
      "Acuisition function value: 6.973753929138184\t\n",
      "Real discrepancy result: [[6.546248912811279]]\t\n",
      "Predicted discrepancy result: [[6.570786952972412]]\t\n",
      "Iteration: 18\t\n",
      "New parameter point: [[5.0, 3.316253662109375, 2.1978538036346436, -1.244602084159851, 0.4117695391178131]]\t\n",
      "Acuisition function value: 7.076266288757324\t\n",
      "Real discrepancy result: [[6.164324760437012]]\t\n",
      "Predicted discrepancy result: [[6.017678260803223]]\t\n",
      "Iteration: 19\t\n",
      "New parameter point: [[0.0, -1.146978497505188, 2.681501626968384, 1.6682405471801758, 1.265494704246521]]\t\n",
      "Acuisition function value: 9.490564346313477\t\n",
      "Real discrepancy result: [[9.478649139404297]]\t\n",
      "Predicted discrepancy result: [[9.446344375610352]]\t\n",
      "Iteration: 20\t\n",
      "New parameter point: [[2.6226425170898438, 3.791060209274292, 2.149164915084839, 4.51728630065918, -0.683822512626648]]\t\n",
      "Acuisition function value: 6.936360836029053\t\n",
      "Real discrepancy result: [[5.118149280548096]]\t\n",
      "Predicted discrepancy result: [[5.593038558959961]]\t\n",
      "Iteration: 21\t\n",
      "New parameter point: [[0.0, -1.128785490989685, 2.684511423110962, 1.670551061630249, 1.2675615549087524]]\t\n",
      "Acuisition function value: 9.492469787597656\t\n",
      "Real discrepancy result: [[9.487683296203613]]\t\n",
      "Predicted discrepancy result: [[9.447609901428223]]\t\n",
      "Iteration: 22\t\n",
      "New parameter point: [[0.0, -1.1476459503173828, 2.682446002960205, 1.670607089996338, 1.261013150215149]]\t\n",
      "Acuisition function value: 9.491744041442871\t\n",
      "Real discrepancy result: [[9.644655227661133]]\t\n",
      "Predicted discrepancy result: [[9.446460723876953]]\t\n",
      "Iteration: 23\t\n",
      "New parameter point: [[0.0, -1.1771633625030518, 2.6018593311309814, 1.5953776836395264, 1.294347882270813]]\t\n",
      "Acuisition function value: 9.501133918762207\t\n",
      "Real discrepancy result: [[9.147994041442871]]\t\n",
      "Predicted discrepancy result: [[9.44239616394043]]\t\n",
      "Iteration: 24\t\n",
      "New parameter point: [[5.0, 1.9115705490112305, 1.9423644542694092, -2.06831955909729, -0.04568985477089882]]\t\n",
      "Acuisition function value: 6.928171157836914\t\n",
      "Real discrepancy result: [[6.000055313110352]]\t\n",
      "Predicted discrepancy result: [[5.953677177429199]]\t\n",
      "Iteration: 25\t\n",
      "New parameter point: [[1.1730096340179443, 0.4465287923812866, -3.0, -2.5954253673553467, 0.4405692517757416]]\t\n",
      "Acuisition function value: 6.971212387084961\t\n",
      "Real discrepancy result: [[6.380771636962891]]\t\n",
      "Predicted discrepancy result: [[6.089345932006836]]\t\n",
      "Iteration: 26\t\n",
      "New parameter point: [[5.0, 0.7437942624092102, 1.3540798425674438, 0.40735694766044617, -2.0]]\t\n",
      "Acuisition function value: 6.901768207550049\t\n",
      "Real discrepancy result: [[5.764839172363281]]\t\n",
      "Predicted discrepancy result: [[5.772387504577637]]\t\n",
      "Iteration: 27\t\n",
      "New parameter point: [[5.0, 1.1160118579864502, 1.0292881727218628, 0.16738289594650269, -0.1030028685927391]]\t\n",
      "Acuisition function value: 6.807319641113281\t\n",
      "Real discrepancy result: [[6.245002269744873]]\t\n",
      "Predicted discrepancy result: [[6.138457775115967]]\t\n",
      "Iteration: 28\t\n",
      "New parameter point: [[0.0, -1.125924825668335, 2.6864843368530273, 1.6727412939071655, 1.2662014961242676]]\t\n",
      "Acuisition function value: 9.496892929077148\t\n",
      "Real discrepancy result: [[9.562701225280762]]\t\n",
      "Predicted discrepancy result: [[9.450268745422363]]\t\n",
      "Iteration: 29\t\n",
      "New parameter point: [[1.169834017753601, 0.21963416039943695, -0.061766210943460464, -0.5646595358848572, 0.17377328872680664]]\t\n",
      "Acuisition function value: 6.909275531768799\t\n",
      "Real discrepancy result: [[6.513810634613037]]\t\n",
      "Predicted discrepancy result: [[6.55954122543335]]\t\n",
      "Iteration: 30\t\n",
      "New parameter point: [[4.051024436950684, 0.689891517162323, 0.4938597083091736, -0.34039703011512756, 0.40247786045074463]]\t\n",
      "Acuisition function value: 6.963568210601807\t\n",
      "Real discrepancy result: [[6.420001983642578]]\t\n",
      "Predicted discrepancy result: [[6.466721534729004]]\t\n",
      "Iteration: 31\t\n",
      "New parameter point: [[1.1533610820770264, 0.09626752883195877, -0.9275944232940674, -0.19550126791000366, -0.26969069242477417]]\t\n",
      "Acuisition function value: 6.965380668640137\t\n",
      "Real discrepancy result: [[6.40945291519165]]\t\n",
      "Predicted discrepancy result: [[6.5042877197265625]]\t\n",
      "Iteration: 32\t\n",
      "New parameter point: [[4.660922527313232, -3.0, -2.1289076805114746, -1.2603245973587036, -2.0]]\t\n",
      "Acuisition function value: 6.916810512542725\t\n",
      "Real discrepancy result: [[5.07600212097168]]\t\n",
      "Predicted discrepancy result: [[4.909177780151367]]\t\n",
      "Iteration: 33\t\n",
      "New parameter point: [[2.7682950496673584, 4.273494243621826, 2.8611221313476562, -0.1037001833319664, 0.20383991301059723]]\t\n",
      "Acuisition function value: 6.95068359375\t\n",
      "Real discrepancy result: [[6.173470973968506]]\t\n",
      "Predicted discrepancy result: [[6.396640777587891]]\t\n",
      "Iteration: 34\t\n",
      "New parameter point: [[5.0, 0.09848207980394363, -1.8670729398727417, -0.628141462802887, -2.0]]\t\n",
      "Acuisition function value: 6.912308216094971\t\n",
      "Real discrepancy result: [[5.928511619567871]]\t\n",
      "Predicted discrepancy result: [[5.677483558654785]]\t\n",
      "Iteration: 35\t\n",
      "New parameter point: [[0.0, -1.1546127796173096, 2.683704137802124, 1.6711562871932983, 1.256543517112732]]\t\n",
      "Acuisition function value: 9.498150825500488\t\n",
      "Real discrepancy result: [[9.473785400390625]]\t\n",
      "Predicted discrepancy result: [[9.451017379760742]]\t\n",
      "Iteration: 36\t\n",
      "New parameter point: [[0.0, -1.145599603652954, 2.683889627456665, 1.6702184677124023, 1.2585465908050537]]\t\n",
      "Acuisition function value: 9.497629165649414\t\n",
      "Real discrepancy result: [[9.227349281311035]]\t\n",
      "Predicted discrepancy result: [[9.451382637023926]]\t\n",
      "Iteration: 37\t\n",
      "New parameter point: [[3.0602147579193115, -0.09348953515291214, -3.0, -1.1718655824661255, 0.09536826610565186]]\t\n",
      "Acuisition function value: 6.8959550857543945\t\n",
      "Real discrepancy result: [[6.23796272277832]]\t\n",
      "Predicted discrepancy result: [[6.345892429351807]]\t\n",
      "Iteration: 38\t\n",
      "New parameter point: [[0.0, -1.127758502960205, 2.686387300491333, 1.6729010343551636, 1.2689052820205688]]\t\n",
      "Acuisition function value: 9.494820594787598\t\n",
      "Real discrepancy result: [[9.392524719238281]]\t\n",
      "Predicted discrepancy result: [[9.449126243591309]]\t\n",
      "Iteration: 39\t\n",
      "New parameter point: [[5.0, -0.35755443572998047, 3.3441948890686035, 2.3006975650787354, -0.8516302704811096]]\t\n",
      "Acuisition function value: 6.85218620300293\t\n",
      "Real discrepancy result: [[4.831809997558594]]\t\n",
      "Predicted discrepancy result: [[4.93125581741333]]\t\n",
      "Iteration: 40\t\n",
      "New parameter point: [[4.281946659088135, -0.39177635312080383, -2.067059278488159, -3.0, 0.2513781189918518]]\t\n",
      "Acuisition function value: 6.987491130828857\t\n",
      "Real discrepancy result: [[5.734952926635742]]\t\n",
      "Predicted discrepancy result: [[5.907944202423096]]\t\n",
      "Iteration: 41\t\n",
      "New parameter point: [[0.0, -1.1320880651474, 2.6857032775878906, 1.6729689836502075, 1.2664775848388672]]\t\n",
      "Acuisition function value: 9.493770599365234\t\n",
      "Real discrepancy result: [[9.521817207336426]]\t\n",
      "Predicted discrepancy result: [[9.448478698730469]]\t\n",
      "Iteration: 42\t\n",
      "New parameter point: [[1.0718929767608643, 3.3271753787994385, 2.299015522003174, 3.7082102298736572, -2.0]]\t\n",
      "Acuisition function value: 6.936696529388428\t\n",
      "Real discrepancy result: [[5.397594451904297]]\t\n",
      "Predicted discrepancy result: [[5.259458541870117]]\t\n",
      "Iteration: 43\t\n",
      "New parameter point: [[5.0, 4.477822303771973, 3.351496934890747, 3.8263871669769287, -1.805055022239685]]\t\n",
      "Acuisition function value: 6.962838649749756\t\n",
      "Real discrepancy result: [[5.102694511413574]]\t\n",
      "Predicted discrepancy result: [[4.931440830230713]]\t\n",
      "Iteration: 44\t\n",
      "New parameter point: [[2.845057249069214, 3.339552879333496, 2.8986427783966064, 4.900245189666748, -2.0]]\t\n",
      "Acuisition function value: 7.013047218322754\t\n",
      "Real discrepancy result: [[5.217907905578613]]\t\n",
      "Predicted discrepancy result: [[5.112994194030762]]\t\n",
      "Iteration: 45\t\n",
      "New parameter point: [[0.0, -0.7081959247589111, -2.615361213684082, -0.8320198655128479, -2.0]]\t\n",
      "Acuisition function value: 6.908224105834961\t\n",
      "Real discrepancy result: [[5.682301044464111]]\t\n",
      "Predicted discrepancy result: [[5.684103488922119]]\t\n",
      "Iteration: 46\t\n",
      "New parameter point: [[4.471796989440918, 3.9104745388031006, 3.8773193359375, 0.1742393672466278, -2.0]]\t\n",
      "Acuisition function value: 6.874737739562988\t\n",
      "Real discrepancy result: [[4.8556742668151855]]\t\n",
      "Predicted discrepancy result: [[4.866185188293457]]\t\n",
      "Iteration: 47\t\n",
      "New parameter point: [[0.0, -1.14218008518219, 2.685177803039551, 1.6713391542434692, 1.2634086608886719]]\t\n",
      "Acuisition function value: 9.495344161987305\t\n",
      "Real discrepancy result: [[9.33684253692627]]\t\n",
      "Predicted discrepancy result: [[9.449960708618164]]\t\n",
      "Iteration: 48\t\n",
      "New parameter point: [[5.0, -3.0, 0.23468492925167084, -0.032309748232364655, -2.0]]\t\n",
      "Acuisition function value: 6.889876842498779\t\n",
      "Real discrepancy result: [[5.232764720916748]]\t\n",
      "Predicted discrepancy result: [[4.948685646057129]]\t\n",
      "Iteration: 49\t\n",
      "New parameter point: [[3.0949883460998535, 0.47523579001426697, -2.6645045280456543, -0.4370022118091583, 0.6628223657608032]]\t\n",
      "Acuisition function value: 6.9783124923706055\t\n",
      "Real discrepancy result: [[6.216686725616455]]\t\n",
      "Predicted discrepancy result: [[6.317451000213623]]\t\n",
      "Iteration: 50\t\n",
      "New parameter point: [[1.4247760772705078, 0.4995521903038025, 0.38773849606513977, -3.0, 0.8033550381660461]]\t\n",
      "Acuisition function value: 6.929105758666992\t\n",
      "Real discrepancy result: [[5.944248199462891]]\t\n",
      "Predicted discrepancy result: [[5.973355293273926]]\t\n",
      "Iteration: 51\t\n",
      "New parameter point: [[1.8818254470825195, 0.8252794146537781, 1.2279348373413086, 4.37167501449585, -0.2065255343914032]]\t\n",
      "Acuisition function value: 6.910016059875488\t\n",
      "Real discrepancy result: [[5.251012325286865]]\t\n",
      "Predicted discrepancy result: [[5.513091087341309]]\t\n",
      "Iteration: 52\t\n",
      "New parameter point: [[2.145780086517334, -0.2122507244348526, -0.5778478384017944, -0.007824104279279709, 0.2699851095676422]]\t\n",
      "Acuisition function value: 6.957420825958252\t\n",
      "Real discrepancy result: [[6.292981147766113]]\t\n",
      "Predicted discrepancy result: [[6.380893230438232]]\t\n",
      "Iteration: 53\t\n",
      "New parameter point: [[0.0, -1.1297591924667358, 2.684424877166748, 1.670088529586792, 1.2670682668685913]]\t\n",
      "Acuisition function value: 9.491547584533691\t\n",
      "Real discrepancy result: [[9.539726257324219]]\t\n",
      "Predicted discrepancy result: [[9.447818756103516]]\t\n",
      "Iteration: 54\t\n",
      "New parameter point: [[0.0, -1.1311758756637573, 2.6850743293762207, 1.6723284721374512, 1.266728401184082]]\t\n",
      "Acuisition function value: 9.493461608886719\t\n",
      "Real discrepancy result: [[9.473821640014648]]\t\n",
      "Predicted discrepancy result: [[9.449300765991211]]\t\n",
      "Iteration: 55\t\n",
      "New parameter point: [[0.0, 0.7454844117164612, -0.6734244227409363, -1.350137710571289, 0.9655088782310486]]\t\n",
      "Acuisition function value: 6.948489665985107\t\n",
      "Real discrepancy result: [[6.142613410949707]]\t\n",
      "Predicted discrepancy result: [[6.2277021408081055]]\t\n",
      "Iteration: 56\t\n",
      "New parameter point: [[5.0, 4.017776012420654, 2.6183934211730957, -0.1430770605802536, -0.009435695596039295]]\t\n",
      "Acuisition function value: 6.985342025756836\t\n",
      "Real discrepancy result: [[6.313296318054199]]\t\n",
      "Predicted discrepancy result: [[5.969982147216797]]\t\n",
      "Iteration: 57\t\n",
      "New parameter point: [[5.0, -1.3558872938156128, 4.432370662689209, 1.2929162979125977, 0.13860872387886047]]\t\n",
      "Acuisition function value: 6.894615173339844\t\n",
      "Real discrepancy result: [[4.716231346130371]]\t\n",
      "Predicted discrepancy result: [[4.756405830383301]]\t\n",
      "Iteration: 58\t\n",
      "New parameter point: [[3.6009914875030518, 0.18685288727283478, -2.06223201751709, 0.007566375192254782, 0.24417421221733093]]\t\n",
      "Acuisition function value: 6.925029754638672\t\n",
      "Real discrepancy result: [[6.314342021942139]]\t\n",
      "Predicted discrepancy result: [[6.322607517242432]]\t\n",
      "Iteration: 59\t\n",
      "New parameter point: [[1.7221914529800415, 0.49362629652023315, -0.29664307832717896, -0.3033287525177002, 0.6615622639656067]]\t\n",
      "Acuisition function value: 6.890138626098633\t\n",
      "Real discrepancy result: [[6.394599914550781]]\t\n",
      "Predicted discrepancy result: [[6.383822441101074]]\t\n",
      "Iteration: 60\t\n",
      "New parameter point: [[1.8108278512954712, 3.3392605781555176, 1.9020787477493286, 2.8371222019195557, -1.9665780067443848]]\t\n",
      "Acuisition function value: 6.890241622924805\t\n",
      "Real discrepancy result: [[4.622999668121338]]\t\n",
      "Predicted discrepancy result: [[5.121265411376953]]\t\n",
      "Iteration: 61\t\n",
      "New parameter point: [[0.0, -1.1278127431869507, 2.6837265491485596, 1.6696923971176147, 1.2646980285644531]]\t\n",
      "Acuisition function value: 9.4915771484375\t\n",
      "Real discrepancy result: [[9.427888870239258]]\t\n",
      "Predicted discrepancy result: [[9.44838809967041]]\t\n",
      "Iteration: 62\t\n",
      "New parameter point: [[2.400886297225952, -3.0, 1.5622650384902954, -0.5823387503623962, -2.0]]\t\n",
      "Acuisition function value: 6.948450088500977\t\n",
      "Real discrepancy result: [[5.132891654968262]]\t\n",
      "Predicted discrepancy result: [[5.037492752075195]]\t\n",
      "Iteration: 63\t\n",
      "New parameter point: [[0.0, -1.1440672874450684, 2.6842284202575684, 1.6713824272155762, 1.2639786005020142]]\t\n",
      "Acuisition function value: 9.494189262390137\t\n",
      "Real discrepancy result: [[9.383350372314453]]\t\n",
      "Predicted discrepancy result: [[9.450126647949219]]\t\n",
      "Iteration: 64\t\n",
      "New parameter point: [[2.9749460220336914, 0.17292267084121704, -0.30602768063545227, -0.36572837829589844, 0.4143734872341156]]\t\n",
      "Acuisition function value: 6.903653621673584\t\n",
      "Real discrepancy result: [[6.38560676574707]]\t\n",
      "Predicted discrepancy result: [[6.4305853843688965]]\t\n",
      "Iteration: 65\t\n",
      "New parameter point: [[4.01384162902832, 0.4947971701622009, -1.1873719692230225, -2.175847053527832, 0.7302825450897217]]\t\n",
      "Acuisition function value: 6.997058391571045\t\n",
      "Real discrepancy result: [[6.319785118103027]]\t\n",
      "Predicted discrepancy result: [[6.323380470275879]]\t\n",
      "Iteration: 66\t\n",
      "New parameter point: [[0.0, -1.1533223390579224, 2.6815083026885986, 1.6689845323562622, 1.2574999332427979]]\t\n",
      "Acuisition function value: 9.492179870605469\t\n",
      "Real discrepancy result: [[9.58045482635498]]\t\n",
      "Predicted discrepancy result: [[9.448527336120605]]\t\n",
      "Iteration: 67\t\n",
      "New parameter point: [[2.495149612426758, 0.1492692232131958, -2.3411338329315186, -1.513175368309021, -0.15848493576049805]]\t\n",
      "Acuisition function value: 6.893799304962158\t\n",
      "Real discrepancy result: [[6.236562252044678]]\t\n",
      "Predicted discrepancy result: [[6.269664287567139]]\t\n",
      "Iteration: 68\t\n",
      "New parameter point: [[0.9336137771606445, -0.04091141000390053, -2.20957612991333, -0.6897075176239014, 0.7100509405136108]]\t\n",
      "Acuisition function value: 6.90955924987793\t\n",
      "Real discrepancy result: [[6.260757923126221]]\t\n",
      "Predicted discrepancy result: [[6.378597259521484]]\t\n",
      "Iteration: 69\t\n",
      "New parameter point: [[5.0, 3.9559431076049805, 2.4546186923980713, -0.8337600827217102, 0.10274864733219147]]\t\n",
      "Acuisition function value: 7.05814790725708\t\n",
      "Real discrepancy result: [[6.0220842361450195]]\t\n",
      "Predicted discrepancy result: [[6.11895751953125]]\t\n",
      "Iteration: 70\t\n",
      "New parameter point: [[0.0, -1.1239745616912842, 2.685076951980591, 1.6704223155975342, 1.2658400535583496]]\t\n",
      "Acuisition function value: 9.491805076599121\t\n",
      "Real discrepancy result: [[9.673776626586914]]\t\n",
      "Predicted discrepancy result: [[9.448837280273438]]\t\n",
      "Iteration: 71\t\n",
      "New parameter point: [[5.0, 1.7271108627319336, 1.0746049880981445, -1.8743349313735962, 0.7576364874839783]]\t\n",
      "Acuisition function value: 6.985461711883545\t\n",
      "Real discrepancy result: [[6.2303361892700195]]\t\n",
      "Predicted discrepancy result: [[6.08268928527832]]\t\n",
      "Iteration: 72\t\n",
      "New parameter point: [[0.0, -1.1391459703445435, 2.6854631900787354, 1.6721231937408447, 1.2635669708251953]]\t\n",
      "Acuisition function value: 9.495989799499512\t\n",
      "Real discrepancy result: [[9.631905555725098]]\t\n",
      "Predicted discrepancy result: [[9.452369689941406]]\t\n",
      "Iteration: 73\t\n",
      "New parameter point: [[3.264387845993042, 0.01371671725064516, 4.0906662940979, -1.9237074851989746, -1.9194259643554688]]\t\n",
      "Acuisition function value: 6.956554412841797\t\n",
      "Real discrepancy result: [[4.539249420166016]]\t\n",
      "Predicted discrepancy result: [[4.523040771484375]]\t\n",
      "Iteration: 74\t\n",
      "New parameter point: [[3.7865612506866455, 0.3847985565662384, -2.7751073837280273, -1.6244115829467773, 0.2684013247489929]]\t\n",
      "Acuisition function value: 6.924493789672852\t\n",
      "Real discrepancy result: [[6.377109050750732]]\t\n",
      "Predicted discrepancy result: [[6.44886589050293]]\t\n",
      "Iteration: 75\t\n",
      "New parameter point: [[0.0, -1.1328755617141724, 2.6860573291778564, 1.6724287271499634, 1.2644495964050293]]\t\n",
      "Acuisition function value: 9.497876167297363\t\n",
      "Real discrepancy result: [[9.512322425842285]]\t\n",
      "Predicted discrepancy result: [[9.45408821105957]]\t\n",
      "Iteration: 76\t\n",
      "New parameter point: [[2.529118299484253, 5.0, 4.544735908508301, 3.9071078300476074, -0.31145450472831726]]\t\n",
      "Acuisition function value: 6.8922271728515625\t\n",
      "Real discrepancy result: [[4.779287815093994]]\t\n",
      "Predicted discrepancy result: [[5.0052080154418945]]\t\n",
      "Iteration: 77\t\n",
      "New parameter point: [[4.403115272521973, 2.0876245498657227, 1.6207786798477173, -1.1564658880233765, 0.8549103140830994]]\t\n",
      "Acuisition function value: 6.956849098205566\t\n",
      "Real discrepancy result: [[6.263246536254883]]\t\n",
      "Predicted discrepancy result: [[6.18885612487793]]\t\n",
      "Iteration: 78\t\n",
      "New parameter point: [[0.0, 0.20126353204250336, 0.870185136795044, -0.22499585151672363, 0.8442109227180481]]\t\n",
      "Acuisition function value: 7.085141658782959\t\n",
      "Real discrepancy result: [[6.428072929382324]]\t\n",
      "Predicted discrepancy result: [[6.561639785766602]]\t\n",
      "Iteration: 79\t\n",
      "New parameter point: [[1.297745704650879, 0.45247796177864075, -3.0, -2.449591636657715, -0.833641529083252]]\t\n",
      "Acuisition function value: 6.981768608093262\t\n",
      "Real discrepancy result: [[5.631786823272705]]\t\n",
      "Predicted discrepancy result: [[5.876063346862793]]\t\n",
      "Iteration: 80\t\n",
      "New parameter point: [[4.095987796783447, 0.6923924088478088, -0.15186500549316406, -2.7053985595703125, 0.6831831932067871]]\t\n",
      "Acuisition function value: 6.952071189880371\t\n",
      "Real discrepancy result: [[6.366013526916504]]\t\n",
      "Predicted discrepancy result: [[6.294782638549805]]\t\n",
      "Iteration: 81\t\n",
      "New parameter point: [[1.1862033605575562, 0.39492565393447876, -1.6446459293365479, -0.9682407379150391, 0.03599640727043152]]\t\n",
      "Acuisition function value: 6.929882049560547\t\n",
      "Real discrepancy result: [[6.177163600921631]]\t\n",
      "Predicted discrepancy result: [[6.365375995635986]]\t\n",
      "Iteration: 82\t\n",
      "New parameter point: [[0.0, -1.1426066160202026, 2.6871767044067383, 1.672709345817566, 1.2616047859191895]]\t\n",
      "Acuisition function value: 9.500102996826172\t\n",
      "Real discrepancy result: [[9.562609672546387]]\t\n",
      "Predicted discrepancy result: [[9.455887794494629]]\t\n",
      "Iteration: 83\t\n",
      "New parameter point: [[5.0, 1.02263605594635, -2.9894471168518066, -3.0, 0.8821929097175598]]\t\n",
      "Acuisition function value: 7.015551567077637\t\n",
      "Real discrepancy result: [[6.037138938903809]]\t\n",
      "Predicted discrepancy result: [[5.584410190582275]]\t\n",
      "Iteration: 84\t\n",
      "New parameter point: [[0.0, -1.1369411945343018, 2.686879873275757, 1.673953890800476, 1.2666534185409546]]\t\n",
      "Acuisition function value: 9.500032424926758\t\n",
      "Real discrepancy result: [[9.45565414428711]]\t\n",
      "Predicted discrepancy result: [[9.456478118896484]]\t\n",
      "Iteration: 85\t\n",
      "New parameter point: [[0.0, -1.8583229780197144, -1.8184239864349365, 0.5476466417312622, -1.2188780307769775]]\t\n",
      "Acuisition function value: 6.996546745300293\t\n",
      "Real discrepancy result: [[6.209053993225098]]\t\n",
      "Predicted discrepancy result: [[6.224970817565918]]\t\n",
      "Iteration: 86\t\n",
      "New parameter point: [[0.0, -1.1463775634765625, 2.6853883266448975, 1.6735872030258179, 1.2635103464126587]]\t\n",
      "Acuisition function value: 9.500221252441406\t\n",
      "Real discrepancy result: [[9.536019325256348]]\t\n",
      "Predicted discrepancy result: [[9.456579208374023]]\t\n",
      "Iteration: 87\t\n",
      "New parameter point: [[0.0, -1.1632951498031616, 2.681401014328003, 1.6720685958862305, 1.2588601112365723]]\t\n",
      "Acuisition function value: 9.500990867614746\t\n",
      "Real discrepancy result: [[9.280628204345703]]\t\n",
      "Predicted discrepancy result: [[9.457256317138672]]\t\n",
      "Iteration: 88\t\n",
      "New parameter point: [[0.0, -1.1338688135147095, 2.686384439468384, 1.6730904579162598, 1.2665024995803833]]\t\n",
      "Acuisition function value: 9.497998237609863\t\n",
      "Real discrepancy result: [[9.585993766784668]]\t\n",
      "Predicted discrepancy result: [[9.455822944641113]]\t\n",
      "Iteration: 89\t\n",
      "New parameter point: [[0.0, -1.1332526206970215, 2.687944173812866, 1.6742299795150757, 1.2587649822235107]]\t\n",
      "Acuisition function value: 9.500207901000977\t\n",
      "Real discrepancy result: [[9.42757511138916]]\t\n",
      "Predicted discrepancy result: [[9.456441879272461]]\t\n",
      "Iteration: 90\t\n",
      "New parameter point: [[0.0, -1.147629737854004, 2.6842617988586426, 1.6703522205352783, 1.2599883079528809]]\t\n",
      "Acuisition function value: 9.497608184814453\t\n",
      "Real discrepancy result: [[9.479168891906738]]\t\n",
      "Predicted discrepancy result: [[9.455840110778809]]\t\n",
      "Iteration: 91\t\n",
      "New parameter point: [[0.0, -1.158579707145691, 2.6794536113739014, 1.6670640707015991, 1.256215214729309]]\t\n",
      "Acuisition function value: 9.497875213623047\t\n",
      "Real discrepancy result: [[9.479966163635254]]\t\n",
      "Predicted discrepancy result: [[9.456387519836426]]\t\n",
      "Iteration: 92\t\n",
      "New parameter point: [[0.0, -1.1340808868408203, 2.6878557205200195, 1.6744725704193115, 1.2664463520050049]]\t\n",
      "Acuisition function value: 9.499529838562012\t\n",
      "Real discrepancy result: [[9.325366973876953]]\t\n",
      "Predicted discrepancy result: [[9.457307815551758]]\t\n",
      "Iteration: 93\t\n",
      "New parameter point: [[5.0, -3.0, -0.03977673873305321, 3.205582618713379, 3.3122708797454834]]\t\n",
      "Acuisition function value: 9.490158081054688\t\n",
      "Real discrepancy result: [[3.4602253437042236]]\t\n",
      "Predicted discrepancy result: [[4.991932392120361]]\t\n",
      "Iteration: 94\t\n",
      "New parameter point: [[0.0, -1.169941782951355, 2.6737945079803467, 1.66196870803833, 1.2517788410186768]]\t\n",
      "Acuisition function value: 9.49874210357666\t\n",
      "Real discrepancy result: [[9.43445110321045]]\t\n",
      "Predicted discrepancy result: [[9.456621170043945]]\t\n",
      "Iteration: 95\t\n",
      "New parameter point: [[5.0, -0.3337298035621643, 0.33726003766059875, -1.117072582244873, -2.0]]\t\n",
      "Acuisition function value: 6.995876312255859\t\n",
      "Real discrepancy result: [[5.325648307800293]]\t\n",
      "Predicted discrepancy result: [[5.490717887878418]]\t\n",
      "Iteration: 96\t\n",
      "New parameter point: [[0.0, -1.148095965385437, 2.6835079193115234, 1.671051263809204, 1.2597147226333618]]\t\n",
      "Acuisition function value: 9.4952974319458\t\n",
      "Real discrepancy result: [[9.628510475158691]]\t\n",
      "Predicted discrepancy result: [[9.454763412475586]]\t\n",
      "Iteration: 97\t\n",
      "New parameter point: [[0.0, -1.1125339269638062, 2.68693470954895, 1.6707137823104858, 1.2688065767288208]]\t\n",
      "Acuisition function value: 9.49781608581543\t\n",
      "Real discrepancy result: [[9.420055389404297]]\t\n",
      "Predicted discrepancy result: [[9.45710277557373]]\t\n",
      "Iteration: 98\t\n",
      "New parameter point: [[0.0, -1.1239123344421387, 2.688793659210205, 1.6742091178894043, 1.2712997198104858]]\t\n",
      "Acuisition function value: 9.499526977539062\t\n",
      "Real discrepancy result: [[9.174476623535156]]\t\n",
      "Predicted discrepancy result: [[9.458287239074707]]\t\n",
      "Iteration: 99\t\n",
      "New parameter point: [[0.0, -1.1294862031936646, 2.6855695247650146, 1.6718236207962036, 1.266659140586853]]\t\n",
      "Acuisition function value: 9.494229316711426\t\n",
      "Real discrepancy result: [[9.707448959350586]]\t\n",
      "Predicted discrepancy result: [[9.454763412475586]]\t\n",
      "Iteration: 100\t\n",
      "New parameter point: [[0.0, -1.135070562362671, 2.6843888759613037, 1.6710509061813354, 1.264446496963501]]\t\n",
      "Acuisition function value: 9.495344161987305\t\n",
      "Real discrepancy result: [[9.475700378417969]]\t\n",
      "Predicted discrepancy result: [[9.456209182739258]]\t\n",
      "Iteration: 101\t\n",
      "New parameter point: [[0.06875943392515182, 0.5907405018806458, -0.7092916965484619, 4.619772911071777, -1.7219542264938354]]\t\n",
      "Acuisition function value: 6.917913436889648\t\n",
      "Real discrepancy result: [[2.4601118564605713]]\t\n",
      "Predicted discrepancy result: [[4.99859094619751]]\t\n",
      "Iteration: 102\t\n",
      "New parameter point: [[0.9132888317108154, 5.0, 3.014894723892212, -0.47480684518814087, 0.18997181951999664]]\t\n",
      "Acuisition function value: 7.014102935791016\t\n",
      "Real discrepancy result: [[6.259766578674316]]\t\n",
      "Predicted discrepancy result: [[5.691193580627441]]\t\n",
      "Iteration: 103\t\n",
      "New parameter point: [[2.1015725135803223, 0.4158279001712799, -0.513481080532074, 3.7793068885803223, -0.41913482546806335]]\t\n",
      "Acuisition function value: 6.996488094329834\t\n",
      "Real discrepancy result: [[5.321000576019287]]\t\n",
      "Predicted discrepancy result: [[5.406820297241211]]\t\n",
      "Iteration: 104\t\n",
      "New parameter point: [[0.0, -1.1737520694732666, 2.5951478481292725, 1.6492995023727417, 1.3594387769699097]]\t\n",
      "Acuisition function value: 9.47761058807373\t\n",
      "Real discrepancy result: [[8.894651412963867]]\t\n",
      "Predicted discrepancy result: [[9.410225868225098]]\t\n",
      "Iteration: 105\t\n",
      "New parameter point: [[0.0, -1.1045901775360107, 2.692246675491333, 1.6697304248809814, 1.2593640089035034]]\t\n",
      "Acuisition function value: 9.498990058898926\t\n",
      "Real discrepancy result: [[9.658823013305664]]\t\n",
      "Predicted discrepancy result: [[9.456154823303223]]\t\n",
      "Iteration: 106\t\n",
      "New parameter point: [[4.860301494598389, 5.0, 2.606478214263916, -1.5144633054733276, 0.697085976600647]]\t\n",
      "Acuisition function value: 7.085903644561768\t\n",
      "Real discrepancy result: [[5.698515892028809]]\t\n",
      "Predicted discrepancy result: [[5.687883377075195]]\t\n",
      "Iteration: 107\t\n",
      "New parameter point: [[0.0, 0.14510199427604675, -1.7054818868637085, -0.8299604654312134, 0.7506659626960754]]\t\n",
      "Acuisition function value: 6.9234490394592285\t\n",
      "Real discrepancy result: [[6.334709167480469]]\t\n",
      "Predicted discrepancy result: [[6.2069091796875]]\t\n",
      "Iteration: 108\t\n",
      "New parameter point: [[5.0, -0.4978068768978119, 3.414975166320801, 1.4172030687332153, -2.0]]\t\n",
      "Acuisition function value: 6.927799701690674\t\n",
      "Real discrepancy result: [[4.77432107925415]]\t\n",
      "Predicted discrepancy result: [[4.998137950897217]]\t\n",
      "Iteration: 109\t\n",
      "New parameter point: [[0.0, -1.092964768409729, 2.6928088665008545, 1.6682666540145874, 1.2570271492004395]]\t\n",
      "Acuisition function value: 9.501119613647461\t\n",
      "Real discrepancy result: [[9.360258102416992]]\t\n",
      "Predicted discrepancy result: [[9.456933975219727]]\t\n",
      "Iteration: 110\t\n",
      "New parameter point: [[1.8060566186904907, 3.0914273262023926, 2.429295539855957, -0.9135959148406982, 1.1606241464614868]]\t\n",
      "Acuisition function value: 6.941908836364746\t\n",
      "Real discrepancy result: [[5.7070465087890625]]\t\n",
      "Predicted discrepancy result: [[5.92954683303833]]\t\n",
      "Iteration: 111\t\n",
      "New parameter point: [[0.0, -0.6784825325012207, -2.859301805496216, 0.8664097785949707, -1.3859723806381226]]\t\n",
      "Acuisition function value: 7.039342880249023\t\n",
      "Real discrepancy result: [[3.953577756881714]]\t\n",
      "Predicted discrepancy result: [[5.557964324951172]]\t\n",
      "Iteration: 112\t\n",
      "New parameter point: [[5.0, 1.1140230894088745, 0.7087302803993225, 2.764174222946167, -2.0]]\t\n",
      "Acuisition function value: 7.05453634262085\t\n",
      "Real discrepancy result: [[5.293435096740723]]\t\n",
      "Predicted discrepancy result: [[5.107186317443848]]\t\n",
      "Iteration: 113\t\n",
      "New parameter point: [[0.0, -1.102952241897583, 2.6928789615631104, 1.6702739000320435, 1.2603225708007812]]\t\n",
      "Acuisition function value: 9.500364303588867\t\n",
      "Real discrepancy result: [[9.594907760620117]]\t\n",
      "Predicted discrepancy result: [[9.457467079162598]]\t\n",
      "Iteration: 114\t\n",
      "New parameter point: [[1.077294945716858, -1.488811731338501, -1.6217129230499268, 5.0, 0.14075422286987305]]\t\n",
      "Acuisition function value: 6.968478202819824\t\n",
      "Real discrepancy result: [[4.6709818840026855]]\t\n",
      "Predicted discrepancy result: [[5.170550346374512]]\t\n",
      "Iteration: 115\t\n",
      "New parameter point: [[0.6603968739509583, 5.0, 2.970883846282959, -0.17240799963474274, 0.9769307374954224]]\t\n",
      "Acuisition function value: 6.950112819671631\t\n",
      "Real discrepancy result: [[6.448448657989502]]\t\n",
      "Predicted discrepancy result: [[5.756872177124023]]\t\n",
      "Iteration: 116\t\n",
      "New parameter point: [[0.0, -1.133151650428772, 2.690006971359253, 1.6694248914718628, 1.2478605508804321]]\t\n",
      "Acuisition function value: 9.501880645751953\t\n",
      "Real discrepancy result: [[9.661640167236328]]\t\n",
      "Predicted discrepancy result: [[9.459711074829102]]\t\n",
      "Iteration: 117\t\n",
      "New parameter point: [[2.7891316413879395, 0.21864180266857147, -2.278892755508423, 1.384414792060852, -2.0]]\t\n",
      "Acuisition function value: 6.990975379943848\t\n",
      "Real discrepancy result: [[5.398468494415283]]\t\n",
      "Predicted discrepancy result: [[5.390216827392578]]\t\n",
      "Iteration: 118\t\n",
      "New parameter point: [[4.013937950134277, 1.5015641450881958, 1.1821272373199463, -1.438626766204834, 1.1603957414627075]]\t\n",
      "Acuisition function value: 6.950836658477783\t\n",
      "Real discrepancy result: [[5.853210926055908]]\t\n",
      "Predicted discrepancy result: [[6.2680463790893555]]\t\n",
      "Iteration: 119\t\n",
      "New parameter point: [[0.0, 0.3390877842903137, -1.622626781463623, -1.4337128400802612, 0.7882096171379089]]\t\n",
      "Acuisition function value: 7.009296894073486\t\n",
      "Real discrepancy result: [[6.290722846984863]]\t\n",
      "Predicted discrepancy result: [[6.207548141479492]]\t\n",
      "Iteration: 120\t\n",
      "New parameter point: [[0.0, -1.0179376602172852, -2.1208667755126953, -2.2135400772094727, -2.0]]\t\n",
      "Acuisition function value: 6.955394268035889\t\n",
      "Real discrepancy result: [[5.086191654205322]]\t\n",
      "Predicted discrepancy result: [[5.128876686096191]]\t\n",
      "Iteration: 121\t\n",
      "New parameter point: [[5.0, 4.082785129547119, 2.5362706184387207, 0.28911975026130676, 0.3935188353061676]]\t\n",
      "Acuisition function value: 6.99458122253418\t\n",
      "Real discrepancy result: [[6.016935348510742]]\t\n",
      "Predicted discrepancy result: [[5.853951930999756]]\t\n",
      "Iteration: 122\t\n",
      "New parameter point: [[5.0, -2.2884981632232666, -1.9688249826431274, -3.0, -1.8147557973861694]]\t\n",
      "Acuisition function value: 6.921721458435059\t\n",
      "Real discrepancy result: [[4.997690677642822]]\t\n",
      "Predicted discrepancy result: [[4.916893005371094]]\t\n",
      "Iteration: 123\t\n",
      "New parameter point: [[4.679501533508301, 0.23351693153381348, -2.787860155105591, -1.04185152053833, 0.11621292680501938]]\t\n",
      "Acuisition function value: 15.701887130737305\t\n",
      "Real discrepancy result: [[6.42606258392334]]\t\n",
      "Predicted discrepancy result: [[6.413421154022217]]\t\n",
      "Iteration: 124\t\n",
      "New parameter point: [[0.1889612376689911, -3.0, -0.059169284999370575, 4.125664710998535, -0.6164875030517578]]\t\n",
      "Acuisition function value: 6.9804463386535645\t\n",
      "Real discrepancy result: [[4.830824851989746]]\t\n",
      "Predicted discrepancy result: [[4.7572245597839355]]\t\n",
      "Iteration: 125\t\n",
      "New parameter point: [[0.0, -1.1101863384246826, 2.691622257232666, 1.6684798002243042, 1.2495296001434326]]\t\n",
      "Acuisition function value: 9.502755165100098\t\n",
      "Real discrepancy result: [[9.444485664367676]]\t\n",
      "Predicted discrepancy result: [[9.460017204284668]]\t\n",
      "Iteration: 126\t\n",
      "New parameter point: [[0.0, 5.0, 2.9495158195495605, -0.521930992603302, 1.4131338596343994]]\t\n",
      "Acuisition function value: 7.078814506530762\t\n",
      "Real discrepancy result: [[3.5982751846313477]]\t\n",
      "Predicted discrepancy result: [[5.676291465759277]]\t\n",
      "Iteration: 127\t\n",
      "New parameter point: [[5.0, 1.907652497291565, 1.8096535205841064, 1.765914797782898, -1.0358495712280273]]\t\n",
      "Acuisition function value: 6.944574356079102\t\n",
      "Real discrepancy result: [[5.39207649230957]]\t\n",
      "Predicted discrepancy result: [[4.943760871887207]]\t\n",
      "Iteration: 128\t\n",
      "New parameter point: [[3.6182565689086914, 0.35102349519729614, -1.0243595838546753, -0.5611512660980225, 0.36420148611068726]]\t\n",
      "Acuisition function value: 6.984454154968262\t\n",
      "Real discrepancy result: [[6.4580583572387695]]\t\n",
      "Predicted discrepancy result: [[6.44009256362915]]\t\n",
      "Iteration: 129\t\n",
      "New parameter point: [[4.045169353485107, 3.8334102630615234, 2.551802158355713, 0.04246177896857262, -0.248192697763443]]\t\n",
      "Acuisition function value: 6.966214656829834\t\n",
      "Real discrepancy result: [[6.293085098266602]]\t\n",
      "Predicted discrepancy result: [[6.354154586791992]]\t\n",
      "Iteration: 130\t\n",
      "New parameter point: [[0.0, -1.0968742370605469, 2.6929028034210205, 1.6710292100906372, 1.2628188133239746]]\t\n",
      "Acuisition function value: 9.501344680786133\t\n",
      "Real discrepancy result: [[9.384730339050293]]\t\n",
      "Predicted discrepancy result: [[9.458203315734863]]\t\n",
      "Iteration: 131\t\n",
      "New parameter point: [[2.3514816761016846, -2.966109275817871, 2.505509614944458, 4.311198711395264, -1.3796050548553467]]\t\n",
      "Acuisition function value: 6.9411773681640625\t\n",
      "Real discrepancy result: [[4.838576316833496]]\t\n",
      "Predicted discrepancy result: [[4.56021785736084]]\t\n",
      "Iteration: 132\t\n",
      "New parameter point: [[0.9885556101799011, 5.0, 3.1320478916168213, -0.10852182656526566, 0.09317147731781006]]\t\n",
      "Acuisition function value: 7.297931671142578\t\n",
      "Real discrepancy result: [[6.211025238037109]]\t\n",
      "Predicted discrepancy result: [[6.465927600860596]]\t\n",
      "Iteration: 133\t\n",
      "New parameter point: [[5.0, 2.1287803649902344, 1.8189802169799805, -1.4746776819229126, 0.3289286494255066]]\t\n",
      "Acuisition function value: 7.021660804748535\t\n",
      "Real discrepancy result: [[6.371930122375488]]\t\n",
      "Predicted discrepancy result: [[6.163171768188477]]\t\n",
      "Iteration: 134\t\n",
      "New parameter point: [[0.0, -1.1131956577301025, 2.692497730255127, 1.6711317300796509, 1.2559289932250977]]\t\n",
      "Acuisition function value: 9.50221061706543\t\n",
      "Real discrepancy result: [[9.278264045715332]]\t\n",
      "Predicted discrepancy result: [[9.460290908813477]]\t\n",
      "Iteration: 135\t\n",
      "New parameter point: [[5.0, -0.10342171788215637, 1.7184255123138428, 2.5318543910980225, -2.0]]\t\n",
      "Acuisition function value: 6.932519435882568\t\n",
      "Real discrepancy result: [[4.815821647644043]]\t\n",
      "Predicted discrepancy result: [[4.9320902824401855]]\t\n",
      "Iteration: 136\t\n",
      "New parameter point: [[0.0, -1.1064958572387695, 2.693068265914917, 1.6714982986450195, 1.261512041091919]]\t\n",
      "Acuisition function value: 9.499911308288574\t\n",
      "Real discrepancy result: [[9.580514907836914]]\t\n",
      "Predicted discrepancy result: [[9.458273887634277]]\t\n",
      "Iteration: 137\t\n",
      "New parameter point: [[5.0, 1.153515100479126, 1.6911818981170654, -1.329312801361084, -0.26636219024658203]]\t\n",
      "Acuisition function value: 6.99362850189209\t\n",
      "Real discrepancy result: [[5.907261848449707]]\t\n",
      "Predicted discrepancy result: [[5.9922637939453125]]\t\n",
      "Iteration: 138\t\n",
      "New parameter point: [[0.0, 0.8977500200271606, -1.2361114025115967, -1.8181524276733398, 0.506286084651947]]\t\n",
      "Acuisition function value: 6.947818279266357\t\n",
      "Real discrepancy result: [[5.954983711242676]]\t\n",
      "Predicted discrepancy result: [[6.1786417961120605]]\t\n",
      "Iteration: 139\t\n",
      "New parameter point: [[4.100868225097656, 0.7667502760887146, 0.7968859076499939, -0.9444692134857178, 0.15290045738220215]]\t\n",
      "Acuisition function value: 7.030126094818115\t\n",
      "Real discrepancy result: [[6.494954586029053]]\t\n",
      "Predicted discrepancy result: [[6.454232215881348]]\t\n",
      "Iteration: 140\t\n",
      "New parameter point: [[0.0, -1.1199194192886353, 2.691502332687378, 1.670922040939331, 1.255292534828186]]\t\n",
      "Acuisition function value: 9.50037670135498\t\n",
      "Real discrepancy result: [[9.676652908325195]]\t\n",
      "Predicted discrepancy result: [[9.459630966186523]]\t\n",
      "Iteration: 141\t\n",
      "New parameter point: [[0.35929983854293823, -0.33519071340560913, -3.0, -2.249774694442749, 0.29832392930984497]]\t\n",
      "Acuisition function value: 6.94753360748291\t\n",
      "Real discrepancy result: [[5.868001937866211]]\t\n",
      "Predicted discrepancy result: [[6.010615825653076]]\t\n",
      "Iteration: 142\t\n",
      "New parameter point: [[0.0, -1.134559154510498, 2.6902289390563965, 1.6695700883865356, 1.248254656791687]]\t\n",
      "Acuisition function value: 9.503132820129395\t\n",
      "Real discrepancy result: [[9.63548755645752]]\t\n",
      "Predicted discrepancy result: [[9.46240520477295]]\t\n",
      "Iteration: 143\t\n",
      "New parameter point: [[5.0, 0.8218841552734375, -2.030154228210449, -0.5653582811355591, 0.39064109325408936]]\t\n",
      "Acuisition function value: 6.974534511566162\t\n",
      "Real discrepancy result: [[6.102328300476074]]\t\n",
      "Predicted discrepancy result: [[6.214678764343262]]\t\n",
      "Iteration: 144\t\n",
      "New parameter point: [[3.930269479751587, 1.734903335571289, 1.4958189725875854, 5.0, 0.36353257298469543]]\t\n",
      "Acuisition function value: 7.017730236053467\t\n",
      "Real discrepancy result: [[5.236531734466553]]\t\n",
      "Predicted discrepancy result: [[5.349316120147705]]\t\n",
      "Iteration: 145\t\n",
      "New parameter point: [[2.203211784362793, -0.24224281311035156, -2.3283839225769043, 0.5706971287727356, -0.9154694676399231]]\t\n",
      "Acuisition function value: 7.008810043334961\t\n",
      "Real discrepancy result: [[6.0192742347717285]]\t\n",
      "Predicted discrepancy result: [[6.107582092285156]]\t\n",
      "Iteration: 146\t\n",
      "New parameter point: [[2.831997871398926, 0.5693270564079285, 0.5754659175872803, 5.0, 0.5457260608673096]]\t\n",
      "Acuisition function value: 6.865900039672852\t\n",
      "Real discrepancy result: [[5.015778541564941]]\t\n",
      "Predicted discrepancy result: [[5.203945159912109]]\t\n",
      "Iteration: 147\t\n",
      "New parameter point: [[5.0, 0.2384686917066574, -1.9222081899642944, -2.086538314819336, 1.1225494146347046]]\t\n",
      "Acuisition function value: 7.053461074829102\t\n",
      "Real discrepancy result: [[5.706672668457031]]\t\n",
      "Predicted discrepancy result: [[6.1365814208984375]]\t\n",
      "Iteration: 148\t\n",
      "New parameter point: [[3.7779271602630615, 0.2193705439567566, -0.6428811550140381, -1.1760286092758179, -0.31340548396110535]]\t\n",
      "Acuisition function value: 6.937346458435059\t\n",
      "Real discrepancy result: [[6.186313629150391]]\t\n",
      "Predicted discrepancy result: [[6.299609184265137]]\t\n",
      "Iteration: 149\t\n",
      "New parameter point: [[2.5002336502075195, 2.615328788757324, 2.4794013500213623, 3.9438767433166504, -1.5317745208740234]]\t\n",
      "Acuisition function value: 6.932204723358154\t\n",
      "Real discrepancy result: [[5.329178333282471]]\t\n",
      "Predicted discrepancy result: [[5.6751298904418945]]\t\n",
      "Iteration: 150\t\n",
      "New parameter point: [[2.7352709770202637, 0.1361539214849472, -1.0718629360198975, 5.0, 0.32893240451812744]]\t\n",
      "Acuisition function value: 7.031746864318848\t\n",
      "Real discrepancy result: [[5.126306533813477]]\t\n",
      "Predicted discrepancy result: [[5.427090167999268]]\t\n",
      "Iteration: 151\t\n",
      "New parameter point: [[1.0787454843521118, 4.221563339233398, 2.790072441101074, 4.318645477294922, -2.0]]\t\n",
      "Acuisition function value: 6.924079895019531\t\n",
      "Real discrepancy result: [[5.391751289367676]]\t\n",
      "Predicted discrepancy result: [[5.219350814819336]]\t\n",
      "Iteration: 152\t\n",
      "New parameter point: [[5.0, 2.8683011531829834, 2.6572887897491455, -0.5791754722595215, -2.0]]\t\n",
      "Acuisition function value: 6.927927017211914\t\n",
      "Real discrepancy result: [[5.595643043518066]]\t\n",
      "Predicted discrepancy result: [[5.272233009338379]]\t\n",
      "Iteration: 153\t\n",
      "New parameter point: [[5.0, -1.6447069644927979, 2.5053274631500244, -2.0123894214630127, -1.616258978843689]]\t\n",
      "Acuisition function value: 6.873797416687012\t\n",
      "Real discrepancy result: [[4.96974515914917]]\t\n",
      "Predicted discrepancy result: [[4.492725372314453]]\t\n",
      "Iteration: 154\t\n",
      "New parameter point: [[3.3771378993988037, 2.5717709064483643, 2.168760299682617, 0.3013179302215576, -0.701184868812561]]\t\n",
      "Acuisition function value: 6.935592174530029\t\n",
      "Real discrepancy result: [[6.1346116065979]]\t\n",
      "Predicted discrepancy result: [[6.138201713562012]]\t\n",
      "Iteration: 155\t\n",
      "New parameter point: [[0.0, 1.352891445159912, 1.2310810089111328, -3.0, 0.936383843421936]]\t\n",
      "Acuisition function value: 6.901233673095703\t\n",
      "Real discrepancy result: [[5.84657096862793]]\t\n",
      "Predicted discrepancy result: [[5.581384658813477]]\t\n",
      "Iteration: 156\t\n",
      "New parameter point: [[2.6099913120269775, 3.9044077396392822, 2.7261581420898438, -0.8143860697746277, -0.16984950006008148]]\t\n",
      "Acuisition function value: 6.944483757019043\t\n",
      "Real discrepancy result: [[6.167876243591309]]\t\n",
      "Predicted discrepancy result: [[6.198533058166504]]\t\n",
      "Iteration: 157\t\n",
      "New parameter point: [[0.0, 0.23342201113700867, 1.6508055925369263, -2.728349208831787, 0.04854394495487213]]\t\n",
      "Acuisition function value: 6.914943218231201\t\n",
      "Real discrepancy result: [[4.3774871826171875]]\t\n",
      "Predicted discrepancy result: [[5.061707496643066]]\t\n",
      "Iteration: 158\t\n",
      "New parameter point: [[5.0, 2.04717755317688, 1.6496227979660034, -0.32325083017349243, 0.3667776584625244]]\t\n",
      "Acuisition function value: 6.986886501312256\t\n",
      "Real discrepancy result: [[6.390571594238281]]\t\n",
      "Predicted discrepancy result: [[6.36854362487793]]\t\n",
      "Iteration: 159\t\n",
      "New parameter point: [[0.0, -1.1252230405807495, 2.6906802654266357, 1.6700646877288818, 1.2465968132019043]]\t\n",
      "Acuisition function value: 9.503177642822266\t\n",
      "Real discrepancy result: [[9.516530990600586]]\t\n",
      "Predicted discrepancy result: [[9.461973190307617]]\t\n",
      "Iteration: 160\t\n",
      "New parameter point: [[0.9048373699188232, 5.0, 2.729238271713257, -0.09135181456804276, 0.43272706866264343]]\t\n",
      "Acuisition function value: 7.152433395385742\t\n",
      "Real discrepancy result: [[5.628052711486816]]\t\n",
      "Predicted discrepancy result: [[6.405684471130371]]\t\n",
      "Iteration: 161\t\n",
      "New parameter point: [[5.0, 3.662508249282837, 3.058849573135376, -3.0, 0.4871519207954407]]\t\n",
      "Acuisition function value: 7.002412796020508\t\n",
      "Real discrepancy result: [[5.200613975524902]]\t\n",
      "Predicted discrepancy result: [[5.688968658447266]]\t\n",
      "Iteration: 162\t\n",
      "New parameter point: [[2.166750907897949, 0.6354181170463562, -2.285705327987671, -1.3001335859298706, 0.8497485518455505]]\t\n",
      "Acuisition function value: 6.909927845001221\t\n",
      "Real discrepancy result: [[6.256178855895996]]\t\n",
      "Predicted discrepancy result: [[6.311376094818115]]\t\n",
      "Iteration: 163\t\n",
      "New parameter point: [[0.0, -0.23972651362419128, -2.634143352508545, -0.7967469692230225, -0.1128426268696785]]\t\n",
      "Acuisition function value: 6.916879653930664\t\n",
      "Real discrepancy result: [[6.443194389343262]]\t\n",
      "Predicted discrepancy result: [[6.27200984954834]]\t\n",
      "Iteration: 164\t\n",
      "New parameter point: [[3.740739583969116, -0.14581221342086792, -1.846175193786621, -2.320934772491455, -0.20068329572677612]]\t\n",
      "Acuisition function value: 6.974432945251465\t\n",
      "Real discrepancy result: [[5.966695785522461]]\t\n",
      "Predicted discrepancy result: [[6.092679023742676]]\t\n",
      "Iteration: 165\t\n",
      "New parameter point: [[1.1540696620941162, 1.0681283473968506, 0.7781552672386169, -1.271058201789856, 0.35662761330604553]]\t\n",
      "Acuisition function value: 6.969334602355957\t\n",
      "Real discrepancy result: [[6.242679119110107]]\t\n",
      "Predicted discrepancy result: [[6.30162239074707]]\t\n",
      "Iteration: 166\t\n",
      "New parameter point: [[0.0, -1.1044700145721436, 2.6936028003692627, 1.6708256006240845, 1.2539350986480713]]\t\n",
      "Acuisition function value: 9.504728317260742\t\n",
      "Real discrepancy result: [[9.456160545349121]]\t\n",
      "Predicted discrepancy result: [[9.462843894958496]]\t\n",
      "Iteration: 167\t\n",
      "New parameter point: [[0.0, -0.11442574858665466, -0.3583936393260956, -3.0, 0.9171715974807739]]\t\n",
      "Acuisition function value: 6.914083480834961\t\n",
      "Real discrepancy result: [[5.3570990562438965]]\t\n",
      "Predicted discrepancy result: [[5.808881759643555]]\t\n",
      "Iteration: 168\t\n",
      "New parameter point: [[0.0, -0.3254348337650299, -1.2758738994598389, -1.5446025133132935, 0.26835930347442627]]\t\n",
      "Acuisition function value: 7.01224946975708\t\n",
      "Real discrepancy result: [[6.005259990692139]]\t\n",
      "Predicted discrepancy result: [[6.20627498626709]]\t\n",
      "Iteration: 169\t\n",
      "New parameter point: [[5.0, 0.48573631048202515, -2.551058292388916, -2.7009925842285156, 0.36374399065971375]]\t\n",
      "Acuisition function value: 7.034337997436523\t\n",
      "Real discrepancy result: [[6.33746862411499]]\t\n",
      "Predicted discrepancy result: [[6.241744518280029]]\t\n",
      "Iteration: 170\t\n",
      "New parameter point: [[0.0002396409254288301, -2.998713254928589, -0.6971486210823059, -2.1302192211151123, -2.0]]\t\n",
      "Acuisition function value: 6.959994792938232\t\n",
      "Real discrepancy result: [[4.961268424987793]]\t\n",
      "Predicted discrepancy result: [[4.644784927368164]]\t\n",
      "Iteration: 171\t\n",
      "New parameter point: [[0.0, -1.1097713708877563, 2.694026231765747, 1.6698120832443237, 1.2540370225906372]]\t\n",
      "Acuisition function value: 9.50418472290039\t\n",
      "Real discrepancy result: [[9.504693031311035]]\t\n",
      "Predicted discrepancy result: [[9.462285041809082]]\t\n",
      "Iteration: 172\t\n",
      "New parameter point: [[5.0, 0.9748210310935974, -1.4929494857788086, 3.6340343952178955, -0.26566261053085327]]\t\n",
      "Acuisition function value: 6.9311113357543945\t\n",
      "Real discrepancy result: [[5.303694725036621]]\t\n",
      "Predicted discrepancy result: [[5.015984535217285]]\t\n",
      "Iteration: 173\t\n",
      "New parameter point: [[0.0, -1.1032488346099854, 2.6946914196014404, 1.670623540878296, 1.2530709505081177]]\t\n",
      "Acuisition function value: 9.505060195922852\t\n",
      "Real discrepancy result: [[9.396932601928711]]\t\n",
      "Predicted discrepancy result: [[9.462993621826172]]\t\n",
      "Iteration: 174\t\n",
      "New parameter point: [[2.8526322841644287, -2.1534109115600586, -0.35107505321502686, -2.4969208240509033, -2.0]]\t\n",
      "Acuisition function value: 6.921195983886719\t\n",
      "Real discrepancy result: [[4.985516548156738]]\t\n",
      "Predicted discrepancy result: [[5.0780181884765625]]\t\n",
      "Iteration: 175\t\n",
      "New parameter point: [[0.0, -1.1001569032669067, 2.692695379257202, 1.6682802438735962, 1.2540138959884644]]\t\n",
      "Acuisition function value: 9.503003120422363\t\n",
      "Real discrepancy result: [[9.520597457885742]]\t\n",
      "Predicted discrepancy result: [[9.461996078491211]]\t\n",
      "Running time for GP training: --- 1315.3776445388794 seconds ---\n"
     ]
    }
   ],
   "source": [
    "import time\n",
    "import pickle\n",
    "from botorch.acquisition import UpperConfidenceBound\n",
    "start_time = time.time()\n",
    "import warnings\n",
    "warnings.filterwarnings(\"ignore\")\n",
    "\n",
    "number_of_iterGPtraining = 2048 - 282 - 666 - 557 - 66 - 30 - 151 - 35 -86# increase it until prediction discrepancy decreases 300\n",
    "\n",
    "## GPU allocation\n",
    "# train_X = train_X.to(device_gpu)\n",
    "# train_Y = train_Y.to(device_gpu)\n",
    "\n",
    "\n",
    "for i in range(number_of_iterGPtraining):\n",
    "    \n",
    "   \n",
    "    \n",
    "    \n",
    "    gp = SingleTaskGP(train_X, train_Y)\n",
    "    mll = ExactMarginalLogLikelihood(gp.likelihood, gp)\n",
    "    fit_gpytorch_mll(mll)\n",
    "\n",
    "    betai = np.sqrt(2*np.log(np.power(i+1,2)*np.power(np.pi,2)*6/(6*0.1)))\n",
    "    # Define the acuisition function using current training data\n",
    "    UCB = UpperConfidenceBound(gp, beta=betai)\n",
    "    \n",
    "    candidate, acq_value = optimize_acqf(\n",
    "    UCB, bounds=bounds, q=1, num_restarts=5, raw_samples=20,)\n",
    "    \n",
    "\n",
    "    # Include new acuisition into training data\n",
    "    candidate = candidate.to(torch.float32)\n",
    "    candidate_X = candidate.flatten().numpy()\n",
    "    \n",
    "\n",
    "    candidate_Y = minus_simluated_discrepancy(theta = ([candidate_X[0],  real_theta[1]], real_theta[2],[candidate_X[2],candidate_X[3]],\n",
    "                                                    [candidate_X[1],real_theta[4]], candidate_X[-1]),X_response=real_response)\n",
    "                                       \n",
    "    candidate_Y = torch.from_numpy(candidate_Y).to(torch.float32)\n",
    "    \n",
    "    \n",
    "\n",
    "    train_X = torch.cat((train_X, candidate)).to(torch.float32)\n",
    "    train_Y = torch.cat((train_Y, candidate_Y)).to(torch.float32)\n",
    "\n",
    "        \n",
    "    # Print the newest proposed parameter point and corresponding acuisition function value, real discrepancies and predicted discrepancies (mean)\n",
    "    if i % 1 == 0:\n",
    "        print(\"Iteration: {}\\t\".format(i+1))\n",
    "        print(\"New parameter point: {}\\t\".format(candidate.tolist()))\n",
    "        print(\"Acuisition function value: {}\\t\".format(acq_value.item()))\n",
    "        print(\"Real discrepancy result: {}\\t\".format(candidate_Y.tolist()))\n",
    "        print(\"Predicted discrepancy result: {}\\t\".format(gp.posterior(candidate).mean.tolist()))\n",
    "\n",
    "    if (i+1+282+666+557+66+30+151+35+86)%500==0:\n",
    "        df_X = pd.DataFrame(train_X.detach().numpy())\n",
    "        df_X.to_csv(f\"em_bolfi_\"+str(i+1+282+666+557+66+30+151+35+86)+\"iter_1quantiletol_5_train_X_0415_logdis_250.csv\",header=False,index=False)\n",
    "        df_Y = pd.DataFrame(train_Y.detach().numpy())\n",
    "        df_Y.to_csv(f\"em_bolfi_\"+str(i+1+282+666+557+66+30+151+35+86)+\"iter_1quantiletol_5_train_Y_0415_logdis_250.csv\",header=False,index=False)\n",
    "    \n",
    "        \n",
    "\n",
    "print(f\"Running time for GP training: --- %s seconds ---\" % (time.time() - start_time))\n"
   ]
  },
  {
   "cell_type": "code",
   "execution_count": 39,
   "metadata": {
    "metadata": {}
   },
   "outputs": [
    {
     "data": {
      "text/plain": [
       "[8.577062606811523]"
      ]
     },
     "execution_count": 39,
     "metadata": {},
     "output_type": "execute_result"
    }
   ],
   "source": [
    "torch.quantile(train_Y,q=0.8,dim=0).tolist()"
   ]
  },
  {
   "cell_type": "code",
   "execution_count": 40,
   "metadata": {},
   "outputs": [
    {
     "data": {
      "text/html": [
       "<div>\n",
       "<style scoped>\n",
       "    .dataframe tbody tr th:only-of-type {\n",
       "        vertical-align: middle;\n",
       "    }\n",
       "\n",
       "    .dataframe tbody tr th {\n",
       "        vertical-align: top;\n",
       "    }\n",
       "\n",
       "    .dataframe thead th {\n",
       "        text-align: right;\n",
       "    }\n",
       "</style>\n",
       "<table border=\"1\" class=\"dataframe\">\n",
       "  <thead>\n",
       "    <tr style=\"text-align: right;\">\n",
       "      <th></th>\n",
       "      <th>0</th>\n",
       "    </tr>\n",
       "  </thead>\n",
       "  <tbody>\n",
       "    <tr>\n",
       "      <th>count</th>\n",
       "      <td>2048.000000</td>\n",
       "    </tr>\n",
       "    <tr>\n",
       "      <th>mean</th>\n",
       "      <td>6.357771</td>\n",
       "    </tr>\n",
       "    <tr>\n",
       "      <th>std</th>\n",
       "      <td>1.985343</td>\n",
       "    </tr>\n",
       "    <tr>\n",
       "      <th>min</th>\n",
       "      <td>0.231800</td>\n",
       "    </tr>\n",
       "    <tr>\n",
       "      <th>25%</th>\n",
       "      <td>5.339018</td>\n",
       "    </tr>\n",
       "    <tr>\n",
       "      <th>50%</th>\n",
       "      <td>6.257015</td>\n",
       "    </tr>\n",
       "    <tr>\n",
       "      <th>75%</th>\n",
       "      <td>8.057779</td>\n",
       "    </tr>\n",
       "    <tr>\n",
       "      <th>max</th>\n",
       "      <td>9.935731</td>\n",
       "    </tr>\n",
       "  </tbody>\n",
       "</table>\n",
       "</div>"
      ],
      "text/plain": [
       "                 0\n",
       "count  2048.000000\n",
       "mean      6.357771\n",
       "std       1.985343\n",
       "min       0.231800\n",
       "25%       5.339018\n",
       "50%       6.257015\n",
       "75%       8.057779\n",
       "max       9.935731"
      ]
     },
     "execution_count": 40,
     "metadata": {},
     "output_type": "execute_result"
    }
   ],
   "source": [
    "df = pd.DataFrame(train_Y)  \n",
    "df.describe()"
   ]
  },
  {
   "cell_type": "code",
   "execution_count": 41,
   "metadata": {
    "metadata": {}
   },
   "outputs": [
    {
     "data": {
      "text/html": [
       "<div>\n",
       "<style scoped>\n",
       "    .dataframe tbody tr th:only-of-type {\n",
       "        vertical-align: middle;\n",
       "    }\n",
       "\n",
       "    .dataframe tbody tr th {\n",
       "        vertical-align: top;\n",
       "    }\n",
       "\n",
       "    .dataframe thead th {\n",
       "        text-align: right;\n",
       "    }\n",
       "</style>\n",
       "<table border=\"1\" class=\"dataframe\">\n",
       "  <thead>\n",
       "    <tr style=\"text-align: right;\">\n",
       "      <th></th>\n",
       "      <th>0</th>\n",
       "      <th>1</th>\n",
       "      <th>2</th>\n",
       "      <th>3</th>\n",
       "      <th>4</th>\n",
       "    </tr>\n",
       "  </thead>\n",
       "  <tbody>\n",
       "    <tr>\n",
       "      <th>count</th>\n",
       "      <td>2048.000000</td>\n",
       "      <td>2048.000000</td>\n",
       "      <td>2048.000000</td>\n",
       "      <td>2048.000000</td>\n",
       "      <td>2048.000000</td>\n",
       "    </tr>\n",
       "    <tr>\n",
       "      <th>mean</th>\n",
       "      <td>1.785705</td>\n",
       "      <td>0.116894</td>\n",
       "      <td>0.940603</td>\n",
       "      <td>0.419302</td>\n",
       "      <td>0.490570</td>\n",
       "    </tr>\n",
       "    <tr>\n",
       "      <th>std</th>\n",
       "      <td>1.901598</td>\n",
       "      <td>1.872564</td>\n",
       "      <td>2.129770</td>\n",
       "      <td>1.968915</td>\n",
       "      <td>1.519203</td>\n",
       "    </tr>\n",
       "    <tr>\n",
       "      <th>min</th>\n",
       "      <td>0.000000</td>\n",
       "      <td>-3.000000</td>\n",
       "      <td>-3.000000</td>\n",
       "      <td>-3.000000</td>\n",
       "      <td>-2.000000</td>\n",
       "    </tr>\n",
       "    <tr>\n",
       "      <th>25%</th>\n",
       "      <td>0.000000</td>\n",
       "      <td>-1.142780</td>\n",
       "      <td>-0.786101</td>\n",
       "      <td>-1.020647</td>\n",
       "      <td>-0.206960</td>\n",
       "    </tr>\n",
       "    <tr>\n",
       "      <th>50%</th>\n",
       "      <td>1.153660</td>\n",
       "      <td>-0.148901</td>\n",
       "      <td>1.529640</td>\n",
       "      <td>0.413483</td>\n",
       "      <td>0.506565</td>\n",
       "    </tr>\n",
       "    <tr>\n",
       "      <th>75%</th>\n",
       "      <td>3.504254</td>\n",
       "      <td>0.824795</td>\n",
       "      <td>2.595295</td>\n",
       "      <td>1.649822</td>\n",
       "      <td>1.153509</td>\n",
       "    </tr>\n",
       "    <tr>\n",
       "      <th>max</th>\n",
       "      <td>5.000000</td>\n",
       "      <td>5.000000</td>\n",
       "      <td>5.000000</td>\n",
       "      <td>5.000000</td>\n",
       "      <td>6.000000</td>\n",
       "    </tr>\n",
       "  </tbody>\n",
       "</table>\n",
       "</div>"
      ],
      "text/plain": [
       "                 0            1            2            3            4\n",
       "count  2048.000000  2048.000000  2048.000000  2048.000000  2048.000000\n",
       "mean      1.785705     0.116894     0.940603     0.419302     0.490570\n",
       "std       1.901598     1.872564     2.129770     1.968915     1.519203\n",
       "min       0.000000    -3.000000    -3.000000    -3.000000    -2.000000\n",
       "25%       0.000000    -1.142780    -0.786101    -1.020647    -0.206960\n",
       "50%       1.153660    -0.148901     1.529640     0.413483     0.506565\n",
       "75%       3.504254     0.824795     2.595295     1.649822     1.153509\n",
       "max       5.000000     5.000000     5.000000     5.000000     6.000000"
      ]
     },
     "execution_count": 41,
     "metadata": {},
     "output_type": "execute_result"
    }
   ],
   "source": [
    "df = pd.DataFrame(train_X)\n",
    "df.describe()"
   ]
  },
  {
   "cell_type": "code",
   "execution_count": 42,
   "metadata": {
    "metadata": {}
   },
   "outputs": [
    {
     "data": {
      "text/plain": [
       "array([[ 0.00000000e+00,  5.01461887e+00,  4.99662161e+00,\n",
       "         2.52004004e+00],\n",
       "       [ 1.00000000e+00,  1.80531597e+00,  1.81957865e+00,\n",
       "         2.61720037e+00],\n",
       "       [ 2.00000000e+00,  2.46664345e-01,  3.27220917e-01,\n",
       "        -2.55799055e+00],\n",
       "       ...,\n",
       "       [ 2.04500000e+03,  9.39693260e+00,  9.46265984e+00,\n",
       "        -2.22376875e+04],\n",
       "       [ 2.04600000e+03,  4.98551655e+00,  4.98778582e+00,\n",
       "         2.79656649e+00],\n",
       "       [ 2.04700000e+03,  9.52059746e+00,  9.46381950e+00,\n",
       "        -1.86446875e+04]])"
      ]
     },
     "execution_count": 42,
     "metadata": {},
     "output_type": "execute_result"
    }
   ],
   "source": [
    "training_results = np.zeros((train_Y.size()[0], 4))\n",
    "\n",
    "for i in range(train_Y.size()[0]):\n",
    "    real_obj = train_Y[i,:]\n",
    "    pred_obj = gp.posterior(train_X[i,:].view(1,-1)).mean\n",
    "    pred_var = gp.posterior(train_X[i,:].view(1,-1)).variance\n",
    "    botorchlikelihood = torch.distributions.Normal(loc=pred_obj[0][0], scale=pred_var[0][0]).log_prob(real_obj[0])\n",
    "    training_results[i,:] = [i,real_obj.item(),pred_obj[0][0].item(),botorchlikelihood.item()]\n",
    "\n",
    "training_results"
   ]
  },
  {
   "cell_type": "code",
   "execution_count": 43,
   "metadata": {},
   "outputs": [
    {
     "data": {
      "text/html": [
       "<div>\n",
       "<style scoped>\n",
       "    .dataframe tbody tr th:only-of-type {\n",
       "        vertical-align: middle;\n",
       "    }\n",
       "\n",
       "    .dataframe tbody tr th {\n",
       "        vertical-align: top;\n",
       "    }\n",
       "\n",
       "    .dataframe thead th {\n",
       "        text-align: right;\n",
       "    }\n",
       "</style>\n",
       "<table border=\"1\" class=\"dataframe\">\n",
       "  <thead>\n",
       "    <tr style=\"text-align: right;\">\n",
       "      <th></th>\n",
       "      <th>0</th>\n",
       "      <th>1</th>\n",
       "      <th>2</th>\n",
       "      <th>3</th>\n",
       "    </tr>\n",
       "  </thead>\n",
       "  <tbody>\n",
       "    <tr>\n",
       "      <th>count</th>\n",
       "      <td>2048.000000</td>\n",
       "      <td>2048.000000</td>\n",
       "      <td>2048.000000</td>\n",
       "      <td>2.048000e+03</td>\n",
       "    </tr>\n",
       "    <tr>\n",
       "      <th>mean</th>\n",
       "      <td>1023.500000</td>\n",
       "      <td>6.357771</td>\n",
       "      <td>6.357775</td>\n",
       "      <td>-2.110101e+04</td>\n",
       "    </tr>\n",
       "    <tr>\n",
       "      <th>std</th>\n",
       "      <td>591.350996</td>\n",
       "      <td>1.985343</td>\n",
       "      <td>1.975189</td>\n",
       "      <td>8.605555e+04</td>\n",
       "    </tr>\n",
       "    <tr>\n",
       "      <th>min</th>\n",
       "      <td>0.000000</td>\n",
       "      <td>0.231800</td>\n",
       "      <td>0.279440</td>\n",
       "      <td>-1.190460e+06</td>\n",
       "    </tr>\n",
       "    <tr>\n",
       "      <th>25%</th>\n",
       "      <td>511.750000</td>\n",
       "      <td>5.339018</td>\n",
       "      <td>5.342234</td>\n",
       "      <td>-5.005537e+02</td>\n",
       "    </tr>\n",
       "    <tr>\n",
       "      <th>50%</th>\n",
       "      <td>1023.500000</td>\n",
       "      <td>6.257015</td>\n",
       "      <td>6.248252</td>\n",
       "      <td>1.570016e+00</td>\n",
       "    </tr>\n",
       "    <tr>\n",
       "      <th>75%</th>\n",
       "      <td>1535.250000</td>\n",
       "      <td>8.057779</td>\n",
       "      <td>8.086279</td>\n",
       "      <td>2.722461e+00</td>\n",
       "    </tr>\n",
       "    <tr>\n",
       "      <th>max</th>\n",
       "      <td>2047.000000</td>\n",
       "      <td>9.935731</td>\n",
       "      <td>9.467145</td>\n",
       "      <td>7.056736e+00</td>\n",
       "    </tr>\n",
       "  </tbody>\n",
       "</table>\n",
       "</div>"
      ],
      "text/plain": [
       "                 0            1            2             3\n",
       "count  2048.000000  2048.000000  2048.000000  2.048000e+03\n",
       "mean   1023.500000     6.357771     6.357775 -2.110101e+04\n",
       "std     591.350996     1.985343     1.975189  8.605555e+04\n",
       "min       0.000000     0.231800     0.279440 -1.190460e+06\n",
       "25%     511.750000     5.339018     5.342234 -5.005537e+02\n",
       "50%    1023.500000     6.257015     6.248252  1.570016e+00\n",
       "75%    1535.250000     8.057779     8.086279  2.722461e+00\n",
       "max    2047.000000     9.935731     9.467145  7.056736e+00"
      ]
     },
     "execution_count": 43,
     "metadata": {},
     "output_type": "execute_result"
    }
   ],
   "source": [
    "df = pd.DataFrame(training_results)\n",
    "df.describe()"
   ]
  },
  {
   "cell_type": "code",
   "execution_count": 44,
   "metadata": {
    "metadata": {}
   },
   "outputs": [],
   "source": [
    "num_init_samples = 250+32"
   ]
  },
  {
   "cell_type": "code",
   "execution_count": 45,
   "metadata": {
    "metadata": {}
   },
   "outputs": [
    {
     "data": {
      "image/png": "[encoded data removed]",
      "text/plain": [
       "<Figure size 900x500 with 1 Axes>"
      ]
     },
     "metadata": {},
     "output_type": "display_data"
    }
   ],
   "source": [
    "font_size_text = 10\n",
    "fs=10\n",
    "\n",
    "\n",
    "fig, axs = plt.subplots(1, 1, figsize=(9,5))\n",
    "axs.plot(training_results[num_init_samples:,0]-num_init_samples, training_results[num_init_samples:,1], color='red', label='real')\n",
    "axs.plot(training_results[num_init_samples:,0]-num_init_samples, training_results[num_init_samples:,2],'green',label='pred',)\n",
    "axs.legend(fontsize=fs)\n",
    "axs.grid()\n",
    "axs.tick_params(axis='both', labelsize=fs)\n",
    "axs.set_xlabel(r'$Iter$',fontsize=font_size_text)\n",
    "axs.set_ylabel(r'Discrepancy value',fontsize=font_size_text,rotation='vertical',labelpad=30)\n",
    "\n",
    "\n",
    "plt.show()"
   ]
  },
  {
   "cell_type": "code",
   "execution_count": 46,
   "metadata": {},
   "outputs": [],
   "source": [
    "# Can skip the next two chuck for model replication\n",
    "# cov_est_noise = np.loadtxt('mobolfi_em_2048iter_cov_est_noise_5.txt', dtype=np.dtype('float64'))"
   ]
  },
  {
   "cell_type": "code",
   "execution_count": 46,
   "metadata": {},
   "outputs": [],
   "source": [
    "#estimate covaraince using the latest candidate\n",
    "Y_cov = np.zeros((200,number_of_discrepancies))\n",
    "index = np.argmax(training_results[:,-1])\n",
    "X_cov = train_X[index,:].flatten().numpy()\n",
    "for i in range(200):\n",
    "    Y_cov[i,:] = minus_simluated_discrepancy(theta = ([X_cov[0],  real_theta[1]], real_theta[2],[X_cov[2],X_cov[3]],\n",
    "                                                    [X_cov[1],real_theta[4]], X_cov[-1]),X_response=real_response)\n",
    "\n",
    "cov_est_noise = np.cov(Y_cov, rowvar = False)"
   ]
  },
  {
   "cell_type": "code",
   "execution_count": null,
   "metadata": {
    "colab": {
     "base_uri": "https://localhost:8080/"
    },
    "executionInfo": {
     "elapsed": 16,
     "status": "ok",
     "timestamp": 1701845455624,
     "user": {
      "displayName": "Zichuan C",
      "userId": "17818169017923043377"
     },
     "user_tz": -480
    },
    "id": "_QNra6h8IzkY",
    "metadata": {},
    "outputId": "cec7a8ba-eb9e-4325-a54d-50375884327a"
   },
   "outputs": [
    {
     "data": {
      "text/plain": [
       "array(0.01032364)"
      ]
     },
     "execution_count": 47,
     "metadata": {},
     "output_type": "execute_result"
    }
   ],
   "source": [
    "cov_est_noise  "
   ]
  },
  {
   "cell_type": "code",
   "execution_count": 48,
   "metadata": {
    "metadata": {}
   },
   "outputs": [
    {
     "data": {
      "text/plain": [
       "array(3.94158841)"
      ]
     },
     "execution_count": 48,
     "metadata": {},
     "output_type": "execute_result"
    }
   ],
   "source": [
    "# An optinal solution to find correlation between output dimensions (rt and ch)\n",
    "# Estimate the correlation separately by applying covariance formula ot train_Y\n",
    "cov_est_output = np.cov(train_Y, rowvar = False)\n",
    "cov_est_output  # 3.94158841"
   ]
  },
  {
   "cell_type": "markdown",
   "metadata": {
    "id": "u6Q9_8MQVeUT"
   },
   "source": [
    "One thing worth to meantion is that the estimated covariance $Σ$, has small values. That suggest the 2 data courses (rt and ch) simulated by MLBA have noise uncorrelated from each other, i.e. the noise from 2 data sources come from 2 independent places."
   ]
  },
  {
   "cell_type": "markdown",
   "metadata": {
    "id": "XxQT-ojrORrs"
   },
   "source": [
    "As iteration goes, it is clear to see the predictive discrepancies values are decreasing and gradually going to the real data average, which is expected to see in theory.\n",
    "\n",
    "But a good surrogate is not our ultimate target, we want \"good\" params that attain high likelihood values, and generate high similarity data, i.e. discrepancies very small.\n",
    "\n",
    "So, the next step is to infer params and test their performance."
   ]
  },
  {
   "cell_type": "markdown",
   "metadata": {
    "id": "hjOHvf-AGmUv"
   },
   "source": [
    "**Parameter inference and performance test**"
   ]
  },
  {
   "cell_type": "markdown",
   "metadata": {
    "id": "N7HPonOlFEFn"
   },
   "source": [
    "After training the model, we need to compute the approximate posterior function. (See the original BOLFI paper)\n",
    "\n",
    "Then, we need to draw MCMC sample parameters from the approximate posterior distribution. And draw plots of marginal posterior for each parameter.\n",
    "\n",
    "Finally, we are going to test performance of parameter inference, by picking up a parameter point at high posterior density value, simluated multiple datasets given that parameter and present its similarity with real data."
   ]
  },
  {
   "cell_type": "code",
   "execution_count": null,
   "metadata": {},
   "outputs": [],
   "source": [
    "# Can skip the next two chuck for model replication\n",
    "# tol = np.loadtxt('mobolfi_em_2048iter_1quantiletol_5.txt', dtype=np.dtype('float64'))"
   ]
  },
  {
   "cell_type": "code",
   "execution_count": 49,
   "metadata": {
    "executionInfo": {
     "elapsed": 12,
     "status": "ok",
     "timestamp": 1701845455624,
     "user": {
      "displayName": "Zichuan C",
      "userId": "17818169017923043377"
     },
     "user_tz": -480
    },
    "id": "9CmhOKtBJR03",
    "metadata": {}
   },
   "outputs": [
    {
     "name": "stdout",
     "output_type": "stream",
     "text": [
      "[9.618711471557617]\n"
     ]
    }
   ],
   "source": [
    "# The approximate likelihood is viewed as approximate posterior now,\n",
    "# theta : (1*number_of_parameters) parameter point\n",
    "# The likelihood approximate here is p(y_obs|theta), we have no means to compute likelihood for y!=y_obs, because GP model is trained by y_obs\n",
    "\n",
    "tol = torch.quantile(train_Y,q=0.99,dim=0).tolist()# Test quantile tol level vs marginal posterior, approx ll is very sensitive to tol level!\n",
    "print(tol)  #[9.618711471557617]\n",
    "\n",
    "\n",
    "from scipy.stats import multivariate_normal\n",
    "\n",
    "def approximate_log_likelihood(theta,tol=tol,cov_noise=cov_est_noise,gp=gp,covariance=0):\n",
    "  theta = theta.view(1,-1)\n",
    "  preds = gp.posterior(theta)\n",
    "  means, variances = preds.mean, preds.variance\n",
    "  means = means.view(-1).detach().numpy() * -1\n",
    "  Sigma = np.array([variances[0].item()])\n",
    "  cov_matrix = cov_noise + Sigma\n",
    "  mulnorm = multivariate_normal(mean=means, cov=cov_matrix)\n",
    "  log_likelihood = torch.Tensor([mulnorm.logcdf([-tol[0]])]).reshape(-1)\n",
    "  return log_likelihood\n",
    "# [3.473558187484741, 4.164658546447754]"
   ]
  },
  {
   "cell_type": "code",
   "execution_count": 50,
   "metadata": {
    "metadata": {}
   },
   "outputs": [
    {
     "data": {
      "text/plain": [
       "[0.09404336, -0.8758533, 2.080699, 1.414022, 0.6108216]"
      ]
     },
     "execution_count": 50,
     "metadata": {},
     "output_type": "execute_result"
    }
   ],
   "source": [
    "real_theta_u =[real_theta[0]]#real_theta[0:1]\n",
    "real_theta_u.append(real_theta[3])\n",
    "real_theta_u.extend(real_theta[5:8])\n",
    "\n",
    "real_theta_u #lamda1, delta1, beta,chi"
   ]
  },
  {
   "cell_type": "code",
   "execution_count": 51,
   "metadata": {
    "metadata": {}
   },
   "outputs": [
    {
     "data": {
      "text/plain": [
       "tensor([-169.9929])"
      ]
     },
     "execution_count": 51,
     "metadata": {},
     "output_type": "execute_result"
    }
   ],
   "source": [
    "\n",
    "approximate_log_likelihood(theta=torch.Tensor(real_theta_u).view(-1)) # should be large and larger than value of the chunk above"
   ]
  },
  {
   "cell_type": "code",
   "execution_count": 52,
   "metadata": {},
   "outputs": [
    {
     "name": "stderr",
     "output_type": "stream",
     "text": [
      "c:\\Users\\e0729936\\AppData\\Local\\Programs\\Python\\Python39\\lib\\site-packages\\scipy\\stats\\_multivariate.py:862: RuntimeWarning: divide by zero encountered in log\n",
      "  out = np.log(cdf)\n"
     ]
    },
    {
     "name": "stdout",
     "output_type": "stream",
     "text": [
      "                 0\n",
      "count  2048.000000\n",
      "mean          -inf\n",
      "std            NaN\n",
      "min           -inf\n",
      "25%    -274.142799\n",
      "50%    -203.077232\n",
      "75%    -100.521450\n",
      "max      -2.658866\n"
     ]
    },
    {
     "data": {
      "text/plain": [
       "tensor([ 0.0000, -1.1298,  2.6844,  1.6701,  1.2671])"
      ]
     },
     "execution_count": 52,
     "metadata": {},
     "output_type": "execute_result"
    }
   ],
   "source": [
    "lls = np.zeros(train_X.size()[0])\n",
    "for i in range(train_X.size()[0]):\n",
    "    param = train_X[i,:].view(-1)\n",
    "    lls[i] = approximate_log_likelihood(param)\n",
    "\n",
    "df_describe = pd.DataFrame(lls)\n",
    "crt_median = df_describe.median()\n",
    "print(df_describe.describe())\n",
    "test_theta = train_X[np.argmax(lls),:]\n",
    "test_theta "
   ]
  },
  {
   "cell_type": "markdown",
   "metadata": {
    "id": "mMpWvSHMFz5p"
   },
   "source": [
    "The prior density is defined to be porduct of each marginal priors (assume parameters are indep).\n",
    "\n",
    "However, the prior product is too small compared with approximate likelihood value. This is because the approximate likelihood function is merely proportional to real likelihood, we don't know the level of proximity to real likelihood. Thus, to enhance the voice of prior, we times a constant with the log prior density to make its values within the similar scale with approximate likelihood"
   ]
  },
  {
   "cell_type": "code",
   "execution_count": 53,
   "metadata": {
    "metadata": {}
   },
   "outputs": [
    {
     "name": "stdout",
     "output_type": "stream",
     "text": [
      "[0.09404336, -0.8758533, 2.080699, 1.414022, 0.6108216]\n",
      "tensor([ 0.0000, -1.1298,  2.6844,  1.6701,  1.2671])\n"
     ]
    }
   ],
   "source": [
    "print(real_theta_u)\n",
    "print(test_theta )\n",
    "# lam1,delta1,beta1,beta2,chi"
   ]
  },
  {
   "cell_type": "code",
   "execution_count": 54,
   "metadata": {},
   "outputs": [],
   "source": [
    "lows_u_prior = [0, -3, -3,  -3,-2]\n",
    "highs_u_prior = [5,5 , 5, 5, 6]"
   ]
  },
  {
   "cell_type": "code",
   "execution_count": 56,
   "metadata": {
    "executionInfo": {
     "elapsed": 9,
     "status": "ok",
     "timestamp": 1701845455624,
     "user": {
      "displayName": "Zichuan C",
      "userId": "17818169017923043377"
     },
     "user_tz": -480
    },
    "id": "UHzbPiKYB0qj",
    "metadata": {}
   },
   "outputs": [],
   "source": [
    "def log_prior(theta):# theta is 1d tensor\n",
    "    \n",
    "    lp = 0\n",
    "    for i in range(theta.size()[0]):\n",
    "        if theta[i]<lows_u_prior[i] or theta[i]>highs_u_prior[i]:\n",
    "            lp = torch.Tensor([-1e12])[0]\n",
    "            return torch.Tensor([-1e12])[0]\n",
    "    \n",
    "    \n",
    "    \n",
    "    return lp"
   ]
  },
  {
   "cell_type": "code",
   "execution_count": 57,
   "metadata": {
    "metadata": {}
   },
   "outputs": [
    {
     "data": {
      "text/html": [
       "<div>\n",
       "<style scoped>\n",
       "    .dataframe tbody tr th:only-of-type {\n",
       "        vertical-align: middle;\n",
       "    }\n",
       "\n",
       "    .dataframe tbody tr th {\n",
       "        vertical-align: top;\n",
       "    }\n",
       "\n",
       "    .dataframe thead th {\n",
       "        text-align: right;\n",
       "    }\n",
       "</style>\n",
       "<table border=\"1\" class=\"dataframe\">\n",
       "  <thead>\n",
       "    <tr style=\"text-align: right;\">\n",
       "      <th></th>\n",
       "      <th>0</th>\n",
       "    </tr>\n",
       "  </thead>\n",
       "  <tbody>\n",
       "    <tr>\n",
       "      <th>count</th>\n",
       "      <td>2048.0</td>\n",
       "    </tr>\n",
       "    <tr>\n",
       "      <th>mean</th>\n",
       "      <td>0.0</td>\n",
       "    </tr>\n",
       "    <tr>\n",
       "      <th>std</th>\n",
       "      <td>0.0</td>\n",
       "    </tr>\n",
       "    <tr>\n",
       "      <th>min</th>\n",
       "      <td>0.0</td>\n",
       "    </tr>\n",
       "    <tr>\n",
       "      <th>25%</th>\n",
       "      <td>0.0</td>\n",
       "    </tr>\n",
       "    <tr>\n",
       "      <th>50%</th>\n",
       "      <td>0.0</td>\n",
       "    </tr>\n",
       "    <tr>\n",
       "      <th>75%</th>\n",
       "      <td>0.0</td>\n",
       "    </tr>\n",
       "    <tr>\n",
       "      <th>max</th>\n",
       "      <td>0.0</td>\n",
       "    </tr>\n",
       "  </tbody>\n",
       "</table>\n",
       "</div>"
      ],
      "text/plain": [
       "            0\n",
       "count  2048.0\n",
       "mean      0.0\n",
       "std       0.0\n",
       "min       0.0\n",
       "25%       0.0\n",
       "50%       0.0\n",
       "75%       0.0\n",
       "max       0.0"
      ]
     },
     "execution_count": 57,
     "metadata": {},
     "output_type": "execute_result"
    }
   ],
   "source": [
    "#Test prior\n",
    "priors = np.zeros(train_X.size()[0])\n",
    "for i in range(train_X.size()[0]):\n",
    "    param = train_X[i,:].view(-1)\n",
    "    priors[i] = log_prior(param)\n",
    "\n",
    "df_describe = pd.DataFrame(priors)\n",
    "prior_median = df_describe.median()\n",
    "df_describe.describe()\n"
   ]
  },
  {
   "cell_type": "code",
   "execution_count": 58,
   "metadata": {
    "executionInfo": {
     "elapsed": 7,
     "status": "ok",
     "timestamp": 1701845455624,
     "user": {
      "displayName": "Zichuan C",
      "userId": "17818169017923043377"
     },
     "user_tz": -480
    },
    "id": "2NlnmCGx-z1O",
    "metadata": {}
   },
   "outputs": [],
   "source": [
    "def approximate_log_posterior(theta):\n",
    "  ll = approximate_log_likelihood(theta)\n",
    "  lprior = log_prior(theta)\n",
    "  lp = lprior + ll \n",
    "  lp = lp.float()\n",
    "  return lp"
   ]
  },
  {
   "cell_type": "code",
   "execution_count": 59,
   "metadata": {
    "colab": {
     "base_uri": "https://localhost:8080/"
    },
    "executionInfo": {
     "elapsed": 7,
     "status": "ok",
     "timestamp": 1701845455624,
     "user": {
      "displayName": "Zichuan C",
      "userId": "17818169017923043377"
     },
     "user_tz": -480
    },
    "id": "uBb4vAYiFflr",
    "metadata": {},
    "outputId": "322fd333-b359-40b7-e9b1-4e6f942dae31"
   },
   "outputs": [
    {
     "name": "stdout",
     "output_type": "stream",
     "text": [
      "tensor([-169.9929])\n",
      "tensor([-2.6589])\n"
     ]
    }
   ],
   "source": [
    "print(approximate_log_posterior(theta=torch.Tensor(real_theta_u).view(-1)))\n",
    "print(approximate_log_posterior(theta=torch.Tensor(test_theta).view(-1)))\n",
    "\n",
    "# tensor([-156.3524])\n",
    "# tensor([-2.4095])"
   ]
  },
  {
   "cell_type": "code",
   "execution_count": 60,
   "metadata": {},
   "outputs": [
    {
     "name": "stdout",
     "output_type": "stream",
     "text": [
      "tensor([ 0.0000, -1.1298,  2.6844,  1.6701,  1.2671])\n",
      "[0.09404336, -0.8758533, 2.080699, 1.414022, 0.6108216]\n"
     ]
    }
   ],
   "source": [
    "test_theta = train_X[np.argmax(lls),:]\n",
    "print(test_theta)\n",
    "print(real_theta_u)"
   ]
  },
  {
   "cell_type": "code",
   "execution_count": 61,
   "metadata": {},
   "outputs": [],
   "source": [
    "lows_u = [0, -3, -3, -3, -2]\n",
    "highs_u = [5, 5, 5, 5, 6]"
   ]
  },
  {
   "cell_type": "code",
   "execution_count": 62,
   "metadata": {
    "metadata": {}
   },
   "outputs": [
    {
     "data": {
      "image/png": "[encoded data removed]",
      "text/plain": [
       "<Figure size 640x480 with 1 Axes>"
      ]
     },
     "metadata": {},
     "output_type": "display_data"
    },
    {
     "data": {
      "image/png": "[encoded data removed]",
      "text/plain": [
       "<Figure size 640x480 with 1 Axes>"
      ]
     },
     "metadata": {},
     "output_type": "display_data"
    },
    {
     "data": {
      "image/png": "[encoded data removed]",
      "text/plain": [
       "<Figure size 640x480 with 1 Axes>"
      ]
     },
     "metadata": {},
     "output_type": "display_data"
    },
    {
     "data": {
      "image/png": "[encoded data removed]",
      "text/plain": [
       "<Figure size 640x480 with 1 Axes>"
      ]
     },
     "metadata": {},
     "output_type": "display_data"
    },
    {
     "data": {
      "image/png": "[encoded data removed]",
      "text/plain": [
       "<Figure size 640x480 with 1 Axes>"
      ]
     },
     "metadata": {},
     "output_type": "display_data"
    }
   ],
   "source": [
    "num_of_parameters = 5\n",
    "import matplotlib.pyplot as plt \n",
    "import seaborn as sns\n",
    "\n",
    "param_list = [r'$\\lambda_1$',r'$\\delta_{ICEV}$',r'$log(\\beta_{TC})$',r'$log(\\beta_{log DR})$',r'$log (\\chi)$']\n",
    "for param_index in range(num_of_parameters):\n",
    "    shift_thetas = np.linspace(lows_u[param_index],highs_u[param_index], 200)\n",
    "\n",
    "    shift_marlls = np.zeros(200)\n",
    "\n",
    "\n",
    "    for i in range(200):\n",
    "      \n",
    "        tr_theta =list(test_theta)#list(real_theta_u) # list(last_chain_joint[0,:-1])\n",
    "        tr_theta[param_index] = shift_thetas[i]\n",
    "        shift_marlls[i] = approximate_log_posterior(torch.Tensor(tr_theta).view(-1)).item()\n",
    "       \n",
    "   \n",
    "   \n",
    "  \n",
    "    \n",
    "\n",
    "    plt.plot(shift_thetas,shift_marlls, color=\"black\")\n",
    "    plt.axvline( real_theta_u[param_index],lows_u[param_index],highs_u[param_index],linestyle=\"--\",c='blue',label='$true$')\n",
    "    plt.axvline(test_theta[param_index],-3,2,linestyle=\"--\",c='brown',label = \"best point\")\n",
    "        \n",
    " \n",
    "        \n",
    "\n",
    "    \n",
    "    plt.legend()\n",
    "    \n",
    "    \n",
    "    plt.legend(fontsize=13,loc='upper right')\n",
    "    plt.grid()\n",
    "    plt.tick_params(axis='both', labelsize=15)\n",
    "    plt.xlabel(param_list[param_index],fontsize=20)\n",
    "    plt.ylabel(\"approximate posterior\")\n",
    "    #plt.savefig('D:/onedrive/OneDrive - National University of Singapore/Desktop/MOBOLFI/result/MLBA_joint_'+param_name[param_index]+'.pdf',dpi = 1080,bbox_inches='tight') \n",
    "\n",
    "    plt.show()\n",
    "  \n",
    "\n"
   ]
  },
  {
   "cell_type": "markdown",
   "metadata": {},
   "source": [
    "DeMCMC"
   ]
  },
  {
   "cell_type": "code",
   "execution_count": 65,
   "metadata": {
    "metadata": {}
   },
   "outputs": [],
   "source": [
    "import numpy as np\n",
    "import pandas as pd\n",
    "from joblib import Parallel, delayed\n",
    "from scipy.stats import norm\n",
    "import csv\n",
    "\n",
    "class DEMCMC:\n",
    "\n",
    "    def __init__(self, param_prior, param_hyper, post_fun, post_type,\n",
    "                 param_num, chain_num, iter_num,\n",
    "                 burn_in, migrate_rate, gamma, epsilon_b):\n",
    "        \"\"\"\n",
    "        :param param_prior: a list of strings. list length should be the same as param_num.\n",
    "                        Only two types prior distribution are available now.\n",
    "                        \"norm\", for normal distribution prior.\n",
    "                        \"unif\", for uniform distribution prior.\n",
    "        :param param_hyper: a  (param_num,2) array. Entries are float type.\n",
    "                        X[i,0] is the mean (or lower bound) of norm (uniform) distribution;\n",
    "                        X[i,1] is the sd (or upper bound) of the norm (uniform) distribution;\n",
    "\n",
    "        :param post_fun: a python function for posterior calculation\n",
    "\n",
    "        :param post_type: bool type\n",
    "                    post_type = 0, if the posterior returns from 0 to 1.\n",
    "                    post_type = 1, if the posterior returns log-value.\n",
    "        :param post_module: string\n",
    "                    name of module contains the posterior function\n",
    "        :param param_num: int type.\n",
    "                    The number of estimable parameters. parameters with known fixed number were included.\n",
    "        :param chain_num: int type.\n",
    "                    The number of chains. When n<6,the chain_num = 24; otherwise, chain_num = 3*param_num.\n",
    "        :param iter_num: int type.\n",
    "                    The number of iteration.\n",
    "        :param burn_in: int type.\n",
    "                    The number of iteration for burn-in period. This part will discard for posterior sampling.\n",
    "                    Moreover, migration step happens during burn-in period to facilitate convergence\n",
    "        :param migrate_rate: float type. range from 0 to 1\n",
    "                    The rate of migration step frequency during burn-in period.\n",
    "        :param gamma: float type. A hyperparameter of De-MCMC crossover step. gamma = 2.38/sqrt(2*param_num)\n",
    "        :param epsilon_b: float or vector type. A hyperparameter of De-MCMC crossover step. epsilon \\sim uniform[-epsilon_b,epsilon_b]\n",
    "        \"\"\"\n",
    "\n",
    "        self.param_num = param_num\n",
    "        self.chain_num = chain_num\n",
    "        self.iter_num = iter_num\n",
    "        self.burn_in = burn_in\n",
    "        self.migrate_rate = migrate_rate\n",
    "        self.gamma = gamma\n",
    "        self.epsilon_b = epsilon_b\n",
    "        self.param_prior = param_prior\n",
    "        self.param_hyper = param_hyper\n",
    "        self.postfun = post_fun\n",
    "        self.post_type = post_type\n",
    "\n",
    "\n",
    "    def log_poster(self, theta):\n",
    "        \"\"\"\n",
    "        :param theta: a list. input of posterior function\n",
    "        :return: float type. the log-posterior for the dataset given input theta\n",
    "        \"\"\"\n",
    "        \n",
    "        # theta = torch.tensor(theta,dtype=torch.float32)\n",
    "        \n",
    "        if self.post_type:\n",
    "            # log-posterior is directly used.\n",
    "            res = self.postfun(theta)\n",
    "            if np.isnan(res):\n",
    "                res = -np.inf\n",
    "                print(\"Warning: A log-posterior input is NaN. The system will drop it.\")\n",
    "            elif res < -1e11:\n",
    "                res = -np.inf\n",
    "                print(\"The log-posterior input is less than -1e11.\")\n",
    "        else:\n",
    "            # log-posterior is calculated.\n",
    "            if np.isnan(self.postfun):\n",
    "                print(\"Warning: A posterior input is NaN. The system will drop it.\")\n",
    "                res = -np.inf\n",
    "            elif self.postfun < 1e-16:\n",
    "                print(\"The posterior input is less than 1e-16.\")\n",
    "                res = -np.inf\n",
    "            else:\n",
    "                res = np.log(self.postfun(theta))\n",
    "        \n",
    "        return np.float32(res)\n",
    "\n",
    "    def draw_prior(self, num, prior, hyper):\n",
    "        '''\n",
    "        return the random draw from prior\n",
    "        :param num: int type. the number of random samples.\n",
    "        :param prior: a string,either \"norm\" or \"unif\"\n",
    "        :param hyper: array(1,2).\n",
    "                    hyper[0] = mean of norm distribution (or lower bound of uniform);\n",
    "                    hyper[1] = sd of norm distribution (or upper bound of uniform);\n",
    "        :return: an array (num,1).\n",
    "        '''\n",
    "        if prior == \"norm\":\n",
    "            res = np.random.normal(loc=hyper[0], scale=hyper[1], size=num).astype(np.float32)\n",
    "            # res = scipy.stats.truncnorm.rvs(a = (0-hyper[0])/hyper[1], b = (200-hyper[0])/hyper[1] , loc= hyper[0], scale=hyper[1],size = num)\n",
    "\n",
    "        elif prior == \"unif\":\n",
    "            res = np.random.uniform(low=hyper[0], high=hyper[1], size=num).astype(np.float32)\n",
    "        else:\n",
    "            print(\"error: the prior shape is unkown.\")\n",
    "            res = np.nan\n",
    "\n",
    "        return np.float32(res)\n",
    "\n",
    "\n",
    "    def initial_chains(self):\n",
    "        \"\"\"\n",
    "        A function to return  for initial value\n",
    "          :return: a list, whose first and only element is a (chain_num, param_num) matrix\n",
    "        \"\"\"\n",
    "        # Initialize chains. The last column is for likelihood\n",
    "\n",
    "        \n",
    "        \n",
    "        ###########################################################################\n",
    "       \n",
    "            \n",
    "        # check input\n",
    "        if (len(self.param_prior) != self.param_num) | (np.shape(self.param_hyper)[0] != self.param_num):\n",
    "            print(\"error: The parameter prior or hyper input length is inconsistent with parameter number.\")\n",
    "            \n",
    "        elif np.shape(self.param_hyper)[1] != 2:\n",
    "            print(\"error: The dimension of hyperparameters are inconsistent with design, \",\n",
    "                \"please check `inital_chains` function for details.\")\n",
    "            \n",
    "        else:\n",
    "            theta_0 = np.zeros((self.chain_num, self.param_num + 1)).astype(np.float32)\n",
    "            # calculate the log-posterior for chain_num parameter sets\n",
    "            for i in range(self.param_num):\n",
    "                    theta_0[:, i] = self.draw_prior(self.chain_num, self.param_prior[i], self.param_hyper[i, :]).tolist()\n",
    "            \n",
    "            \n",
    "            for j in range(self.chain_num):\n",
    "                theta_0[j,self.param_num] = self.log_poster(theta_0[j,:-1])\n",
    "            \n",
    "\n",
    "            index_p = [-1]*self.chain_num     \n",
    "            index_p = np.where(((np.isinf(theta_0[:, self.param_num]))|(theta_0[:, self.param_num]<=(-1e11))).astype(int), range(self.chain_num), [-1]*self.chain_num)\n",
    "            \n",
    "        \n",
    "            index = []\n",
    "            for j in index_p:\n",
    "                if j>=0:\n",
    "                    index.append(j)\n",
    "\n",
    "            while len(index) > 0:\n",
    "                for i in range(self.param_num):\n",
    "                    theta_0[index, i] = self.draw_prior(len(index), self.param_prior[i], self.param_hyper[i, :]).tolist()\n",
    "                    # print(theta_0[i,self.param_num])\n",
    "                    # calculate the log-posterior for chain_num parameter sets\n",
    "                for j in index:\n",
    "                    theta_0[j,self.param_num] = self.log_poster(theta_0[j, :-1])\n",
    "\n",
    "                \n",
    "                index_p = [-1]*self.chain_num\n",
    "                index_p = np.where(((np.isinf(theta_0[:, self.param_num]))|(theta_0[:, self.param_num]<=(-1e11))).astype(int), range(self.chain_num), [-1]*self.chain_num)\n",
    "                \n",
    "                \n",
    "                index = []\n",
    "                for j in index_p:\n",
    "                    if j >= 0:\n",
    "                        index.append(j)\n",
    "       \n",
    "        return theta_0.astype(np.float32)\n",
    "\n",
    "\n",
    "    def crossover_step(self, chain_index, last_step_chains):\n",
    "        \"\"\"\n",
    "        For a given chain, randomly draw other two chains to get the difference value, the proposed value = chain_value + difference + epsilon\n",
    "        :param chain_index: int type. The index of the updated chain at this step\n",
    "        :param last_step_chains: A dataframe.\n",
    "        :return: the value of chain of this step.It is a vector whose length is param_num+1.\n",
    "\n",
    "        \"\"\"\n",
    "        # last_step_chains = last_step_chains\n",
    "        # get the previous parameter values in this chain\n",
    "        theta_prev = np.array(last_step_chains.iloc[chain_index, :-1])\n",
    "        # Randomly draw two chain indices from all chains except the current chain\n",
    "        prob = [1 / (self.chain_num - 1)] * self.chain_num\n",
    "        prob[chain_index] = 0\n",
    "        de_ChainIndex = np.random.choice(range(self.chain_num), size=2, replace=False, p=prob)\n",
    "\n",
    "        theta_m = np.array(last_step_chains.iloc[de_ChainIndex[0], :-1])\n",
    "        theta_n = np.array(last_step_chains.iloc[de_ChainIndex[1], :-1])\n",
    "\n",
    "        # Generate new theta; here, there are npar parameters to estimate in total\n",
    "        # epsilon = np.random.uniform(-self.epsilon_b, self.epsilon_b, self.param_num)\n",
    "        \n",
    "        epsilon = np.array([np.random.uniform(low, high, 1) for low, high in zip([-x for x in self.epsilon_b], self.epsilon_b)],dtype=np.float32).T\n",
    "\n",
    "        \n",
    "        theta_proposed = theta_prev + self.gamma * (theta_m - theta_n) + epsilon\n",
    "\n",
    "        proposed_post = self.log_poster(theta_proposed)\n",
    "        if np.isnan(proposed_post):  # avoid nan.\n",
    "            proposed_post = -np.inf\n",
    "        prev_post = last_step_chains.iloc[chain_index, self.param_num]\n",
    "\n",
    "        # Acceptance rate\n",
    "        alpha = np.random.uniform()\n",
    "        ratio = proposed_post - prev_post\n",
    "        if np.isnan(ratio):\n",
    "            print(\"Warning: please check the initial matrix.\")\n",
    "            ratio = -1\n",
    "        elif np.isinf(ratio) | (ratio <= -1e12):\n",
    "            ratio = -1\n",
    "        else:\n",
    "            ratio = np.exp(ratio)\n",
    "        if alpha > ratio:\n",
    "            # reject the proposed value\n",
    "            temp = np.append(theta_prev, prev_post)\n",
    "\n",
    "        else:\n",
    "            temp = np.append(theta_proposed, proposed_post)\n",
    "\n",
    "        return temp.astype(np.float32)\n",
    "\n",
    "\n",
    "\n",
    "    def migration_step(self, last_step_chains):\n",
    "\n",
    "        \"\"\"\n",
    "        migration step is optional for De-MCMC, but very useful for the convergence.\n",
    "        Normally, every 10 or 5 crossover steps during the burn-in stage, one migration step can be used.\n",
    "        :param last_step_chains: A chain_num by (param_num +1) Dataframe.\n",
    "         :return: A Dataframe, whose dimension is chain_num by (param_num +1). The last column is log-posterior value.\n",
    "        \"\"\"\n",
    "        temp = last_step_chains \n",
    "        # select the migration scale, from 2 to chain_num\n",
    "        mig_num = np.random.randint(low=2, high=self.chain_num)#+1\n",
    "        # randomly draw mig_num chains for migration.\n",
    "        mig_index = np.random.choice(a = range(self.chain_num), size=mig_num, replace=False)\n",
    "\n",
    "        prev_theta = np.array(temp.iloc[mig_index, :-1])\n",
    "        prev_post = temp.iloc[mig_index, -1].tolist()\n",
    "        # epsilon = np.random.uniform(low=-self.epsilon_b, high=self.epsilon_b, size=(mig_num, self.param_num))\n",
    "        epsilon = np.array([np.random.uniform(low, high, mig_num) for low, high in zip([-x for x in self.epsilon_b], self.epsilon_b)],dtype=np.float32).T\n",
    "        for i in range(mig_num):\n",
    "            if i != (mig_num - 1):  # not the last item\n",
    "                proposed_theta = prev_theta[(i + 1), :] + epsilon[i, :]\n",
    "            else:\n",
    "                proposed_theta = prev_theta[0, :] + epsilon[i, :]\n",
    "\n",
    "            proposed_post = self.log_poster(proposed_theta)\n",
    "            if np.isnan(proposed_post):  # aviod nan.\n",
    "                proposed_post = -np.inf\n",
    "            # whether to accept\n",
    "            alpha = np.random.uniform(low =0,high = 1,size = 1)\n",
    "            ratio = proposed_post - prev_post[i]\n",
    "            if np.isnan(ratio):\n",
    "                print(\"Warning: please check the initial matrix.\")\n",
    "                ratio = -1\n",
    "            elif np.isinf(ratio) | (ratio <= -1e12):\n",
    "                ratio = -1\n",
    "            else:\n",
    "                ratio = np.exp(ratio)\n",
    "\n",
    "            if alpha < ratio:  # accept the proposed value\n",
    "                temp.iloc[mig_index[i], :] = np.append(proposed_theta, proposed_post)\n",
    "            else:\n",
    "                temp.iloc[mig_index[i], :] = np.append(prev_theta[i, :], prev_post[i])\n",
    "\n",
    "        return temp.astype(np.float32)\n",
    "\n",
    "    def De_MCMC(self,filename, setting = 1, last_chain = np.nan) -> list:\n",
    "        \"\"\"\n",
    "        This functions to for De-MCMC sampling to return a chain trace list.\n",
    "        setting: whether to start a new demcmc sampling.\n",
    "        last_chain: array type. If setting =0, assignment the initial chain value here.\n",
    "       :return: A file with (iter_num+1) elements, each element is a Dataframe has chain_num rows and param_num+1 columns.\n",
    "       \n",
    "        \"\"\"\n",
    "        # initial chain_list\n",
    "        if setting == 1:\n",
    "            chain_init = self.initial_chains()\n",
    "            with open(filename, 'w') as file:\n",
    "                for fm in range(self.chain_num):\n",
    "                    file.write( '  '.join(map(str, chain_init[fm,:])) + '\\n')\n",
    "                file.close()\n",
    "        else:\n",
    "            chain_init = last_chain\n",
    "    \n",
    "      \n",
    "                \n",
    "                      \n",
    "        print(\"initialization is finished.\")\n",
    "       \n",
    "        chain_add = pd.DataFrame(chain_init,dtype=np.float32)  \n",
    "        print(chain_add)\n",
    "        for i in range(self.iter_num):\n",
    "            chain_add = pd.DataFrame(Parallel(n_jobs= -4)(delayed(self.crossover_step)(row, chain_add) for row in range(self.chain_num)))\n",
    "            \n",
    "            # for j in range(self.chain_num):\n",
    "                # chain_add1.iloc[j, :] = self.crossover_step(chain_index=j, last_step_chains=chain_add)\n",
    "            if (i+1)%50 == 0:\n",
    "                print(i+1, \"iterations has been done.\")\n",
    "                print(chain_add)\n",
    "            # chain_list.append(chain_add)\n",
    "            if (i <= self.burn_in) & (np.random.uniform(low = 0,high =1,size = 1) < self.migrate_rate):\n",
    "                # conduct migrate step\n",
    "                chain_add = self.migration_step(chain_add)\n",
    "                \n",
    "            chain_add2 = chain_add.to_numpy(dtype=np.float32)\n",
    "            with open(filename, 'a') as file:\n",
    "                for fm in range(self.chain_num):\n",
    "                    file.write( '  '.join(map(str, chain_add2[fm,:])) + '\\n')\n",
    "                file.close()\n",
    "                    \n",
    "            \n",
    "        return 0"
   ]
  },
  {
   "cell_type": "code",
   "execution_count": null,
   "metadata": {},
   "outputs": [],
   "source": [
    "param_num = 5\n",
    "chain_num = 9\n",
    "iter_num = 10000  \n",
    "burn_in = 0#2000\n",
    "migrate_rate =0.05# 0.3 - 0.7\n",
    "gamma = 2.38 / np.sqrt(2 * param_num)  # suggested value\n",
    "epsilon_b = [1e-3, 1e-3, 1e-3,1e-3,1e-3]\n",
    "param_prior = [\"unif\", \"unif\", \"unif\", \"unif\", \"unif\"]\n",
    "\n",
    "\n",
    "param_hyper = np.array([[0,5], [-3,5], [-3,5],[-3,5],[-2, 6]])\n",
    "def myll(theta):\n",
    "    \n",
    "    theta = torch.tensor(theta,dtype=torch.float32).view(-1)\n",
    "    ll = approximate_log_posterior(theta).float()\n",
    "    # ll = 0\n",
    "    return ll.item()\n",
    "\n",
    "\n",
    "test_list = DEMCMC(param_prior=param_prior, param_hyper=param_hyper,\n",
    "                post_fun=myll, post_type=1,\n",
    "                chain_num=chain_num, param_num=param_num, iter_num=iter_num,\n",
    "                burn_in=burn_in, migrate_rate=migrate_rate, gamma=gamma, epsilon_b=epsilon_b)\n",
    "\n",
    "\n",
    "## if start a new MCMC sampling\n",
    "# test_list.De_MCMC(filename=\"bolfi_crt_mcmc.txt\",setting=1,last_chain=np.nan)\n",
    "## if containue an existing MCMC sampling\n",
    "\n",
    "demcmc_sample_list_bolfi = pd.read_csv(\"bolfi_crt_mcmc.txt\",header=None,sep=\"  \", engine='python')\n",
    "test_list.De_MCMC(filename=\"bolfi_crt_mcmc.txt\",setting=0,last_chain=demcmc_sample_list_bolfi.tail(chain_num).to_numpy())\n",
    "\n"
   ]
  },
  {
   "cell_type": "code",
   "execution_count": null,
   "metadata": {},
   "outputs": [
    {
     "data": {
      "text/plain": [
       "array([[  4.747297  ,  -2.4941964 ,   1.7635484 ,   3.2024298 ,\n",
       "         -1.7860224 , -14.624291  ],\n",
       "       [  0.74840325,  -0.9280278 ,  -0.72946197,   3.0079803 ,\n",
       "          0.48776388, -20.85705   ],\n",
       "       [  4.0716543 ,  -2.6649377 ,   0.7836525 ,   2.981675  ,\n",
       "         -0.80692345, -15.923168  ],\n",
       "       [  0.91778076,  -2.131863  ,  -0.11157146,   4.9238667 ,\n",
       "          2.1447217 , -17.257027  ],\n",
       "       [  4.591256  ,  -1.3415343 ,   3.4265237 ,  -2.9101796 ,\n",
       "         -0.6986901 , -14.71159   ],\n",
       "       [  3.544182  ,  -0.34759548,  -0.5291595 ,   4.801671  ,\n",
       "          3.4039745 , -18.840218  ],\n",
       "       [  4.644806  ,  -2.5016892 ,   0.9097591 ,   3.099251  ,\n",
       "          0.52793354, -16.672182  ],\n",
       "       [  0.48755383,  -2.2816408 ,   2.2472205 ,  -0.822533  ,\n",
       "          0.6976512 , -17.808527  ],\n",
       "       [  3.9189322 ,  -2.9446607 ,   0.8887721 ,   3.3763494 ,\n",
       "         -1.1654992 , -16.402239  ]])"
      ]
     },
     "execution_count": 27,
     "metadata": {},
     "output_type": "execute_result"
    }
   ],
   "source": [
    "chain_num = 9\n",
    "demcmc_sample_list_bolfi = pd.read_csv(\"bolfi_crt_mcmc.txt\",header=None,sep=\"  \", engine='python')\n",
    "\n",
    "demcmc_sample_list_bolfi.tail(chain_num).to_numpy()"
   ]
  },
  {
   "cell_type": "code",
   "execution_count": null,
   "metadata": {},
   "outputs": [
    {
     "name": "stdout",
     "output_type": "stream",
     "text": [
      "10000.0\n"
     ]
    }
   ],
   "source": [
    "# collect stationary chains\n",
    "# num_of_parameters = 5\n",
    "param_num =  num_of_parameters\n",
    "chain_num = 9\n",
    "iter_num_last = len(demcmc_sample_list_bolfi)/chain_num\n",
    "print(iter_num_last)\n",
    "coords_demcmc_bolfi_last = np.zeros((1, num_of_parameters+1))\n",
    "\n",
    "# collect samples after stationary covergence\n",
    "thin = random.sample(np.arange(int(5000),int(iter_num_last), 1).tolist(),k = 1000)\n",
    "for i in thin:   \n",
    "    sample = demcmc_sample_list_bolfi.iloc[(i*chain_num):((i+1)*chain_num),:]\n",
    "    coords_demcmc_bolfi_last = np.concatenate((coords_demcmc_bolfi_last,sample),axis=0)\n",
    "coords_demcmc_bolfi_last_dgn = demcmc_sample_list_bolfi.to_numpy()\n"
   ]
  },
  {
   "cell_type": "code",
   "execution_count": 30,
   "metadata": {},
   "outputs": [],
   "source": [
    "# demcmc sample for MOBOLFI for dignosis\n",
    "# option: flatten over chains\n",
    "\n",
    "# all iterations\n",
    "chain_num = 9\n",
    "coords_demcmc_dgn_last_bolfi = np.zeros((1, num_of_parameters+1))\n",
    "\n",
    "for i in range(int(len(demcmc_sample_list_bolfi)/chain_num)):\n",
    "    sample = np.zeros((chain_num+2, num_of_parameters+1))\n",
    "    sample[0:chain_num,:] = demcmc_sample_list_bolfi.iloc[(i*chain_num):(i+1)*chain_num,:]\n",
    "    sample[chain_num,:] = demcmc_sample_list_bolfi.iloc[(i*chain_num):(i+1)*chain_num,:].median()\n",
    "    sample[chain_num+1,:] =  demcmc_sample_list_bolfi.iloc[(i*chain_num):(i+1)*chain_num,:].var()\n",
    "    coords_demcmc_dgn_last_bolfi = np.concatenate((coords_demcmc_dgn_last_bolfi,sample),axis=0)\n",
    "\n",
    "\n",
    "# iterations after stationary convergence\n",
    "thin = random.sample(np.arange(int(5000),int(iter_num_last), 1).tolist(),k = 1000)\n",
    "coords_demcmc_dgn_last_bolfi_sta = np.zeros((1, num_of_parameters+1))\n",
    "for i in thin:\n",
    "    sample = np.zeros((chain_num+2, num_of_parameters+1))\n",
    "    sample[0:chain_num,:] = demcmc_sample_list_bolfi.iloc[(i*chain_num):(i+1)*chain_num,:]\n",
    "\n",
    "    sample[chain_num,:] = demcmc_sample_list_bolfi.iloc[(i*chain_num):(i+1)*chain_num,:].median()\n",
    "    sample[chain_num+1,:] =  demcmc_sample_list_bolfi.iloc[(i*chain_num):(i+1)*chain_num,:].var()\n",
    "    coords_demcmc_dgn_last_bolfi_sta = np.concatenate((coords_demcmc_dgn_last_bolfi_sta,sample),axis=0)\n",
    "    \n",
    "    \n",
    "    \n",
    "    \n"
   ]
  },
  {
   "cell_type": "code",
   "execution_count": null,
   "metadata": {},
   "outputs": [
    {
     "name": "stdout",
     "output_type": "stream",
     "text": [
      "[[ 1.2316272e-01 -2.5544033e+00  2.5238650e+00  1.4504680e+00\n",
      "   7.0442590e-01 -7.9721484e+00]\n",
      " [ 5.1991053e-02 -1.7735131e+00  2.5563820e+00  1.5230849e+00\n",
      "   7.2402890e-01 -7.5380240e+00]\n",
      " [ 3.9474647e-02 -2.2811747e+00  2.4074168e+00  1.4031888e+00\n",
      "   6.4618840e-01 -6.0271590e+00]\n",
      " [ 5.1205143e-02 -2.5144668e+00  2.5899453e+00  1.4781958e+00\n",
      "   8.7778610e-01 -7.7777700e+00]\n",
      " [ 1.0330050e-02 -2.3727643e+00  2.6738710e+00  1.2940806e+00\n",
      "   7.3668070e-01 -9.1297530e+00]\n",
      " [ 6.9445215e-02 -2.2089832e+00  2.5703745e+00  1.8558631e+00\n",
      "   8.7774500e-01 -9.0683690e+00]\n",
      " [ 1.0069837e-01 -2.0197200e+00  2.3653538e+00  1.4328455e+00\n",
      "   7.3946140e-01 -6.4802340e+00]\n",
      " [ 2.8941142e-03 -1.9922113e+00  2.2325597e+00  1.6786374e+00\n",
      "   7.9288566e-01 -8.7244340e+00]\n",
      " [ 4.2964880e-03 -2.6197815e+00  2.6443143e+00  1.7509370e+00\n",
      "   1.0730997e+00 -9.7899950e+00]]\n",
      "[[ 7.0599970e-02 -9.8069710e-01  1.3128444e+00  9.6131930e-01\n",
      "   1.7581743e+00 -3.5913975e+00]\n",
      " [ 3.8185169e-03 -2.0254164e+00  2.2302630e+00  1.5062762e+00\n",
      "  -8.7908465e-01 -3.0492424e-04]\n",
      " [ 1.0586721e+00 -2.2627720e+00  2.5696545e+00  1.8337554e+00\n",
      "  -7.2903657e-01 -3.0473816e+00]\n",
      " [ 9.5164340e-01 -2.4436297e+00  2.7294984e+00  1.7572334e+00\n",
      "  -6.1516903e-02 -2.3926070e+00]\n",
      " [ 6.8705726e-01 -2.3594491e+00  2.4819787e+00  1.6697564e+00\n",
      "   9.4485090e-02 -6.7509910e-01]\n",
      " [ 2.5935262e-01 -2.6714940e+00  2.5822988e+00  1.5661880e+00\n",
      "  -9.8200464e-01 -1.7436944e+00]\n",
      " [ 6.9557446e-01 -2.3232940e+00  2.4659855e+00  1.6930684e+00\n",
      "   1.1216650e+00 -2.2339100e+00]\n",
      " [ 6.8653070e-02 -2.4232530e+00  2.1938372e+00  1.6415131e+00\n",
      "  -1.3021989e+00 -1.4575454e+00]\n",
      " [ 1.9303845e-01 -2.0370605e+00  2.4860916e+00  1.7890449e+00\n",
      "  -8.0851300e-01 -6.3392157e-03]]\n",
      "[[ 3.7706473   3.9504125   2.2226615  -1.2899562   0.95910954 -2.2856002 ]\n",
      " [ 2.740769   -0.47543982 -2.4792507  -1.5453812  -1.0377331  -7.1692715 ]\n",
      " [ 3.9129128   3.4741716   2.23782    -0.3206844   0.68210006 -0.86594987]\n",
      " [ 2.3814883   3.4452455   3.2985747  -1.0076083  -1.3986261  -6.608987  ]\n",
      " [ 1.0595874  -0.19091362  2.0948029  -1.9311539  -1.7946801  -7.1366353 ]\n",
      " [ 4.6473885   1.7183613   2.0964413  -2.2489555  -1.5752404  -5.9716363 ]\n",
      " [ 2.3779008   2.4042358   1.7972511  -0.90751207  0.69598585 -4.4802375 ]\n",
      " [ 4.9419937   1.7020494   0.09126548  4.640988   -1.3205632  -6.048014  ]\n",
      " [ 3.9959583   2.6891701  -2.3446198   3.318416    1.3747852  -6.2070646 ]]\n"
     ]
    }
   ],
   "source": [
    "chain_num = 9\n",
    "\n",
    "demcmc_sample_list = pd.read_csv(\"mobolfi_crt_em_mcmc.txt\",header=None,sep=\"  \", engine='python')\n",
    "print(demcmc_sample_list.tail(chain_num).to_numpy())\n",
    "demcmc_sample_list_ch = pd.read_csv(\"mobolfi_chonly_em_mcmc.txt\",header=None,sep=\"  \", engine='python')\n",
    "print(demcmc_sample_list_ch.tail(chain_num).to_numpy())\n",
    "demcmc_sample_list_rt = pd.read_csv(\"mobolfi_rtonly_em_mcmc.txt\",header=None,sep=\"  \", engine='python')\n",
    "print(demcmc_sample_list_rt.tail(chain_num).to_numpy())\n"
   ]
  },
  {
   "cell_type": "code",
   "execution_count": 32,
   "metadata": {},
   "outputs": [
    {
     "name": "stdout",
     "output_type": "stream",
     "text": [
      "54973.0\n"
     ]
    }
   ],
   "source": [
    "param_num =  num_of_parameters\n",
    "chain_num = 9\n",
    "iter_num_last = len(demcmc_sample_list)/chain_num\n",
    "print(iter_num_last)\n",
    "coords_demcmc_last = np.zeros((1, num_of_parameters+1))\n",
    "\n",
    "# collect samples after stationary covergence\n",
    "thin = random.sample(np.arange(int(47000),int(iter_num_last), 1).tolist(),k = 1000)\n",
    "for i in thin:   \n",
    "    sample = demcmc_sample_list.iloc[(i*chain_num):((i+1)*chain_num),:]\n",
    "    coords_demcmc_last = np.concatenate((coords_demcmc_last,sample),axis=0)\n",
    "coords_demcmc_last_dgn = demcmc_sample_list.to_numpy()"
   ]
  },
  {
   "cell_type": "code",
   "execution_count": 33,
   "metadata": {},
   "outputs": [
    {
     "name": "stdout",
     "output_type": "stream",
     "text": [
      "27120.0\n"
     ]
    }
   ],
   "source": [
    "param_num =  num_of_parameters\n",
    "chain_num = 9\n",
    "\n",
    "iter_num_last_ch = len(demcmc_sample_list_ch)/chain_num\n",
    "coords_demcmc_ch_last = np.zeros((1, num_of_parameters+1))\n",
    "print(iter_num_last_ch)\n",
    "# collect samples after stationary covergence\n",
    "thin = random.sample(np.arange(int(24000),int(iter_num_last_ch), 1).tolist(),k = 1000)\n",
    "for i in thin:\n",
    "    sample_ch =  demcmc_sample_list_ch.iloc[(i*chain_num):((i+1)*chain_num),:]\n",
    "    coords_demcmc_ch_last = np.concatenate((coords_demcmc_ch_last,sample_ch),axis=0)\n",
    "\n",
    "\n",
    "coords_demcmc_last_dgn_ch = demcmc_sample_list_ch.to_numpy()"
   ]
  },
  {
   "cell_type": "code",
   "execution_count": 34,
   "metadata": {},
   "outputs": [
    {
     "name": "stdout",
     "output_type": "stream",
     "text": [
      "37877.0\n"
     ]
    }
   ],
   "source": [
    "param_num =  num_of_parameters\n",
    "chain_num = 9\n",
    "\n",
    "iter_num_last_rt = len(demcmc_sample_list_rt)/chain_num\n",
    "print(iter_num_last_rt)\n",
    "coords_demcmc_rt_last = np.zeros((1, num_of_parameters+1))\n",
    "\n",
    "# collect samples after stationary covergence\n",
    "thin = random.sample(np.arange(int(30000),int(iter_num_last_rt), 1).tolist(),k = 1000)\n",
    "for i in thin:\n",
    "    sample_rt =  demcmc_sample_list_rt.iloc[(i*chain_num):((i+1)*chain_num),:]\n",
    "    coords_demcmc_rt_last = np.concatenate((coords_demcmc_rt_last,sample_rt),axis=0)\n",
    "coords_demcmc_last_dgn_rt = demcmc_sample_list_rt.to_numpy()"
   ]
  },
  {
   "cell_type": "code",
   "execution_count": null,
   "metadata": {},
   "outputs": [
    {
     "data": {
      "text/plain": [
       "(15, 60006)"
      ]
     },
     "execution_count": 35,
     "metadata": {},
     "output_type": "execute_result"
    }
   ],
   "source": [
    "coords_demcmc_mlbaclosed = pd.read_csv('cf_em_crt_mcmc.csv', dtype=np.dtype('float64'))\n",
    "\n",
    "coords_demcmc_mlbaclosed = pd.DataFrame(coords_demcmc_mlbaclosed)\n",
    "\n",
    "coords_demcmc_mlbaclosed.shape\n"
   ]
  },
  {
   "cell_type": "code",
   "execution_count": 37,
   "metadata": {},
   "outputs": [
    {
     "data": {
      "text/plain": [
       "10001.0"
      ]
     },
     "execution_count": 37,
     "metadata": {},
     "output_type": "execute_result"
    }
   ],
   "source": [
    "M = (coords_demcmc_mlbaclosed.shape[1])/(num_of_parameters+1)\n",
    "M"
   ]
  },
  {
   "cell_type": "code",
   "execution_count": 38,
   "metadata": {
    "metadata": {}
   },
   "outputs": [
    {
     "data": {
      "text/plain": [
       "10001.0"
      ]
     },
     "execution_count": 38,
     "metadata": {},
     "output_type": "execute_result"
    }
   ],
   "source": [
    "\n",
    "coords_demcmc_mlbaclosed = pd.DataFrame(coords_demcmc_mlbaclosed)\n",
    "coords_demcmc_mlbaclosed.shape # number_chain * [(npar+1)\n",
    "#(9, 56008)\n",
    "\n",
    "tmp = []\n",
    "i = 0\n",
    "\n",
    "while i<M:\n",
    "    tmp.append(pd.DataFrame(coords_demcmc_mlbaclosed.iloc[:,((num_of_parameters+1)*i):((num_of_parameters+1)*(i+1))].to_numpy(),columns = ['betaTC', \"betaDR\",\"zetaICEV\",\"lam1\",\"log_(b-A)\",\"llk\"])) \n",
    "    \n",
    "\n",
    "    i +=1\n",
    "M"
   ]
  },
  {
   "cell_type": "code",
   "execution_count": 39,
   "metadata": {},
   "outputs": [],
   "source": [
    "thin = random.sample(np.arange(int((5000)*1.5),int(M), 1).tolist(),k = 1000) #2700 samples\n",
    "coords_demcmc_mlbaclosed = []\n",
    "tmp1 = [tmp[index] for index in thin]\n",
    "coords_demcmc_mlbaclosed = pd.concat(tmp1,ignore_index=True)"
   ]
  },
  {
   "cell_type": "code",
   "execution_count": 40,
   "metadata": {
    "metadata": {}
   },
   "outputs": [],
   "source": [
    "thin = np.arange(stop = int(M), step = 1).tolist()\n",
    "coords_demcmc_mlbaclosed_dgn = []\n",
    "tmp1 = [tmp[index] for index in thin]\n",
    "coords_demcmc_mlbaclosed_dgn = pd.concat(tmp1,ignore_index=True)"
   ]
  },
  {
   "cell_type": "code",
   "execution_count": 41,
   "metadata": {},
   "outputs": [
    {
     "data": {
      "text/html": [
       "<div>\n",
       "<style scoped>\n",
       "    .dataframe tbody tr th:only-of-type {\n",
       "        vertical-align: middle;\n",
       "    }\n",
       "\n",
       "    .dataframe tbody tr th {\n",
       "        vertical-align: top;\n",
       "    }\n",
       "\n",
       "    .dataframe thead th {\n",
       "        text-align: right;\n",
       "    }\n",
       "</style>\n",
       "<table border=\"1\" class=\"dataframe\">\n",
       "  <thead>\n",
       "    <tr style=\"text-align: right;\">\n",
       "      <th></th>\n",
       "      <th>betaTC</th>\n",
       "      <th>betaDR</th>\n",
       "      <th>zetaICEV</th>\n",
       "      <th>lam1</th>\n",
       "      <th>log_(b-A)</th>\n",
       "      <th>llk</th>\n",
       "    </tr>\n",
       "  </thead>\n",
       "  <tbody>\n",
       "    <tr>\n",
       "      <th>count</th>\n",
       "      <td>15000.000000</td>\n",
       "      <td>15000.000000</td>\n",
       "      <td>15000.000000</td>\n",
       "      <td>15000.000000</td>\n",
       "      <td>15000.000000</td>\n",
       "      <td>15000.000000</td>\n",
       "    </tr>\n",
       "    <tr>\n",
       "      <th>mean</th>\n",
       "      <td>2.076093</td>\n",
       "      <td>1.411053</td>\n",
       "      <td>-0.897800</td>\n",
       "      <td>0.093983</td>\n",
       "      <td>0.600629</td>\n",
       "      <td>-2502.088888</td>\n",
       "    </tr>\n",
       "    <tr>\n",
       "      <th>std</th>\n",
       "      <td>0.128740</td>\n",
       "      <td>0.089785</td>\n",
       "      <td>0.384172</td>\n",
       "      <td>0.027551</td>\n",
       "      <td>0.121866</td>\n",
       "      <td>1.681486</td>\n",
       "    </tr>\n",
       "    <tr>\n",
       "      <th>min</th>\n",
       "      <td>1.540053</td>\n",
       "      <td>1.039981</td>\n",
       "      <td>-2.387065</td>\n",
       "      <td>0.001869</td>\n",
       "      <td>0.039605</td>\n",
       "      <td>-2513.757079</td>\n",
       "    </tr>\n",
       "    <tr>\n",
       "      <th>25%</th>\n",
       "      <td>1.990946</td>\n",
       "      <td>1.350619</td>\n",
       "      <td>-1.156678</td>\n",
       "      <td>0.075850</td>\n",
       "      <td>0.524750</td>\n",
       "      <td>-2502.985876</td>\n",
       "    </tr>\n",
       "    <tr>\n",
       "      <th>50%</th>\n",
       "      <td>2.074663</td>\n",
       "      <td>1.406712</td>\n",
       "      <td>-0.882835</td>\n",
       "      <td>0.093535</td>\n",
       "      <td>0.608103</td>\n",
       "      <td>-2501.733384</td>\n",
       "    </tr>\n",
       "    <tr>\n",
       "      <th>75%</th>\n",
       "      <td>2.160974</td>\n",
       "      <td>1.469813</td>\n",
       "      <td>-0.637411</td>\n",
       "      <td>0.112204</td>\n",
       "      <td>0.686614</td>\n",
       "      <td>-2500.852647</td>\n",
       "    </tr>\n",
       "    <tr>\n",
       "      <th>max</th>\n",
       "      <td>2.577952</td>\n",
       "      <td>1.780414</td>\n",
       "      <td>0.431994</td>\n",
       "      <td>0.237007</td>\n",
       "      <td>0.954272</td>\n",
       "      <td>-2499.460744</td>\n",
       "    </tr>\n",
       "  </tbody>\n",
       "</table>\n",
       "</div>"
      ],
      "text/plain": [
       "             betaTC        betaDR      zetaICEV          lam1     log_(b-A)  \\\n",
       "count  15000.000000  15000.000000  15000.000000  15000.000000  15000.000000   \n",
       "mean       2.076093      1.411053     -0.897800      0.093983      0.600629   \n",
       "std        0.128740      0.089785      0.384172      0.027551      0.121866   \n",
       "min        1.540053      1.039981     -2.387065      0.001869      0.039605   \n",
       "25%        1.990946      1.350619     -1.156678      0.075850      0.524750   \n",
       "50%        2.074663      1.406712     -0.882835      0.093535      0.608103   \n",
       "75%        2.160974      1.469813     -0.637411      0.112204      0.686614   \n",
       "max        2.577952      1.780414      0.431994      0.237007      0.954272   \n",
       "\n",
       "                llk  \n",
       "count  15000.000000  \n",
       "mean   -2502.088888  \n",
       "std        1.681486  \n",
       "min    -2513.757079  \n",
       "25%    -2502.985876  \n",
       "50%    -2501.733384  \n",
       "75%    -2500.852647  \n",
       "max    -2499.460744  "
      ]
     },
     "execution_count": 41,
     "metadata": {},
     "output_type": "execute_result"
    }
   ],
   "source": [
    "coords_demcmc_mlbaclosed.describe()"
   ]
  },
  {
   "cell_type": "code",
   "execution_count": 43,
   "metadata": {
    "metadata": {}
   },
   "outputs": [
    {
     "data": {
      "image/png": "[encoded data removed]",
      "text/plain": [
       "<Figure size 600x400 with 1 Axes>"
      ]
     },
     "metadata": {},
     "output_type": "display_data"
    },
    {
     "data": {
      "image/png": "[encoded data removed]",
      "text/plain": [
       "<Figure size 600x400 with 1 Axes>"
      ]
     },
     "metadata": {},
     "output_type": "display_data"
    },
    {
     "data": {
      "image/png": "[encoded data removed]",
      "text/plain": [
       "<Figure size 600x400 with 1 Axes>"
      ]
     },
     "metadata": {},
     "output_type": "display_data"
    },
    {
     "data": {
      "image/png": "[encoded data removed]",
      "text/plain": [
       "<Figure size 600x400 with 1 Axes>"
      ]
     },
     "metadata": {},
     "output_type": "display_data"
    },
    {
     "data": {
      "image/png": "[encoded data removed]",
      "text/plain": [
       "<Figure size 600x400 with 1 Axes>"
      ]
     },
     "metadata": {},
     "output_type": "display_data"
    }
   ],
   "source": [
    "import seaborn as sns\n",
    "\n",
    "\n",
    "font_size_text = 20\n",
    "fs=10\n",
    "\n",
    "param_list = [r'$\\lambda_1$',r'$log (\\chi-A)$',r'$log(\\beta_{TC})$',r'$log(\\beta_{DR})$',r'$\\delta_{ICEV}$']\n",
    "\n",
    "mobolfi_llk_index = [0,4,2,3,1]\n",
    "\n",
    "\n",
    "# betaTC,betaDR,delta,lam1,zeta\n",
    "\n",
    "closed_llk_index = [3,4,0,1,2]\n",
    "point_coords_demcmc = coords_demcmc_last_dgn[1:,:]\n",
    "point_coords_demcmc_rt = coords_demcmc_last_dgn_rt[1:,:]\n",
    "point_coords_demcmc_ch = coords_demcmc_last_dgn_ch[1:,:]\n",
    "point_coords_demcmc_cf = coords_demcmc_mlbaclosed_dgn\n",
    "point_coords_demcmc_bolfi =  coords_demcmc_bolfi_last_dgn[1:,:]\n",
    "\n",
    "\n",
    "\n",
    "\n",
    "index_joint = np.argmax(point_coords_demcmc[:,-1])\n",
    "index_rt = np.argmax(point_coords_demcmc_rt[:,-1])\n",
    "index_ch = np.argmax(point_coords_demcmc_ch[:,-1])\n",
    "index_bolfi = np.argmax(point_coords_demcmc_bolfi[:,-1])\n",
    "index_cf = np.argmax(point_coords_demcmc_cf.iloc[:,-1])\n",
    "param_name = [\"lam1\",\"log_chi\",\"log_betaTC\",\"log_betaDR\",\"deltaICEV\"]\n",
    "for i in range(num_of_parameters):\n",
    "    plt.figure(figsize=[6, 4])\n",
    "   \n",
    "    \n",
    "    if mobolfi_llk_index[i] ==1:\n",
    "        sns.kdeplot(coords_demcmc_mlbaclosed.iloc[:,closed_llk_index[i]] , label='Closed-form',bw_adjust=10, color = \"C3\",linewidth=2)\n",
    "        sns.kdeplot(coords_demcmc_last[1:,mobolfi_llk_index[i]], label='MOBOLFI with $\\Delta^*$',bw_adjust=10, color = \"C2\",linewidth=2)#,clip = (-0.5,3))#,,clip = (lows_u1[mobolfi_llk_index[i]],highs_u1[mobolfi_llk_index[i]])\n",
    "        sns.kdeplot(coords_demcmc_ch_last[1:,mobolfi_llk_index[i]], label='MOBOLFI ch with $\\Delta^*$',bw_adjust=10, color = \"C0\",linewidth=2)#,clip = (-0.5,3))\n",
    "        # sns.kdeplot(coords_demcmc_bolfi_last[1:,mobolfi_llk_index[i]], label='BOLFI with $\\Delta^*$',bw_adjust=10, color = \"C4\",linewidth=2)#,clip = (-0.5,3))#,,clip = (lows_u1[mobolfi_llk_index[i]],highs_u1[mobolfi_llk_index[i]])\n",
    "        \n",
    "    elif mobolfi_llk_index[i] ==0:\n",
    "        sns.kdeplot(coords_demcmc_mlbaclosed.iloc[:,closed_llk_index[i]] , label='Closed-form',bw_adjust=15, color = \"C3\",linewidth=2)\n",
    "        sns.kdeplot(coords_demcmc_last[1:,mobolfi_llk_index[i]], label='MOBOLFI with $\\Delta^*$',bw_adjust=10, color = \"C2\",linewidth=2)#,clip = (-0.5,3))#,,clip = (lows_u1[mobolfi_llk_index[i]],highs_u1[mobolfi_llk_index[i]])\n",
    "        sns.kdeplot(coords_demcmc_ch_last[1:,mobolfi_llk_index[i]], label='MOBOLFI ch with $\\Delta^*$',bw_adjust=10, color = \"C0\",linewidth=2)#,clip = (-0.5,3))\n",
    "        # sns.kdeplot(coords_demcmc_bolfi_last[1:,mobolfi_llk_index[i]], label='BOLFI with $\\Delta^*$',bw_adjust=10, color = \"C4\",linewidth=2)#,clip = (-0.5,3))#,,clip = (lows_u1[mobolfi_llk_index[i]],highs_u1[mobolfi_llk_index[i]])\n",
    "   \n",
    "    else:\n",
    "        sns.kdeplot(coords_demcmc_mlbaclosed.iloc[:,closed_llk_index[i]] , label='Closed-form',bw_adjust=10, color = \"C3\",linewidth=2)\n",
    "        sns.kdeplot(coords_demcmc_last[1:,mobolfi_llk_index[i]], label='MOBOLFI with $\\Delta^*$',bw_adjust=10, color = \"C2\",linewidth=2)#,clip = (-0.5,3))#,,clip = (lows_u1[mobolfi_llk_index[i]],highs_u1[mobolfi_llk_index[i]])\n",
    "        sns.kdeplot(coords_demcmc_ch_last[1:,mobolfi_llk_index[i]], label='MOBOLFI ch with $\\Delta^*$',bw_adjust=10, color = \"C0\",linewidth=2)#,clip = (-0.5,3))\n",
    "        # sns.kdeplot(coords_demcmc_bolfi_last[1:,mobolfi_llk_index[i]], label='BOLFI with $\\Delta^*$',bw_adjust=10, color = \"C4\",linewidth=2)#,clip = (-0.5,3))#,,clip = (lows_u1[mobolfi_llk_index[i]],highs_u1[mobolfi_llk_index[i]])\n",
    "   \n",
    "            \n",
    "    sns.kdeplot(coords_demcmc_rt_last[1:,mobolfi_llk_index[i]], label='MOBOLFI rt with $\\Delta^*$',bw_adjust=2,color = \"C1\",linewidth=2)#,clip = (-0.5,3))\n",
    "    sns.kdeplot(coords_demcmc_bolfi_last[1:,mobolfi_llk_index[i]], label='BOLFI with $\\Delta^*$',bw_adjust=2, color = \"C4\",linewidth=2)#,clip = (-0.5,3))#,,clip = (lows_u1[mobolfi_llk_index[i]],highs_u1[mobolfi_llk_index[i]])\n",
    "           \n",
    "    plt.plot([coords_demcmc_last[:,mobolfi_llk_index[i]].mean()],[0],marker = 'o',ls = 'none',label='MOBOLFI mean  with $\\Delta^*$',clip_on=False, color = \"C2\",alpha=.7,markersize = 10)\n",
    "    # plt.plot([point_coords_demcmc[index_joint,mobolfi_llk_index[i]]],[0],marker = 's',ls = 'none',label='MOBOLFI MAP  with $\\Delta^*$',clip_on=False, color = \"C2\",alpha=.5,markersize = 10)\n",
    "    # plt.plot(real_theta_u[mobolfi_llk_index[i]],[0],marker = 's',ls = 'none',label='closed-form MAP',clip_on=False,color = \"C3\",alpha=.5,markersize = 10)\n",
    "    plt.plot(coords_demcmc_mlbaclosed.mean().tolist()[closed_llk_index[i]],[0],marker = 'o',ls = 'none',label='Closed-form mean',clip_on=False,color = \"C3\",alpha=.7,markersize = 10)\n",
    "\n",
    "\n",
    "    plt.plot([coords_demcmc_bolfi_last[:,mobolfi_llk_index[i]].mean()],[0],marker = 'o',ls = 'none',label='BOLFI mean  with $\\Delta^*$',clip_on=False, color = \"C4\",alpha=.7,markersize = 10)\n",
    "    # plt.plot([point_coords_demcmc_bolfi[index_bolfi,mobolfi_llk_index[i]]],[0],marker = 's',ls = 'none',label='BOLFI MAP  with $\\Delta^*$',clip_on=False, color = \"C4\",alpha=.5,markersize = 10)\n",
    "    \n",
    "    plt.grid()\n",
    "    plt.tick_params(axis='both', labelsize=15)\n",
    "    plt.xlabel(param_list[i],fontsize=20)\n",
    "    plt.ylabel(\"Density\",fontsize=12)\n",
    "    plt.axis('off')\n",
    "    legend = plt.legend(fontsize=10)\n",
    "   \n",
    "    # plt.savefig('D:/onedrive/OneDrive - National University of Singapore/Desktop/MOBOLFI/result/2025_MLBA_em_post_MAP'+param_name[i]+'.pdf',dpi = 1080,bbox_inches='tight') \n",
    "\n",
    "    plt.show()\n",
    "\n",
    "\n",
    "\n",
    "\n",
    "\n"
   ]
  },
  {
   "cell_type": "code",
   "execution_count": 44,
   "metadata": {},
   "outputs": [],
   "source": [
    "def export_legend(legend):\n",
    "    fig  = legend.figure\n",
    "    fig.canvas.draw()\n",
    "    bbox  = legend.get_window_extent().transformed(fig.dpi_scale_trans.inverted())\n",
    "    fig.savefig('D:/onedrive/OneDrive - National University of Singapore/Desktop/MOBOLFI/result/2025_MLBA_em_post_2_legend.pdf', dpi=\"figure\", bbox_inches=bbox)\n",
    "\n",
    "export_legend(legend)\n",
    "plt.show()"
   ]
  }
 ],
 "metadata": {
  "colab": {
   "authorship_tag": "ABX9TyM71wzMk94lISeaFKX5a9e/",
   "provenance": []
  },
  "kernelspec": {
   "display_name": "base",
   "language": "python",
   "name": "python3"
  },
  "language_info": {
   "codemirror_mode": {
    "name": "ipython",
    "version": 3
   },
   "file_extension": ".py",
   "mimetype": "text/x-python",
   "name": "python",
   "nbconvert_exporter": "python",
   "pygments_lexer": "ipython3",
   "version": "3.9.13"
  }
 },
 "nbformat": 4,
 "nbformat_minor": 0
}
